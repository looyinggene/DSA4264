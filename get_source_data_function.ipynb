{
 "cells": [
  {
   "cell_type": "code",
   "execution_count": null,
   "id": "3c71a7f8-fb82-469b-9e2e-52b0cfa7a651",
   "metadata": {},
   "outputs": [],
   "source": [
    "import requests\n",
    "import pandas as pd\n",
    "\n",
    "def get_source_data(api_url, api_key):\n",
    "    \"\"\"\n",
    "    Function to fetch data from the LTA DataMall API for bus services.\n",
    "    \n",
    "    Parameters:\n",
    "    - api_url (str): The API endpoint URL for the data.\n",
    "    - api_key (str): Your LTA DataMall API key.\n",
    "    \n",
    "    Returns:\n",
    "    - pd.DataFrame: A pandas DataFrame containing the expanded bus services data.\n",
    "    \"\"\"\n",
    "    # Set up the headers with the API key\n",
    "    headers = {\n",
    "        'AccountKey': api_key,\n",
    "        'accept': 'application/json'\n",
    "    }\n",
    "    \n",
    "    # Make the GET request\n",
    "    response = requests.get(api_url, headers=headers)\n",
    "    \n",
    "    # Check the response status\n",
    "    if response.status_code == 200:\n",
    "        # Convert the response JSON to a DataFrame\n",
    "        data = response.json()\n",
    "        df = pd.DataFrame(data)\n",
    "        \n",
    "        # Expand the JSON in the 'value' column\n",
    "        if 'value' in df.columns:\n",
    "            result_df = pd.json_normalize(df['value'])\n",
    "            return result_df\n",
    "        else:\n",
    "            print(\"No 'value' column found in the response.\")\n",
    "            return None\n",
    "    else:\n",
    "        print(f\"Failed to retrieve data: {response.status_code}\")\n",
    "        return None"
   ]
  }
 ],
 "metadata": {
  "kernelspec": {
   "display_name": "Python 3 (ipykernel)",
   "language": "python",
   "name": "python3"
  },
  "language_info": {
   "codemirror_mode": {
    "name": "ipython",
    "version": 3
   },
   "file_extension": ".py",
   "mimetype": "text/x-python",
   "name": "python",
   "nbconvert_exporter": "python",
   "pygments_lexer": "ipython3",
   "version": "3.9.9"
  }
 },
 "nbformat": 4,
 "nbformat_minor": 5
}
