{
 "cells": [
  {
   "cell_type": "code",
   "execution_count": null,
   "id": "38829754-0e44-4adf-9270-8962b041d1c6",
   "metadata": {},
   "outputs": [],
   "source": [
    "import requests\n",
    "\n",
    "def get_geospatial_whole_island(api_url, api_key, layer_id):\n",
    "    \"\"\"\n",
    "    Function to fetch data from the LTA DataMall API for geospatial whole island.\n",
    "\n",
    "    Use cases: \n",
    "    - 2.22 Geospatial Whole Island\n",
    "    \n",
    "    Parameters:\n",
    "    - api_url (str): The API endpoint URL for geospatial data.\n",
    "    - api_key (str): Your LTA DataMall API key.\n",
    "    - layer_id (str): Name of the geospatial layer (case sensitive).\n",
    "    \n",
    "    Returns:\n",
    "    - str: A link to download the geospatial dataset.\n",
    "    \"\"\"\n",
    "    headers = {\n",
    "        'AccountKey': api_key,\n",
    "        'accept': 'application/json'\n",
    "    }\n",
    "\n",
    "    params = {'ID': layer_id}\n",
    "    \n",
    "    response = requests.get(api_url, headers=headers, params=params)\n",
    "    \n",
    "    if response.status_code == 200:\n",
    "        data = response.json()\n",
    "        if 'value' in data:\n",
    "            download_link = data['value'][0]['Link']  # Adjust index if there are multiple links\n",
    "            return download_link\n",
    "        else:\n",
    "            print(\"No 'value' key found in the response.\")\n",
    "            return None\n",
    "    else:\n",
    "        print(f\"Failed to retrieve data: {response.status_code}\")\n",
    "        return None"
   ]
  },
  {
   "cell_type": "code",
   "execution_count": null,
   "id": "b332865c-11ed-4242-a850-eb915e41b55e",
   "metadata": {},
   "outputs": [],
   "source": [
    "# Sample call\n",
    "# geospatial_link = get_geospatial_whole_island(api_url, api_key, layer_id=\"TrainStation\")\n",
    "# print(geospatial_link)"
   ]
  }
 ],
 "metadata": {
  "kernelspec": {
   "display_name": "Python 3 (ipykernel)",
   "language": "python",
   "name": "python3"
  },
  "language_info": {
   "codemirror_mode": {
    "name": "ipython",
    "version": 3
   },
   "file_extension": ".py",
   "mimetype": "text/x-python",
   "name": "python",
   "nbconvert_exporter": "python",
   "pygments_lexer": "ipython3",
   "version": "3.9.9"
  }
 },
 "nbformat": 4,
 "nbformat_minor": 5
}
