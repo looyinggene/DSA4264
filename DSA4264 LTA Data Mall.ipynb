{
 "cells": [
  {
   "cell_type": "code",
   "execution_count": 11,
   "id": "87152122-3871-40fd-b39e-02663dc3b627",
   "metadata": {},
   "outputs": [],
   "source": [
    "# !pip install python-dotenv"
   ]
  },
  {
   "cell_type": "code",
   "execution_count": 13,
   "id": "c146b782",
   "metadata": {},
   "outputs": [
    {
     "ename": "ModuleNotFoundError",
     "evalue": "No module named 'dotenv'",
     "output_type": "error",
     "traceback": [
      "\u001b[0;31m---------------------------------------------------------------------------\u001b[0m",
      "\u001b[0;31mModuleNotFoundError\u001b[0m                       Traceback (most recent call last)",
      "Cell \u001b[0;32mIn[13], line 1\u001b[0m\n\u001b[0;32m----> 1\u001b[0m \u001b[38;5;28;01mfrom\u001b[39;00m \u001b[38;5;21;01mdotenv\u001b[39;00m \u001b[38;5;28;01mimport\u001b[39;00m load_dotenv\n\u001b[1;32m      2\u001b[0m \u001b[38;5;28;01mimport\u001b[39;00m \u001b[38;5;21;01mos\u001b[39;00m\n\u001b[1;32m      3\u001b[0m \u001b[38;5;28;01mimport\u001b[39;00m \u001b[38;5;21;01mrequests\u001b[39;00m\n",
      "\u001b[0;31mModuleNotFoundError\u001b[0m: No module named 'dotenv'"
     ]
    }
   ],
   "source": [
    "from dotenv import load_dotenv\n",
    "import os\n",
    "import requests\n",
    "import pandas as pd\n",
    "\n",
    "load_dotenv()\n",
    "API_KEY = os.getenv(\"API_KEY\")\n",
    "\n",
    "# API endpoint\n",
    "API_URL = \"https://datamall2.mytransport.sg/ltaodataservice/BusServices\"\n",
    "\n",
    "\n"
   ]
  },
  {
   "cell_type": "code",
   "execution_count": 2,
   "id": "844d180e-36cc-495d-b0ee-aba4ec5bc14c",
   "metadata": {},
   "outputs": [
    {
     "name": "stdout",
     "output_type": "stream",
     "text": [
      "                                      odata.metadata  \\\n",
      "0  http://datamall2.mytransport.sg/ltaodataservic...   \n",
      "1  http://datamall2.mytransport.sg/ltaodataservic...   \n",
      "2  http://datamall2.mytransport.sg/ltaodataservic...   \n",
      "3  http://datamall2.mytransport.sg/ltaodataservic...   \n",
      "4  http://datamall2.mytransport.sg/ltaodataservic...   \n",
      "\n",
      "                                               value  \n",
      "0  {'ServiceNo': '118', 'Operator': 'GAS', 'Direc...  \n",
      "1  {'ServiceNo': '118', 'Operator': 'GAS', 'Direc...  \n",
      "2  {'ServiceNo': '118A', 'Operator': 'GAS', 'Dire...  \n",
      "3  {'ServiceNo': '118B', 'Operator': 'GAS', 'Dire...  \n",
      "4  {'ServiceNo': '119', 'Operator': 'GAS', 'Direc...  \n"
     ]
    }
   ],
   "source": [
    "# Set up the headers\n",
    "headers = {\n",
    "    'AccountKey': API_KEY,\n",
    "    'accept': 'application/json'\n",
    "}\n",
    "\n",
    "# Make the GET request\n",
    "response = requests.get(API_URL, headers=headers)\n",
    "\n",
    "# Check the response\n",
    "if response.status_code == 200:\n",
    "    data = response.json()\n",
    "    df = pd.DataFrame(data)\n",
    "    print(df.head()) \n",
    "else:\n",
    "    print(f\"Failed to retrieve data: {response.status_code}\")"
   ]
  },
  {
   "cell_type": "code",
   "execution_count": 4,
   "id": "9753992f-f6e2-4ade-8000-bbdbfa99ab81",
   "metadata": {},
   "outputs": [
    {
     "name": "stdout",
     "output_type": "stream",
     "text": [
      "  ServiceNo Operator  Direction Category OriginCode DestinationCode  \\\n",
      "0       118      GAS          1    TRUNK      65009           97009   \n",
      "1       118      GAS          2    TRUNK      97009           65009   \n",
      "2      118A      GAS          1    TRUNK      65009           96119   \n",
      "3      118B      GAS          1    TRUNK      96111           65191   \n",
      "4       119      GAS          1    TRUNK      65009           65009   \n",
      "\n",
      "  AM_Peak_Freq AM_Offpeak_Freq PM_Peak_Freq PM_Offpeak_Freq       LoopDesc  \n",
      "0         5-08            8-12         8-10           09-14                 \n",
      "1        10-10            8-11         4-08            9-12                 \n",
      "2        06-66               -            -               -                 \n",
      "3            -               -        24-57               -                 \n",
      "4        09-13           12-18        12-15           15-17  Hougang St 21  \n"
     ]
    }
   ],
   "source": [
    "# Expand the JSON in the 'value' column\n",
    "bus_services_df = pd.json_normalize(df['value'])\n",
    "\n",
    "# Now, you can access specific fields like 'ServiceNo', 'AM_Peak_Freq', and 'PM_Peak_Freq'\n",
    "# print(expanded_df[['ServiceNo', 'AM_Peak_Freq', 'PM_Peak_Freq']].head())\n",
    "\n",
    "print(bus_services_df.head())\n",
    "\n",
    "# Convert to csv\n",
    "bus_services_df.to_csv('bus_services.csv', index=False)"
   ]
  }
 ],
 "metadata": {
  "kernelspec": {
   "display_name": "Python 3 (ipykernel)",
   "language": "python",
   "name": "python3"
  },
  "language_info": {
   "codemirror_mode": {
    "name": "ipython",
    "version": 3
   },
   "file_extension": ".py",
   "mimetype": "text/x-python",
   "name": "python",
   "nbconvert_exporter": "python",
   "pygments_lexer": "ipython3",
   "version": "3.11.4"
  }
 },
 "nbformat": 4,
 "nbformat_minor": 5
}
