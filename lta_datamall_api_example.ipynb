{
 "cells": [
  {
   "cell_type": "code",
   "execution_count": null,
   "id": "236dcb55-6074-4cfe-9e4f-9117275bac7c",
   "metadata": {},
   "outputs": [],
   "source": [
    "# !pip install python-dotenv\n",
    "import requests\n",
    "import pandas as pd\n",
    "from dotenv import load_dotenv\n",
    "import os\n",
    "\n",
    "load_dotenv(\"key.env\")\n",
    "api_key = os.getenv(\"API_KEY\")\n",
    "api_url = \"https://datamall2.mytransport.sg/ltaodataservice/BusServices\" # Change based on dataset"
   ]
  },
  {
   "cell_type": "code",
   "execution_count": null,
   "id": "ec330032-e559-4778-a11c-d7dfda24cc9e",
   "metadata": {},
   "outputs": [],
   "source": [
    "%run get_bus_info_function.ipynb"
   ]
  },
  {
   "cell_type": "code",
   "execution_count": null,
   "id": "59433940-6c97-4585-a4ef-e076324cc988",
   "metadata": {},
   "outputs": [],
   "source": [
    "bus_services_df = get_bus_info(api_url, api_key)\n",
    "print(bus_services_df.head())"
   ]
  },
  {
   "cell_type": "code",
   "execution_count": null,
   "id": "fd6980d7-59a4-489c-8037-b96877751d0a",
   "metadata": {},
   "outputs": [],
   "source": [
    "%run get_passenger_volume_function.ipynb"
   ]
  },
  {
   "cell_type": "code",
   "execution_count": null,
   "id": "2fb3eedc-0997-44d1-bcf1-245b2ab4c325",
   "metadata": {},
   "outputs": [],
   "source": [
    "pv_busstop_link = get_passenger_volume(api_url, api_key, date=202408)\n",
    "print(pv_busstop_link)"
   ]
  },
  {
   "cell_type": "code",
   "execution_count": null,
   "id": "892ee038-83d0-4d92-9040-ace44fc91660",
   "metadata": {},
   "outputs": [],
   "source": [
    "%run get_geospatial_function.ipynb"
   ]
  },
  {
   "cell_type": "code",
   "execution_count": null,
   "id": "6d847e0e-f913-49a9-8747-7ceaacba4622",
   "metadata": {},
   "outputs": [],
   "source": [
    "geospatial_link = get_geospatial_whole_island(api_url, api_key, layer_id=\"TrainStation\")\n",
    "print(geospatial_link)"
   ]
  }
 ],
 "metadata": {
  "kernelspec": {
   "display_name": "Python 3 (ipykernel)",
   "language": "python",
   "name": "python3"
  },
  "language_info": {
   "codemirror_mode": {
    "name": "ipython",
    "version": 3
   },
   "file_extension": ".py",
   "mimetype": "text/x-python",
   "name": "python",
   "nbconvert_exporter": "python",
   "pygments_lexer": "ipython3",
   "version": "3.9.9"
  }
 },
 "nbformat": 4,
 "nbformat_minor": 5
}
