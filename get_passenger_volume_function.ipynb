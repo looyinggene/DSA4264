{
 "cells": [
  {
   "cell_type": "code",
   "execution_count": null,
   "id": "933f7695-22f0-43d6-8ac9-387db6926eee",
   "metadata": {},
   "outputs": [],
   "source": [
    "def get_passenger_volume(api_url, api_key, date=None):\n",
    "    \"\"\"\n",
    "    Function to fetch a link that points to data from the LTA DataMall.\n",
    "\n",
    "    Use cases:\n",
    "    - 2.5 Passenger Volume By Bus Stops \n",
    "    - 2.6 Passenger Volume By Origin Destination Bus Stops \n",
    "    - 2.7 Passenger Volume By Origin Destination Train Stations\n",
    "    - 2.8 Passenger Volume By Train Stations\n",
    "    \n",
    "    Parameters:\n",
    "    - api_url (str): The API endpoint URL for passenger volume data.\n",
    "    - api_key (str): Your LTA DataMall API key.\n",
    "    - date (str): Optional Date parameter in the format 'YYYYMM' (e.g., '202108' for August 2021).\n",
    "    \n",
    "    Returns:\n",
    "    - str: A link to download the dataset.\n",
    "    \"\"\"\n",
    "    headers = {\n",
    "        'AccountKey': api_key,\n",
    "        'accept': 'application/json'\n",
    "    }\n",
    "\n",
    "    params = {'Date': date} if date else {}\n",
    "    \n",
    "    response = requests.get(api_url, headers=headers, params=params)\n",
    "    \n",
    "    if response.status_code == 200:\n",
    "        data = response.json()\n",
    "        if 'value' in data:\n",
    "            download_link = data['value'][0]['Link']  # Adjust index if there are multiple links\n",
    "            return download_link\n",
    "        else:\n",
    "            print(\"No 'value' key found in the response.\")\n",
    "            return None\n",
    "    else:\n",
    "        print(f\"Failed to retrieve data: {response.status_code}\")\n",
    "        return None"
   ]
  },
  {
   "cell_type": "code",
   "execution_count": null,
   "id": "36bb4ab6-738e-482d-9549-ff2635b977bc",
   "metadata": {},
   "outputs": [],
   "source": [
    "# Sample call\n",
    "# pv_busstop_link = get_passenger_volume(api_url, api_key, date=202408)\n",
    "# print(pv_busstop_link)"
   ]
  }
 ],
 "metadata": {
  "kernelspec": {
   "display_name": "Python 3 (ipykernel)",
   "language": "python",
   "name": "python3"
  },
  "language_info": {
   "codemirror_mode": {
    "name": "ipython",
    "version": 3
   },
   "file_extension": ".py",
   "mimetype": "text/x-python",
   "name": "python",
   "nbconvert_exporter": "python",
   "pygments_lexer": "ipython3",
   "version": "3.9.9"
  }
 },
 "nbformat": 4,
 "nbformat_minor": 5
}
