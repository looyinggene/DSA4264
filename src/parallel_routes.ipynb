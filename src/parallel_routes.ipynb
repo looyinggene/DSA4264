{
 "cells": [
  {
   "cell_type": "markdown",
   "id": "4af28dbf-145a-4513-bb7b-20d8b5313806",
   "metadata": {},
   "source": [
    "## Import Libraries"
   ]
  },
  {
   "cell_type": "code",
   "execution_count": null,
   "id": "32cdf7ab-753f-4dd0-952c-9896ba4b9cdf",
   "metadata": {},
   "outputs": [],
   "source": [
    "!pip install xlrd"
   ]
  },
  {
   "cell_type": "code",
   "execution_count": null,
   "id": "fac100ad-2907-40b6-ab80-22954a686fad",
   "metadata": {},
   "outputs": [],
   "source": [
    "# !pip install python-dotenv\n",
    "import requests\n",
    "import pandas as pd\n",
    "import matplotlib.pyplot as plt\n",
    "import geopandas as gpd\n",
    "from dotenv import load_dotenv\n",
    "import os\n",
    "os.environ['OGR_GEOMETRY_ACCEPT_UNCLOSED_RING'] = 'NO'\n",
    "import zipfile\n",
    "import shutil\n",
    "import numpy as np\n",
    "import pandas as pd\n",
    "import geopandas as gpd\n",
    "from shapely.geometry import Point, LineString\n",
    "\n",
    "pd.set_option('display.max_rows', None)\n",
    "pd.set_option('display.max_columns', None)\n",
    "# Retrieving api key\n",
    "load_dotenv(\"../key.env\")\n",
    "api_key = os.getenv(\"API_KEY\")\n",
    "print(api_key)"
   ]
  },
  {
   "cell_type": "markdown",
   "id": "3b1e6d97-d0bc-4d54-bf94-a2983734b879",
   "metadata": {},
   "source": [
    "## Import Datasets"
   ]
  },
  {
   "cell_type": "code",
   "execution_count": null,
   "id": "e1a8dd2f-fe1c-4600-9f56-309e5edd234c",
   "metadata": {},
   "outputs": [],
   "source": [
    "%run get_bus_info_function.ipynb\n",
    "bus_services_df = get_bus_info(\"https://datamall2.mytransport.sg/ltaodataservice/BusServices\", api_key)\n",
    "bus_routes_df = get_bus_info(\"https://datamall2.mytransport.sg/ltaodataservice/BusRoutes\", api_key)\n",
    "bus_stops_df = get_bus_info(\"https://datamall2.mytransport.sg/ltaodataservice/BusStops\", api_key)\n",
    "train_stations = pd.read_excel(\"../datasets/Train_Stations.xls\")"
   ]
  },
  {
   "cell_type": "code",
   "execution_count": null,
   "id": "a1038c45-b69a-4ee6-ace9-3988abec4734",
   "metadata": {},
   "outputs": [],
   "source": [
    "%run get_geospatial_function.ipynb\n",
    "geospatial_train_path = \"../datasets/geospatial_layer/TrainStation_Jul2024/RapidTransitSystemStation.shp\"\n",
    "geospatial_train_gdf = gpd.read_file(geospatial_train_path)\n",
    "geospatial_train_gdf['geometry'] = geospatial_train_gdf['geometry'].buffer(0)"
   ]
  },
  {
   "cell_type": "markdown",
   "id": "4fe0d3a1-d7c6-4370-be2e-b9c5671147c0",
   "metadata": {},
   "source": [
    "## Data Preprocessing"
   ]
  },
  {
   "cell_type": "code",
   "execution_count": null,
   "id": "cc230f33-f2e3-45c5-ab2e-6ee3c356a94e",
   "metadata": {},
   "outputs": [],
   "source": [
    "# Filter for Trunk Services\n",
    "trunk_buses_df = bus_services_df[bus_services_df['Category'] == \"TRUNK\"]\n",
    "trunk_buses_df = trunk_buses_df['ServiceNo']\n",
    "trunk_bus_routes_df = pd.merge(trunk_buses_df, bus_routes_df,\n",
    "                               on='ServiceNo', how='inner')\n",
    "trunk_bus_routes_df = trunk_bus_routes_df[['ServiceNo', 'Direction', 'StopSequence', 'BusStopCode']]\n",
    "geospatial_bus_route = pd.merge(trunk_bus_routes_df, bus_stops_df,\n",
    "                                on='BusStopCode', how='inner')\n",
    "geospatial_bus_route = geospatial_bus_route[['ServiceNo', 'Direction', 'StopSequence', 'BusStopCode', 'Latitude', 'Longitude']]\n",
    "geospatial_bus_route.head()"
   ]
  },
  {
   "cell_type": "markdown",
   "id": "058b07f8-2578-4238-a2e2-5b4bce4231aa",
   "metadata": {},
   "source": [
    "## Bus Lines"
   ]
  },
  {
   "cell_type": "code",
   "execution_count": null,
   "id": "9cde93e4-6dff-41b1-a0b8-226fa7138aa2",
   "metadata": {},
   "outputs": [],
   "source": [
    "# Ensure bus stops have the same CRS\n",
    "geospatial_bus_route_gdf = gpd.GeoDataFrame(\n",
    "    geospatial_bus_route,\n",
    "    geometry=gpd.points_from_xy(geospatial_bus_route.Longitude, geospatial_bus_route.Latitude),\n",
    "    crs=\"EPSG:4326\"\n",
    ")\n",
    "\n",
    "# Group by each service and direction, and create LineStrings based on sorted StopSequence\n",
    "def create_line(group):\n",
    "    # Convert each stop in the group to a Point and create a LineString\n",
    "    return LineString(group.sort_values('StopSequence').geometry.tolist())\n",
    "\n",
    "# Apply the function to create a GeoDataFrame with LineStrings for each bus route\n",
    "bus_routes_lines = geospatial_bus_route_gdf.groupby(['ServiceNo', 'Direction']).apply(create_line).reset_index()\n",
    "bus_routes_lines.columns = ['ServiceNo', 'Direction', 'geometry']\n",
    "\n",
    "# Convert to a GeoDataFrame\n",
    "bus_routes_lines_gdf = gpd.GeoDataFrame(bus_routes_lines, geometry='geometry', crs=\"EPSG:4326\")\n",
    "\n",
    "# Check your final bus_routes_lines_gdf\n",
    "print(bus_routes_lines_gdf.head())"
   ]
  },
  {
   "cell_type": "markdown",
   "id": "c4f25cf8-219c-44c1-ab75-8a1beca72eaa",
   "metadata": {},
   "source": [
    "## Train Lines"
   ]
  },
  {
   "cell_type": "code",
   "execution_count": null,
   "id": "2f62a7ba-78a8-43a3-b103-ad6ed271773c",
   "metadata": {},
   "outputs": [],
   "source": [
    "# Step 1: Union the geometries for the same station\n",
    "unioned_gdf = geospatial_train_gdf.dissolve(by='STN_NAM_DE',aggfunc='first')\n",
    "\n",
    "# Step 2: Calculate the centroid of the unioned polygon\n",
    "unioned_gdf['centroid'] = unioned_gdf.centroid\n",
    "\n",
    "# Optional Step: Replace geometry with centroid point\n",
    "unioned_gdf['geometry'] = unioned_gdf['centroid']\n",
    "\n",
    "# Reset index to clean up\n",
    "unioned_gdf.reset_index(inplace=True)\n",
    "\n",
    "# Function to normalize station names in train_stations_df\n",
    "def normalize_station_name(name):\n",
    "    return name.strip().upper()  # Ensure names are uppercase for consistent merging\n",
    "\n",
    "# Apply normalization function to train_stations_df\n",
    "train_stations['Normalized_Station'] = train_stations['MRT_Station'].apply(normalize_station_name)\n",
    "\n",
    "# Create a column to append \" MRT STATION\" or \" LRT STATION\" based on the MRT_Line\n",
    "train_stations['Station_MRT_LRT'] = train_stations.apply(\n",
    "    lambda row: f\"{row['Normalized_Station']} MRT STATION\" if \"LRT\" not in row['MRT_Line'] else f\"{row['Normalized_Station']} LRT STATION\",\n",
    "    axis=1\n",
    ")\n",
    "\n",
    "# Apply normalization to geospatial_train_df\n",
    "# Strip ' MRT STATION' and ' LRT STATION' and normalize to uppercase\n",
    "unioned_gdf['Normalized_Station'] = unioned_gdf['STN_NAM_DE'].str.strip().str.upper()\n",
    "\n",
    "# Perform the merge on 'Station_MRT_LRT' from train_stations and 'Normalized_Station' from unioned_gdf\n",
    "merged_train_stations = train_stations.merge(\n",
    "    unioned_gdf,\n",
    "    how='left',\n",
    "    left_on='Station_MRT_LRT',\n",
    "    right_on='Normalized_Station'\n",
    ")\n",
    "\n",
    "merged_train_stations = merged_train_stations[['Station_Code', 'MRT_Station', 'MRT_Line', 'TYP_CD_DES', 'geometry']]\n",
    "\n",
    "#  Convert Pandas DataFrame to a GeoDataFrame\n",
    "gdf = gpd.GeoDataFrame(merged_train_stations, geometry='geometry')\n",
    "\n",
    "#  Reproject the GeoDataFrame to EPSG:4326 (WGS 84 - latitude/longitude)\n",
    "gdf_4326 = gdf.to_crs(epsg=4326)\n",
    "\n",
    "# Extract Longitude and Latitude from the reprojected geometries\n",
    "gdf_4326['Longitude'] = gdf_4326.geometry.x\n",
    "gdf_4326['Latitude'] = gdf_4326.geometry.y\n",
    "\n",
    "#  Convert back to a Pandas DataFrame (if you don't need the geometry anymore)\n",
    "geospatial_train_station = pd.DataFrame(gdf_4326)\n",
    "\n",
    "geospatial_train_station = geospatial_train_station[['Station_Code', 'MRT_Station', 'MRT_Line', 'Longitude', 'Latitude']]\n",
    "geospatial_train_station['Train_Line'] = geospatial_train_station['Station_Code'].str.extract(r'([A-Za-z]+)')\n",
    "geospatial_train_station['Station_No'] = geospatial_train_station['Station_Code'].str.extract(r'(\\d+)').fillna(1).astype(int)\n",
    "geospatial_train_station.head()"
   ]
  },
  {
   "cell_type": "code",
   "execution_count": null,
   "id": "abf8f675-1430-428c-a29a-ee3a38808c76",
   "metadata": {},
   "outputs": [],
   "source": [
    "# Convert to GeoDataFrame\n",
    "train_stations_gdf = gpd.GeoDataFrame(\n",
    "    geospatial_train_station,\n",
    "    geometry=gpd.points_from_xy(geospatial_train_station.Longitude, geospatial_train_station.Latitude),\n",
    "    crs=\"EPSG:4326\"\n",
    ")\n",
    "\n",
    "# Step 2: Sort and group by train line to form continuous line segments for each line\n",
    "train_stations_gdf = train_stations_gdf.sort_values(by=['Train_Line', 'Station_No'])\n",
    "\n",
    "# Group by each train line to create LineString for each line\n",
    "train_lines_gdf = train_stations_gdf.groupby('Train_Line').apply(\n",
    "    lambda group: LineString(group.geometry.tolist()) if len(group) > 1 else None\n",
    ").reset_index(name='geometry')\n",
    "\n",
    "# Filter out rows where geometry is None (i.e., groups with less than 2 geometries)\n",
    "train_lines_gdf = train_lines_gdf[train_lines_gdf['geometry'].notna()]\n",
    "\n",
    "# Convert the result into a GeoDataFrame, which represents each train line as a LineString\n",
    "train_lines_gdf = gpd.GeoDataFrame(train_lines_gdf, geometry='geometry', crs=\"EPSG:4326\")\n",
    "\n",
    "# Display the first few rows to confirm\n",
    "print(train_lines_gdf.head())"
   ]
  },
  {
   "cell_type": "code",
   "execution_count": null,
   "id": "33988930-6c8e-4ee0-b00a-6cc72e5e0ccc",
   "metadata": {},
   "outputs": [],
   "source": [
    "# Assuming you have train_lines_gdf with unique Train_Line values\n",
    "unique_lines = train_lines_gdf['Train_Line'].unique()\n",
    "\n",
    "# Create a colormap\n",
    "colors = plt.cm.get_cmap('tab10', len(unique_lines))  # Using 'tab10' colormap for distinct colors\n",
    "\n",
    "# Plot the bus routes (lines) and train stations (points)\n",
    "fig, ax = plt.subplots(figsize=(10, 10))\n",
    "\n",
    "# Plot each train line with a unique color\n",
    "for i, line in enumerate(unique_lines):\n",
    "    line_data = train_lines_gdf[train_lines_gdf['Train_Line'] == line]\n",
    "    line_data.plot(ax=ax, color=colors(i), linewidth=2, label=line)\n",
    "\n",
    "plt.legend()\n",
    "plt.title(\"Train Stations and Routes\")\n",
    "plt.xlabel(\"Longitude\")\n",
    "plt.ylabel(\"Latitude\")\n",
    "plt.grid(True)\n",
    "plt.show()"
   ]
  }
 ],
 "metadata": {
  "kernelspec": {
   "display_name": "Python 3 (ipykernel)",
   "language": "python",
   "name": "python3"
  },
  "language_info": {
   "codemirror_mode": {
    "name": "ipython",
    "version": 3
   },
   "file_extension": ".py",
   "mimetype": "text/x-python",
   "name": "python",
   "nbconvert_exporter": "python",
   "pygments_lexer": "ipython3",
   "version": "3.9.9"
  }
 },
 "nbformat": 4,
 "nbformat_minor": 5
}
