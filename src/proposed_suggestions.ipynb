{
 "cells": [
  {
   "cell_type": "markdown",
   "id": "9e8bcc70-beb2-467a-81d4-505394243e8f",
   "metadata": {},
   "source": [
    "## Importing libraries"
   ]
  },
  {
   "cell_type": "code",
   "execution_count": 1,
   "id": "45fb0c24-0a96-4594-a95e-41800ff22275",
   "metadata": {},
   "outputs": [],
   "source": [
    "import requests\n",
    "import pandas as pd\n",
    "import matplotlib.pyplot as plt\n",
    "import geopandas as gpd\n",
    "from dotenv import load_dotenv\n",
    "import os\n",
    "import zipfile\n",
    "import shutil\n",
    "import numpy as np\n",
    "from sklearn.preprocessing import MinMaxScaler\n",
    "from sklearn.preprocessing import StandardScaler\n",
    "from sklearn.decomposition import PCA\n",
    "\n",
    "pd.set_option('display.max_rows', None)\n",
    "pd.set_option('display.max_columns', None)\n",
    "# Retrieving api key\n",
    "load_dotenv(\"../key.env\")\n",
    "api_key = os.getenv(\"API_KEY\")"
   ]
  },
  {
   "cell_type": "markdown",
   "id": "36b5ead6-7e59-4a52-98cf-1a86096a5035",
   "metadata": {},
   "source": [
    "## Reading datasets"
   ]
  },
  {
   "cell_type": "code",
   "execution_count": 2,
   "id": "13121c14-2adf-43a2-a5d1-e83bcf9f982c",
   "metadata": {},
   "outputs": [],
   "source": [
    "%run get_bus_info_function.ipynb\n",
    "bus_services_df = get_bus_info(\"https://datamall2.mytransport.sg/ltaodataservice/BusServices\", api_key)\n",
    "bus_routes_df = get_bus_info(\"https://datamall2.mytransport.sg/ltaodataservice/BusRoutes\", api_key)\n",
    "bus_stops_df = get_bus_info(\"https://datamall2.mytransport.sg/ltaodataservice/BusStops\", api_key)"
   ]
  },
  {
   "cell_type": "code",
   "execution_count": 3,
   "id": "03accf19-8a8d-4191-9a78-06d38d22f160",
   "metadata": {},
   "outputs": [
    {
     "name": "stdout",
     "output_type": "stream",
     "text": [
      "<class 'pandas.core.frame.DataFrame'>\n",
      "RangeIndex: 20 entries, 0 to 19\n",
      "Data columns (total 5 columns):\n",
      " #   Column                 Non-Null Count  Dtype  \n",
      "---  ------                 --------------  -----  \n",
      " 0   Unnamed: 0             20 non-null     int64  \n",
      " 1   ServiceNo              20 non-null     object \n",
      " 2   TotalStops             20 non-null     int64  \n",
      " 3   WeightedParallelScore  20 non-null     float64\n",
      " 4   TrainLineParallelData  20 non-null     object \n",
      "dtypes: float64(1), int64(2), object(2)\n",
      "memory usage: 928.0+ bytes\n",
      "None\n"
     ]
    }
   ],
   "source": [
    "top_20_overlap_service = pd.read_csv(\"../datasets/overlap_routes/filtered_final_results.csv\").head(20)\n",
    "top_20_overlap_service['ServiceNo'] = top_20_overlap_service['ServiceNo'].astype(str)\n",
    "print(top_20_overlap_service.info())"
   ]
  },
  {
   "cell_type": "markdown",
   "id": "c1b1ad7f-f3f5-4df2-ad9b-966296b7b5a4",
   "metadata": {},
   "source": [
    "## Availability of alternative bus routes"
   ]
  },
  {
   "cell_type": "code",
   "execution_count": 4,
   "id": "64556735-c509-4f2e-925c-f5fbb210a7a4",
   "metadata": {},
   "outputs": [
    {
     "name": "stdout",
     "output_type": "stream",
     "text": [
      "  ServiceNo                                    OrderedBusStops\n",
      "0        10  [75009, 75009, 76059, 76059, 76069, 76069, 962...\n",
      "1       100  [66009, 66009, 62129, 62129, 62119, 62119, 610...\n",
      "2      100A  [66009, 62129, 62119, 61049, 61039, 70069, 700...\n",
      "3       101  [66009, 62131, 62141, 63011, 63021, 63031, 630...\n",
      "4       102  [64009, 64041, 64051, 64061, 64401, 67739, 677...\n"
     ]
    }
   ],
   "source": [
    "# Filter for Trunk Services\n",
    "trunk_buses_df = bus_services_df[bus_services_df['Category'] == \"TRUNK\"]\n",
    "trunk_buses_df = trunk_buses_df['ServiceNo']\n",
    "trunk_bus_routes_df = pd.merge(trunk_buses_df, bus_routes_df, on='ServiceNo', how='inner')\n",
    "\n",
    "# Select relevant columns\n",
    "trunk_bus_routes_df = trunk_bus_routes_df[['ServiceNo', 'Direction', 'StopSequence', 'BusStopCode']]\n",
    "\n",
    "# Sort the trunk bus routes by Direction and StopSequence\n",
    "trunk_bus_routes_df.sort_values(by=['ServiceNo', 'Direction', 'StopSequence'], inplace=True)\n",
    "\n",
    "# Group by ServiceNo and create an ordered list of BusStopCodes for each service\n",
    "ordered_stops = trunk_bus_routes_df.groupby('ServiceNo').agg(\n",
    "    OrderedBusStops=('BusStopCode', lambda x: list(x))\n",
    ").reset_index()\n",
    "\n",
    "# Display the result\n",
    "print(ordered_stops.head())"
   ]
  },
  {
   "cell_type": "code",
   "execution_count": 5,
   "id": "bab0407e-1e2c-450f-8cb3-a48753386df4",
   "metadata": {},
   "outputs": [
    {
     "name": "stdout",
     "output_type": "stream",
     "text": [
      "   Original_ServiceNo Matched_ServiceNo TrainLine\n",
      "1                  67               974        BP\n",
      "2                  67              974A        BP\n",
      "3                  67               976        BP\n",
      "4                  67                 2        EW\n",
      "5                  67               139        NE\n",
      "6                  67               147        NE\n",
      "7                  67                23        NE\n",
      "8                  67                64        NE\n",
      "9                  67                65        NE\n",
      "10                 67               857        NE\n",
      "13                107              107M        DT\n",
      "14                107               175        DT\n",
      "15                107                61        DT\n",
      "16                107               100        NS\n",
      "17                107                56        NS\n",
      "18                107                57        NS\n",
      "19                107               961        NS\n",
      "20                107              961M        NS\n",
      "21                107                10        NS\n",
      "22                107               130        NS\n"
     ]
    }
   ],
   "source": [
    "import pandas as pd\n",
    "import ast  # To safely evaluate string representations of dictionaries/lists\n",
    "\n",
    "# A list to store results\n",
    "results = []\n",
    "matched_service_numbers = set()  # Set to track unique matched ServiceNo\n",
    "\n",
    "# Iterate over each row in top_20_pv_trend\n",
    "for idx, row in top_20_overlap_service.iterrows():\n",
    "    # Convert TrainLineParallelData string to dictionary\n",
    "    parallel_data = ast.literal_eval(row['TrainLineParallelData'])\n",
    "    original_service_no = row['ServiceNo']  # Save the original ServiceNo\n",
    "    \n",
    "    for line, data in parallel_data.items():\n",
    "        for entry in data:\n",
    "            parallel_stop_codes = entry['ParallelStopCodes']\n",
    "            # Check against the ordered_stops\n",
    "            for _, stop_row in ordered_stops.iterrows():\n",
    "                stop_codes = stop_row['OrderedBusStops']\n",
    "                # Check if all ParallelStopCodes are present in StopCodes\n",
    "                if all(code in stop_codes for code in parallel_stop_codes):\n",
    "                    matched_service_no = stop_row['ServiceNo']\n",
    "                    # Check if the matched service number is unique\n",
    "                    if matched_service_no not in matched_service_numbers:\n",
    "                        matched_service_numbers.add(matched_service_no)\n",
    "                        # If found, append the result\n",
    "                        results.append((original_service_no, matched_service_no, line))\n",
    "\n",
    "# Convert results to a DataFrame for better visualization\n",
    "results_df = pd.DataFrame(results, columns=['Original_ServiceNo', 'Matched_ServiceNo', 'TrainLine'])\n",
    "\n",
    "# Drop duplicates based on Original_ServiceNo and Matched_ServiceNo\n",
    "results_df = results_df.drop_duplicates()\n",
    "\n",
    "# Remove rows where Matched_ServiceNo is equal to Original_ServiceNo\n",
    "results_df = results_df[results_df['Matched_ServiceNo'] != results_df['Original_ServiceNo']]\n",
    "\n",
    "print(results_df.head(20))"
   ]
  }
 ],
 "metadata": {
  "kernelspec": {
   "display_name": "Python 3 (ipykernel)",
   "language": "python",
   "name": "python3"
  },
  "language_info": {
   "codemirror_mode": {
    "name": "ipython",
    "version": 3
   },
   "file_extension": ".py",
   "mimetype": "text/x-python",
   "name": "python",
   "nbconvert_exporter": "python",
   "pygments_lexer": "ipython3",
   "version": "3.9.9"
  }
 },
 "nbformat": 4,
 "nbformat_minor": 5
}
