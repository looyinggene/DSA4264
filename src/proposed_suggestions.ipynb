{
 "cells": [
  {
   "cell_type": "markdown",
   "id": "9e8bcc70-beb2-467a-81d4-505394243e8f",
   "metadata": {},
   "source": [
    "## Importing libraries"
   ]
  },
  {
   "cell_type": "code",
   "execution_count": 1,
   "id": "45fb0c24-0a96-4594-a95e-41800ff22275",
   "metadata": {},
   "outputs": [],
   "source": [
    "import requests\n",
    "import pandas as pd\n",
    "import matplotlib.pyplot as plt\n",
    "import geopandas as gpd\n",
    "from dotenv import load_dotenv\n",
    "import os\n",
    "import zipfile\n",
    "import shutil\n",
    "import numpy as np\n",
    "from sklearn.preprocessing import MinMaxScaler\n",
    "from sklearn.preprocessing import StandardScaler\n",
    "from sklearn.decomposition import PCA\n",
    "import pandas as pd\n",
    "import ast  # To safely evaluate string representations of dictionaries/lists\n",
    "\n",
    "pd.set_option('display.max_rows', None)\n",
    "pd.set_option('display.max_columns', None)\n",
    "# Retrieving api key\n",
    "load_dotenv(\"../key.env\")\n",
    "api_key = os.getenv(\"API_KEY\")"
   ]
  },
  {
   "cell_type": "markdown",
   "id": "36b5ead6-7e59-4a52-98cf-1a86096a5035",
   "metadata": {},
   "source": [
    "## Reading datasets"
   ]
  },
  {
   "cell_type": "code",
   "execution_count": 2,
   "id": "13121c14-2adf-43a2-a5d1-e83bcf9f982c",
   "metadata": {},
   "outputs": [],
   "source": [
    "%run get_bus_info_function.ipynb\n",
    "bus_services_df = get_bus_info(\"https://datamall2.mytransport.sg/ltaodataservice/BusServices\", api_key)\n",
    "bus_routes_df = get_bus_info(\"https://datamall2.mytransport.sg/ltaodataservice/BusRoutes\", api_key)\n",
    "bus_stops_df = get_bus_info(\"https://datamall2.mytransport.sg/ltaodataservice/BusStops\", api_key)"
   ]
  },
  {
   "cell_type": "code",
   "execution_count": 12,
   "id": "7128cc25-9128-4de1-a5fc-383d1aa32253",
   "metadata": {},
   "outputs": [
    {
     "name": "stdout",
     "output_type": "stream",
     "text": [
      "    ServiceNo Operator  Direction Category OriginCode DestinationCode  \\\n",
      "539        67     SMRT          1    TRUNK      44009           75009   \n",
      "540        67     SMRT          2    TRUNK      75009           44009   \n",
      "\n",
      "    AM_Peak_Freq AM_Offpeak_Freq PM_Peak_Freq PM_Offpeak_Freq LoopDesc  \n",
      "539        08-09           08-11        10-11           09-11           \n",
      "540        08-09           08-11        10-12           09-10           \n"
     ]
    }
   ],
   "source": [
    "bus_67 = bus_services_df[bus_services_df['ServiceNo'] == \"67\"]\n",
    "print(bus_67)"
   ]
  },
  {
   "cell_type": "code",
   "execution_count": 3,
   "id": "03accf19-8a8d-4191-9a78-06d38d22f160",
   "metadata": {},
   "outputs": [
    {
     "name": "stdout",
     "output_type": "stream",
     "text": [
      "<class 'pandas.core.frame.DataFrame'>\n",
      "RangeIndex: 20 entries, 0 to 19\n",
      "Data columns (total 5 columns):\n",
      " #   Column                 Non-Null Count  Dtype  \n",
      "---  ------                 --------------  -----  \n",
      " 0   Unnamed: 0             20 non-null     int64  \n",
      " 1   ServiceNo              20 non-null     object \n",
      " 2   TotalStops             20 non-null     int64  \n",
      " 3   WeightedParallelScore  20 non-null     float64\n",
      " 4   TrainLineParallelData  20 non-null     object \n",
      "dtypes: float64(1), int64(2), object(2)\n",
      "memory usage: 928.0+ bytes\n",
      "None\n"
     ]
    }
   ],
   "source": [
    "top_20_overlap_service = pd.read_csv(\"../datasets/overlap_routes/filtered_final_results.csv\").head(20)\n",
    "top_20_overlap_service['ServiceNo'] = top_20_overlap_service['ServiceNo'].astype(str)\n",
    "print(top_20_overlap_service.info())"
   ]
  },
  {
   "cell_type": "markdown",
   "id": "c1b1ad7f-f3f5-4df2-ad9b-966296b7b5a4",
   "metadata": {},
   "source": [
    "## Availability of alternative bus routes"
   ]
  },
  {
   "cell_type": "code",
   "execution_count": 4,
   "id": "64556735-c509-4f2e-925c-f5fbb210a7a4",
   "metadata": {},
   "outputs": [
    {
     "name": "stdout",
     "output_type": "stream",
     "text": [
      "  ServiceNo                                    OrderedBusStops\n",
      "0        10  [75009, 75009, 76059, 76059, 76069, 76069, 962...\n",
      "1       100  [66009, 66009, 62129, 62129, 62119, 62119, 610...\n",
      "2      100A  [66009, 62129, 62119, 61049, 61039, 70069, 700...\n",
      "3       101  [66009, 62131, 62141, 63011, 63021, 63031, 630...\n",
      "4       102  [64009, 64041, 64051, 64061, 64401, 67739, 677...\n"
     ]
    }
   ],
   "source": [
    "# Filter for Trunk Services\n",
    "trunk_buses_df = bus_services_df[bus_services_df['Category'] == \"TRUNK\"]\n",
    "trunk_buses_df = trunk_buses_df['ServiceNo']\n",
    "trunk_bus_routes_df = pd.merge(trunk_buses_df, bus_routes_df, on='ServiceNo', how='inner')\n",
    "\n",
    "# Select relevant columns\n",
    "trunk_bus_routes_df = trunk_bus_routes_df[['ServiceNo', 'Direction', 'StopSequence', 'BusStopCode']]\n",
    "\n",
    "# Sort the trunk bus routes by Direction and StopSequence\n",
    "trunk_bus_routes_df.sort_values(by=['ServiceNo', 'Direction', 'StopSequence'], inplace=True)\n",
    "\n",
    "# Group by ServiceNo and create an ordered list of BusStopCodes for each service\n",
    "ordered_stops = trunk_bus_routes_df.groupby('ServiceNo').agg(\n",
    "    OrderedBusStops=('BusStopCode', lambda x: list(x))\n",
    ").reset_index()\n",
    "\n",
    "# Display the result\n",
    "print(ordered_stops.head())"
   ]
  },
  {
   "cell_type": "code",
   "execution_count": 6,
   "id": "bab0407e-1e2c-450f-8cb3-a48753386df4",
   "metadata": {},
   "outputs": [
    {
     "name": "stdout",
     "output_type": "stream",
     "text": [
      "    Original_ServiceNo Matched_ServiceNo TrainLine\n",
      "0                   67               188        BP\n",
      "2                   67               974        BP\n",
      "3                   67              974A        BP\n",
      "4                   67               976        BP\n",
      "5                   67               170        DT\n",
      "6                   67                 2        EW\n",
      "7                   67                26        EW\n",
      "8                   67               139        NE\n",
      "9                   67               147        NE\n",
      "10                  67                23        NE\n",
      "11                  67                64        NE\n",
      "12                  67                65        NE\n",
      "13                  67               857        NE\n",
      "14                  48               153        CC\n",
      "15                  48               186        CC\n",
      "17                  48               960        DT\n",
      "18                  48                 9        EW\n",
      "19                  48                9A        EW\n",
      "20                  48                36        TE\n",
      "21                  48               36A        TE\n",
      "22                  48               36B        TE\n",
      "23                  48                43        TE\n",
      "24                  48              853M        TE\n",
      "26                 107              107M        DT\n",
      "27                 107               175        DT\n",
      "28                 107                61        DT\n",
      "29                 107               100        EW\n",
      "30                 107                56        NS\n",
      "31                 107                57        NS\n",
      "32                 107               961        NS\n",
      "33                 107              961M        NS\n",
      "34                 107                10        NS\n",
      "35                 107               130        NS\n",
      "36                 107               131        NS\n",
      "37                 107               167        NS\n",
      "38                 107               196        NS\n",
      "39                 107                70        NS\n",
      "40                  36               106        CC\n",
      "41                  36               111        CC\n",
      "42                  36               110        CG\n",
      "43                  36                24        CG\n",
      "44                  36                27        CG\n",
      "45                  36                34        CG\n",
      "46                  36               34B        CG\n",
      "47                  36                53        CG\n",
      "48                  36               53A        CG\n",
      "49                  36               858        CG\n",
      "50                  36              858B        CG\n",
      "51                  36               174        NS\n",
      "52                  36                 7        NS\n",
      "53                  36                77        NS\n",
      "54                  36               197        TE\n",
      "55                  36                31        TE\n",
      "57                 122                12        NE\n",
      "58                 122               190        NE\n",
      "59                 122                54        NE\n",
      "60                 122               121        TE\n",
      "61                 122                33        TE\n",
      "62                 122                63        TE\n",
      "63                 122               851        TE\n",
      "64                 122               970        TE\n",
      "65                 170               160        NS\n",
      "66                 170               178        NS\n",
      "67                 170               925        NS\n",
      "68                 170              925M        NS\n",
      "69                 170              170X        NS\n",
      "70                 170              178A        NS\n",
      "71                 170              925A        NS\n",
      "72                 170               184        BP\n",
      "73                 170                75        BP\n",
      "74                 170               979        BP\n",
      "75                   2               143        NE\n",
      "76                   2              147A        NE\n",
      "77                  63               135        CC\n",
      "78                  63               154        CC\n",
      "79                  63               155        CC\n",
      "80                  63               158        CC\n",
      "81                  63                40        CC\n",
      "82                  63               63M        CC\n",
      "83                  63               124        NE\n",
      "84                  63               63A        NE\n",
      "85                  65               125        NE\n",
      "86                  65                13        NE\n",
      "87                  65               133        NE\n",
      "88                  65               140        NE\n",
      "89                  65              857B        NE\n",
      "90                  65               985        NE\n",
      "91                  65               123        NS\n",
      "92                  65                14        NS\n",
      "93                  65               14A        NS\n",
      "94                  65                16        NS\n",
      "95                  65               16M        NS\n",
      "96                  65                7A        NS\n",
      "97                  65               972        NS\n",
      "98                  65              972M        NS\n",
      "99                  65                7B        NS\n",
      "100                 65                 5        TE\n",
      "101                100               166        CC\n",
      "102                100                30        CC\n",
      "103                100                97        CC\n",
      "104                 24               70M        CC\n",
      "105                 24                76        CC\n",
      "106                 24                80        CC\n",
      "107                 80                22        CC\n",
      "108                 80               70A        CC\n",
      "109                 80               80A        CC\n",
      "110                 80                51        EW\n",
      "111                 80                86        SE\n",
      "112                 80               145        TE\n",
      "113                851               852        NS\n",
      "114                851               853        NS\n",
      "115                111               105        TE\n",
      "116                111               132        TE\n",
      "118                158              158A        EW\n",
      "119                158                21        EW\n",
      "120                158                62        EW\n",
      "121                 13                55        TE\n",
      "122                133               136        CC\n",
      "123                133               156        CC\n",
      "124                133                45        CC\n",
      "125                133                73        CC\n",
      "126                133               73T        CC\n",
      "127                133               400        NS\n",
      "128                147              131A        NS\n",
      "129                 40                32        TE\n"
     ]
    }
   ],
   "source": [
    "# A list to store results\n",
    "results = []\n",
    "matched_service_numbers = set()  # Set to track unique matched ServiceNo\n",
    "\n",
    "# Iterate over each row in top_20_overlap_service\n",
    "for idx, row in top_20_overlap_service.iterrows():\n",
    "    # Convert TrainLineParallelData string to dictionary\n",
    "    parallel_data = ast.literal_eval(row['TrainLineParallelData'])\n",
    "    original_service_no = row['ServiceNo']  # Save the original ServiceNo\n",
    "    \n",
    "    for line, data in parallel_data.items():\n",
    "        for entry in data:\n",
    "            parallel_stop_codes = entry['ParallelStopCodes']\n",
    "            # Check against the ordered_stops\n",
    "            for _, stop_row in ordered_stops.iterrows():\n",
    "                stop_codes = stop_row['OrderedBusStops']\n",
    "                \n",
    "                # Count the number of matches between parallel_stop_codes and stop_codes\n",
    "                matched_stops = [code for code in parallel_stop_codes if code in stop_codes]\n",
    "                match_ratio = len(matched_stops) / len(parallel_stop_codes)\n",
    "                \n",
    "                # Check if match ratio meets or exceeds 75%\n",
    "                if match_ratio >= 0.75:\n",
    "                    matched_service_no = stop_row['ServiceNo']\n",
    "                    # Check if the matched service number is unique\n",
    "                    if matched_service_no not in matched_service_numbers:\n",
    "                        matched_service_numbers.add(matched_service_no)\n",
    "                        # If found, append the result\n",
    "                        results.append((original_service_no, matched_service_no, line))\n",
    "\n",
    "# Convert results to a DataFrame for better visualization\n",
    "results_df = pd.DataFrame(results, columns=['Original_ServiceNo', 'Matched_ServiceNo', 'TrainLine'])\n",
    "\n",
    "# Drop duplicates based on Original_ServiceNo and Matched_ServiceNo\n",
    "results_df = results_df.drop_duplicates()\n",
    "\n",
    "# Remove rows where Matched_ServiceNo is equal to Original_ServiceNo\n",
    "results_df = results_df[results_df['Matched_ServiceNo'] != results_df['Original_ServiceNo']]\n",
    "\n",
    "print(results_df)"
   ]
  },
  {
   "cell_type": "code",
   "execution_count": null,
   "id": "43d8f04e-65cb-4dc1-9bbd-9da0fe55081c",
   "metadata": {},
   "outputs": [],
   "source": [
    "## Modification of bus routes"
   ]
  },
  {
   "cell_type": "code",
   "execution_count": null,
   "id": "09bf8a9f-f8ba-4a5e-967c-16667eabc8e8",
   "metadata": {},
   "outputs": [],
   "source": []
  }
 ],
 "metadata": {
  "kernelspec": {
   "display_name": "Python 3 (ipykernel)",
   "language": "python",
   "name": "python3"
  },
  "language_info": {
   "codemirror_mode": {
    "name": "ipython",
    "version": 3
   },
   "file_extension": ".py",
   "mimetype": "text/x-python",
   "name": "python",
   "nbconvert_exporter": "python",
   "pygments_lexer": "ipython3",
   "version": "3.9.9"
  }
 },
 "nbformat": 4,
 "nbformat_minor": 5
}
