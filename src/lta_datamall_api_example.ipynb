{
 "cells": [
  {
   "cell_type": "markdown",
   "id": "0bc58b0d",
   "metadata": {},
   "source": [
    "## Importing libraries"
   ]
  },
  {
   "cell_type": "code",
   "execution_count": 6,
   "id": "236dcb55-6074-4cfe-9e4f-9117275bac7c",
   "metadata": {},
   "outputs": [],
   "source": [
    "# !pip install python-dotenv\n",
    "import requests\n",
    "import pandas as pd\n",
    "from dotenv import load_dotenv\n",
    "import os\n",
    "import zipfile\n",
    "import shutil\n",
    "\n",
    "# Retrieving api key\n",
    "load_dotenv(\"../key.env\")\n",
    "api_key = os.getenv(\"API_KEY\")"
   ]
  },
  {
   "cell_type": "markdown",
   "id": "797e611d",
   "metadata": {},
   "source": [
    "## Retrieving bus info"
   ]
  },
  {
   "cell_type": "code",
   "execution_count": 4,
   "id": "ec330032-e559-4778-a11c-d7dfda24cc9e",
   "metadata": {},
   "outputs": [],
   "source": [
    "#Running the get_bus_info function to make bus info related API calls\n",
    "%run get_bus_info_function.ipynb"
   ]
  },
  {
   "cell_type": "code",
   "execution_count": 7,
   "id": "59433940-6c97-4585-a4ef-e076324cc988",
   "metadata": {},
   "outputs": [],
   "source": [
    "bus_services_df = get_bus_info(\"https://datamall2.mytransport.sg/ltaodataservice/BusServices\", api_key)\n",
    "bus_routes_df = get_bus_info(\"https://datamall2.mytransport.sg/ltaodataservice/BusRoutes\", api_key)\n",
    "bus_stops_df = get_bus_info(\"https://datamall2.mytransport.sg/ltaodataservice/BusStops\", api_key)"
   ]
  },
  {
   "cell_type": "code",
   "execution_count": 9,
   "id": "80cddfc4",
   "metadata": {},
   "outputs": [
    {
     "name": "stdout",
     "output_type": "stream",
     "text": [
      "  ServiceNo Operator NextBus.OriginCode NextBus.DestinationCode  \\\n",
      "0        12      GAS              10499                   77009   \n",
      "1       12e      GAS              10499                   77009   \n",
      "2       175     SBST              17009                   80009   \n",
      "3         2      GAS              10499                   99009   \n",
      "4        32     SBST              11379                   84009   \n",
      "\n",
      "    NextBus.EstimatedArrival  NextBus.Monitored    NextBus.Latitude  \\\n",
      "0  2024-10-13T14:45:11+08:00                  1  1.2931668333333333   \n",
      "1  2024-10-13T14:45:48+08:00                  1  1.2929188333333332   \n",
      "2  2024-10-13T14:58:17+08:00                  1  1.3034278333333333   \n",
      "3  2024-10-13T14:57:53+08:00                  1           1.2761375   \n",
      "4  2024-10-13T14:57:33+08:00                  1           1.2947075   \n",
      "\n",
      "    NextBus.Longitude NextBus.VisitNumber NextBus.Load  ...  \\\n",
      "0  103.84974533333333                   1          SEA  ...   \n",
      "1  103.84963966666666                   1          SEA  ...   \n",
      "2  103.83048766666667                   1          SDA  ...   \n",
      "3  103.83190883333333                   1          SEA  ...   \n",
      "4  103.82849666666667                   1          SEA  ...   \n",
      "\n",
      "  NextBus3.DestinationCode  NextBus3.EstimatedArrival NextBus3.Monitored  \\\n",
      "0                                                                      0   \n",
      "1                                                                      0   \n",
      "2                                                                      0   \n",
      "3                    99009  2024-10-13T15:21:47+08:00                  0   \n",
      "4                                                                      0   \n",
      "\n",
      "  NextBus3.Latitude NextBus3.Longitude  NextBus3.VisitNumber NextBus3.Load  \\\n",
      "0                                                                            \n",
      "1                                                                            \n",
      "2                                                                            \n",
      "3               0.0                0.0                     1           SEA   \n",
      "4                                                                            \n",
      "\n",
      "  NextBus3.Feature NextBus3.Type BusStopCode  \n",
      "0                                      01012  \n",
      "1                                      01012  \n",
      "2                                      01012  \n",
      "3              WAB            DD       01012  \n",
      "4                                      01012  \n",
      "\n",
      "[5 rows x 33 columns]\n"
     ]
    }
   ],
   "source": [
    "#Example to retrieve bus arrival for a particular bus stop or sets of bus stops\n",
    "bus_stop_example = bus_stops_df['BusStopCode'][0]\n",
    "bus_arrival_df = get_bus_arrival(\"https://datamall2.mytransport.sg/ltaodataservice/v3/BusArrival\", api_key, bus_stop_example)\n",
    "print(bus_arrival_df.head())"
   ]
  },
  {
   "cell_type": "markdown",
   "id": "bf606fce",
   "metadata": {},
   "source": [
    "## Retrieving passenger related info"
   ]
  },
  {
   "cell_type": "code",
   "execution_count": 10,
   "id": "fd6980d7-59a4-489c-8037-b96877751d0a",
   "metadata": {},
   "outputs": [],
   "source": [
    "#Run the get_passenger_volume function to retrieve pv related datasets\n",
    "%run get_passenger_volume_function.ipynb"
   ]
  },
  {
   "cell_type": "markdown",
   "id": "83af89a5",
   "metadata": {},
   "source": [
    "### PV by bus stops "
   ]
  },
  {
   "cell_type": "code",
   "execution_count": 12,
   "id": "2fb3eedc-0997-44d1-bcf1-245b2ab4c325",
   "metadata": {},
   "outputs": [
    {
     "name": "stdout",
     "output_type": "stream",
     "text": [
      "Failed to retrieve data: 500\n",
      "  YEAR_MONTH          DAY_TYPE  TIME_PER_HOUR PT_TYPE  PT_CODE  \\\n",
      "0    2024-08  WEEKENDS/HOLIDAY           18.0     BUS    68099   \n",
      "1    2024-08           WEEKDAY           18.0     BUS    63281   \n",
      "2    2024-08  WEEKENDS/HOLIDAY           14.0     BUS    11071   \n",
      "3    2024-08  WEEKENDS/HOLIDAY           10.0     BUS    50249   \n",
      "4    2024-08  WEEKENDS/HOLIDAY           15.0     BUS    67389   \n",
      "\n",
      "   TOTAL_TAP_IN_VOLUME  TOTAL_TAP_OUT_VOLUME  \n",
      "0                   84                   145  \n",
      "1                 1943                  2183  \n",
      "2                  564                   535  \n",
      "3                  286                   237  \n",
      "4                  282                   956  \n"
     ]
    }
   ],
   "source": [
    "#saving pv by bus stops \n",
    "get_passenger_volume(\"https://datamall2.mytransport.sg/ltaodataservice/PV/Bus\", api_key, '../datasets/pv_bus_stops', date=202407)\n",
    "get_passenger_volume(\"https://datamall2.mytransport.sg/ltaodataservice/PV/Bus\", api_key, '../datasets/pv_bus_stops', date=202408)\n",
    "get_passenger_volume(\"https://datamall2.mytransport.sg/ltaodataservice/PV/Bus\", api_key, '../datasets/pv_bus_stops', date=202409)\n",
    "\n",
    "pv_202409 = pd.read_csv(\"../datasets/pv_bus_stops/transport_node_bus_202408.csv\")\n",
    "print(pv_202409.head())"
   ]
  },
  {
   "cell_type": "markdown",
   "id": "55c96d2e",
   "metadata": {},
   "source": [
    "### PV by origin-destination bus stops"
   ]
  },
  {
   "cell_type": "code",
   "execution_count": 75,
   "id": "1302ffbe",
   "metadata": {},
   "outputs": [
    {
     "name": "stdout",
     "output_type": "stream",
     "text": [
      "Zip file downloaded and saved to: pv_od_bus_stops/transport_node_bus_202408.zip\n",
      "CSV file extracted and saved to: pv_od_bus_stops/transport_node_bus_202408.csv\n"
     ]
    },
    {
     "data": {
      "text/plain": [
       "'pv_od_bus_stops/transport_node_bus_202408.csv'"
      ]
     },
     "execution_count": 75,
     "metadata": {},
     "output_type": "execute_result"
    }
   ],
   "source": [
    "#saving pv by origin- destination bus stops \n",
    "get_passenger_volume(\"https://datamall2.mytransport.sg/ltaodataservice/PV/ODBus\", api_key, '../datasets/pv_od_bus_stops', date=202407)\n",
    "get_passenger_volume(\"https://datamall2.mytransport.sg/ltaodataservice/PV/ODBus\", api_key, '../datasets/pv_od_bus_stops', date=202408)\n",
    "get_passenger_volume(\"https://datamall2.mytransport.sg/ltaodataservice/PV/ODBus\", api_key, '../datasets/pv_od_bus_stops', date=202409)"
   ]
  },
  {
   "cell_type": "markdown",
   "id": "d0304d19",
   "metadata": {},
   "source": [
    "### PV by origin-destination train stations"
   ]
  },
  {
   "cell_type": "code",
   "execution_count": 64,
   "id": "4cb6cbcd",
   "metadata": {},
   "outputs": [
    {
     "name": "stdout",
     "output_type": "stream",
     "text": [
      "Zip file downloaded and saved to: pv_od_train_stations/transport_node_bus_202408.zip\n",
      "CSV file extracted and saved to: pv_od_train_stations/transport_node_bus_202408.csv\n"
     ]
    },
    {
     "data": {
      "text/plain": [
       "'pv_od_train_stations/transport_node_bus_202408.csv'"
      ]
     },
     "execution_count": 64,
     "metadata": {},
     "output_type": "execute_result"
    }
   ],
   "source": [
    "#saving pv by origin- destination train stations\n",
    "get_passenger_volume(\"https://datamall2.mytransport.sg/ltaodataservice/PV/ODTrain\", api_key, '../datasets/pv_od_train_stations', date=202407)\n",
    "get_passenger_volume(\"https://datamall2.mytransport.sg/ltaodataservice/PV/ODTrain\", api_key, '../datasets/pv_od_train_stations', date=202408)\n",
    "get_passenger_volume(\"https://datamall2.mytransport.sg/ltaodataservice/PV/ODTrain\", api_key, '../datasets/pv_od_train_stations', date=202409)"
   ]
  },
  {
   "cell_type": "markdown",
   "id": "a68a4564",
   "metadata": {},
   "source": [
    "### PV by train stations"
   ]
  },
  {
   "cell_type": "code",
   "execution_count": 66,
   "id": "61718dab",
   "metadata": {},
   "outputs": [
    {
     "name": "stdout",
     "output_type": "stream",
     "text": [
      "Zip file downloaded and saved to: pv_train_stations/transport_node_bus_202407.zip\n",
      "CSV file extracted and saved to: pv_train_stations/transport_node_bus_202407.csv\n"
     ]
    },
    {
     "data": {
      "text/plain": [
       "'pv_train_stations/transport_node_bus_202407.csv'"
      ]
     },
     "execution_count": 66,
     "metadata": {},
     "output_type": "execute_result"
    }
   ],
   "source": [
    "#saving pv by train stations\n",
    "get_passenger_volume(\"https://datamall2.mytransport.sg/ltaodataservice/PV/Train\", api_key, '../datasets/pv_train_stations', date=202407)\n",
    "get_passenger_volume(\"https://datamall2.mytransport.sg/ltaodataservice/PV/Train\", api_key, '../datasets/pv_train_stations', date=202408)\n",
    "get_passenger_volume(\"https://datamall2.mytransport.sg/ltaodataservice/PV/Train\", api_key, '../datasets/pv_train_stations', date=202409)"
   ]
  },
  {
   "cell_type": "code",
   "execution_count": null,
   "id": "892ee038-83d0-4d92-9040-ace44fc91660",
   "metadata": {},
   "outputs": [],
   "source": [
    "%run get_geospatial_function.ipynb"
   ]
  },
  {
   "cell_type": "code",
   "execution_count": null,
   "id": "6d847e0e-f913-49a9-8747-7ceaacba4622",
   "metadata": {},
   "outputs": [],
   "source": [
    "geospatial_link = get_geospatial_whole_island(api_url, api_key, layer_id=\"TrainStation\")\n",
    "print(geospatial_link)"
   ]
  }
 ],
 "metadata": {
  "kernelspec": {
   "display_name": "Python 3 (ipykernel)",
   "language": "python",
   "name": "python3"
  },
  "language_info": {
   "codemirror_mode": {
    "name": "ipython",
    "version": 3
   },
   "file_extension": ".py",
   "mimetype": "text/x-python",
   "name": "python",
   "nbconvert_exporter": "python",
   "pygments_lexer": "ipython3",
   "version": "3.11.9"
  }
 },
 "nbformat": 4,
 "nbformat_minor": 5
}
