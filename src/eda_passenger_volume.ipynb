{
 "cells": [
  {
   "cell_type": "markdown",
   "id": "1e6d79f6-c280-4e7a-8dfc-70be97f2ef9b",
   "metadata": {},
   "source": [
    "## Importing libraries"
   ]
  },
  {
   "cell_type": "code",
   "execution_count": 1,
   "id": "74132b43-efce-4fd9-8005-0ba2744a728b",
   "metadata": {},
   "outputs": [],
   "source": [
    "# !pip install python-dotenv\n",
    "import requests\n",
    "import pandas as pd\n",
    "import matplotlib.pyplot as plt\n",
    "import geopandas as gpd\n",
    "from dotenv import load_dotenv\n",
    "import os\n",
    "import zipfile\n",
    "import shutil\n",
    "import numpy as np\n",
    "from sklearn.preprocessing import MinMaxScaler\n",
    "from sklearn.preprocessing import StandardScaler\n",
    "from sklearn.decomposition import PCA\n",
    "\n",
    "pd.set_option('display.max_rows', None)\n",
    "pd.set_option('display.max_columns', None)\n",
    "# Retrieving api key\n",
    "load_dotenv(\"../key.env\")\n",
    "api_key = os.getenv(\"API_KEY\")"
   ]
  },
  {
   "cell_type": "markdown",
   "id": "9c3dd46a-9738-4409-891e-cc2045eb0153",
   "metadata": {},
   "source": [
    "## Reading datasets"
   ]
  },
  {
   "cell_type": "code",
   "execution_count": 2,
   "id": "a741050f-4cd2-419e-add9-14c83a721542",
   "metadata": {},
   "outputs": [],
   "source": [
    "#Running the get_bus_info function to make bus info related API calls\n",
    "%run get_bus_info_function.ipynb"
   ]
  },
  {
   "cell_type": "code",
   "execution_count": 3,
   "id": "e3a1aa4a-8440-4ecb-b624-bbff7043aeb2",
   "metadata": {},
   "outputs": [],
   "source": [
    "bus_services_df = get_bus_info(\"https://datamall2.mytransport.sg/ltaodataservice/BusServices\", api_key)\n",
    "bus_routes_df = get_bus_info(\"https://datamall2.mytransport.sg/ltaodataservice/BusRoutes\", api_key)\n",
    "bus_stops_df = get_bus_info(\"https://datamall2.mytransport.sg/ltaodataservice/BusStops\", api_key)"
   ]
  },
  {
   "cell_type": "code",
   "execution_count": 4,
   "id": "3dd440db",
   "metadata": {},
   "outputs": [],
   "source": [
    "bus_stop_example = bus_stops_df['BusStopCode'][0]\n",
    "bus_arrival_df = get_bus_arrival(\"https://datamall2.mytransport.sg/ltaodataservice/v3/BusArrival\", api_key, bus_stop_example)"
   ]
  },
  {
   "cell_type": "code",
   "execution_count": 5,
   "id": "1168346d",
   "metadata": {},
   "outputs": [
    {
     "data": {
      "text/html": [
       "<div>\n",
       "<style scoped>\n",
       "    .dataframe tbody tr th:only-of-type {\n",
       "        vertical-align: middle;\n",
       "    }\n",
       "\n",
       "    .dataframe tbody tr th {\n",
       "        vertical-align: top;\n",
       "    }\n",
       "\n",
       "    .dataframe thead th {\n",
       "        text-align: right;\n",
       "    }\n",
       "</style>\n",
       "<table border=\"1\" class=\"dataframe\">\n",
       "  <thead>\n",
       "    <tr style=\"text-align: right;\">\n",
       "      <th></th>\n",
       "      <th>BusStopCode</th>\n",
       "      <th>RoadName</th>\n",
       "      <th>Description</th>\n",
       "      <th>Latitude</th>\n",
       "      <th>Longitude</th>\n",
       "    </tr>\n",
       "  </thead>\n",
       "  <tbody>\n",
       "    <tr>\n",
       "      <th>0</th>\n",
       "      <td>01012</td>\n",
       "      <td>Victoria St</td>\n",
       "      <td>Hotel Grand Pacific</td>\n",
       "      <td>1.296848</td>\n",
       "      <td>103.852536</td>\n",
       "    </tr>\n",
       "    <tr>\n",
       "      <th>1</th>\n",
       "      <td>01013</td>\n",
       "      <td>Victoria St</td>\n",
       "      <td>St. Joseph's Ch</td>\n",
       "      <td>1.297710</td>\n",
       "      <td>103.853225</td>\n",
       "    </tr>\n",
       "    <tr>\n",
       "      <th>2</th>\n",
       "      <td>01019</td>\n",
       "      <td>Victoria St</td>\n",
       "      <td>Bras Basah Cplx</td>\n",
       "      <td>1.296990</td>\n",
       "      <td>103.853022</td>\n",
       "    </tr>\n",
       "    <tr>\n",
       "      <th>3</th>\n",
       "      <td>01029</td>\n",
       "      <td>Nth Bridge Rd</td>\n",
       "      <td>Opp Natl Lib</td>\n",
       "      <td>1.296673</td>\n",
       "      <td>103.854414</td>\n",
       "    </tr>\n",
       "    <tr>\n",
       "      <th>4</th>\n",
       "      <td>01039</td>\n",
       "      <td>Nth Bridge Rd</td>\n",
       "      <td>Bugis Cube</td>\n",
       "      <td>1.298208</td>\n",
       "      <td>103.855491</td>\n",
       "    </tr>\n",
       "  </tbody>\n",
       "</table>\n",
       "</div>"
      ],
      "text/plain": [
       "  BusStopCode       RoadName          Description  Latitude   Longitude\n",
       "0       01012    Victoria St  Hotel Grand Pacific  1.296848  103.852536\n",
       "1       01013    Victoria St      St. Joseph's Ch  1.297710  103.853225\n",
       "2       01019    Victoria St      Bras Basah Cplx  1.296990  103.853022\n",
       "3       01029  Nth Bridge Rd         Opp Natl Lib  1.296673  103.854414\n",
       "4       01039  Nth Bridge Rd           Bugis Cube  1.298208  103.855491"
      ]
     },
     "execution_count": 5,
     "metadata": {},
     "output_type": "execute_result"
    }
   ],
   "source": [
    "bus_stops_df.head()"
   ]
  },
  {
   "cell_type": "code",
   "execution_count": 6,
   "id": "ee4bea12-7c2d-4a30-bd87-a23dc0d082aa",
   "metadata": {},
   "outputs": [],
   "source": [
    "bus_stop_pv_jul = pd.read_csv(\"../datasets/pv_bus_stops/transport_node_bus_202407.csv\")\n",
    "bus_stop_pv_aug = pd.read_csv(\"../datasets/pv_bus_stops/transport_node_bus_202408.csv\")\n",
    "bus_stop_pv_sep = pd.read_csv(\"../datasets/pv_bus_stops/transport_node_bus_202409.csv\")"
   ]
  },
  {
   "cell_type": "code",
   "execution_count": 7,
   "id": "0a87dca5",
   "metadata": {},
   "outputs": [
    {
     "data": {
      "text/html": [
       "<div>\n",
       "<style scoped>\n",
       "    .dataframe tbody tr th:only-of-type {\n",
       "        vertical-align: middle;\n",
       "    }\n",
       "\n",
       "    .dataframe tbody tr th {\n",
       "        vertical-align: top;\n",
       "    }\n",
       "\n",
       "    .dataframe thead th {\n",
       "        text-align: right;\n",
       "    }\n",
       "</style>\n",
       "<table border=\"1\" class=\"dataframe\">\n",
       "  <thead>\n",
       "    <tr style=\"text-align: right;\">\n",
       "      <th></th>\n",
       "      <th>YEAR_MONTH</th>\n",
       "      <th>DAY_TYPE</th>\n",
       "      <th>TIME_PER_HOUR</th>\n",
       "      <th>PT_TYPE</th>\n",
       "      <th>PT_CODE</th>\n",
       "      <th>TOTAL_TAP_IN_VOLUME</th>\n",
       "      <th>TOTAL_TAP_OUT_VOLUME</th>\n",
       "    </tr>\n",
       "  </thead>\n",
       "  <tbody>\n",
       "    <tr>\n",
       "      <th>0</th>\n",
       "      <td>2024-07</td>\n",
       "      <td>WEEKENDS/HOLIDAY</td>\n",
       "      <td>13.0</td>\n",
       "      <td>BUS</td>\n",
       "      <td>26041</td>\n",
       "      <td>2</td>\n",
       "      <td>0</td>\n",
       "    </tr>\n",
       "    <tr>\n",
       "      <th>1</th>\n",
       "      <td>2024-07</td>\n",
       "      <td>WEEKDAY</td>\n",
       "      <td>14.0</td>\n",
       "      <td>BUS</td>\n",
       "      <td>66261</td>\n",
       "      <td>73</td>\n",
       "      <td>19</td>\n",
       "    </tr>\n",
       "    <tr>\n",
       "      <th>2</th>\n",
       "      <td>2024-07</td>\n",
       "      <td>WEEKDAY</td>\n",
       "      <td>23.0</td>\n",
       "      <td>BUS</td>\n",
       "      <td>83011</td>\n",
       "      <td>91</td>\n",
       "      <td>565</td>\n",
       "    </tr>\n",
       "    <tr>\n",
       "      <th>3</th>\n",
       "      <td>2024-07</td>\n",
       "      <td>WEEKENDS/HOLIDAY</td>\n",
       "      <td>10.0</td>\n",
       "      <td>BUS</td>\n",
       "      <td>82079</td>\n",
       "      <td>353</td>\n",
       "      <td>687</td>\n",
       "    </tr>\n",
       "    <tr>\n",
       "      <th>4</th>\n",
       "      <td>2024-07</td>\n",
       "      <td>WEEKENDS/HOLIDAY</td>\n",
       "      <td>8.0</td>\n",
       "      <td>BUS</td>\n",
       "      <td>67239</td>\n",
       "      <td>390</td>\n",
       "      <td>171</td>\n",
       "    </tr>\n",
       "  </tbody>\n",
       "</table>\n",
       "</div>"
      ],
      "text/plain": [
       "  YEAR_MONTH          DAY_TYPE  TIME_PER_HOUR PT_TYPE  PT_CODE  \\\n",
       "0    2024-07  WEEKENDS/HOLIDAY           13.0     BUS    26041   \n",
       "1    2024-07           WEEKDAY           14.0     BUS    66261   \n",
       "2    2024-07           WEEKDAY           23.0     BUS    83011   \n",
       "3    2024-07  WEEKENDS/HOLIDAY           10.0     BUS    82079   \n",
       "4    2024-07  WEEKENDS/HOLIDAY            8.0     BUS    67239   \n",
       "\n",
       "   TOTAL_TAP_IN_VOLUME  TOTAL_TAP_OUT_VOLUME  \n",
       "0                    2                     0  \n",
       "1                   73                    19  \n",
       "2                   91                   565  \n",
       "3                  353                   687  \n",
       "4                  390                   171  "
      ]
     },
     "execution_count": 7,
     "metadata": {},
     "output_type": "execute_result"
    }
   ],
   "source": [
    "bus_stop_pv_jul.head()"
   ]
  },
  {
   "cell_type": "code",
   "execution_count": 8,
   "id": "7be341f6-a1ff-4338-a5c5-c81905108e55",
   "metadata": {},
   "outputs": [],
   "source": [
    "bus_od_jul = pd.read_csv(\"../datasets/pv_od_bus_stops/origin_destination_bus_202407.csv\")\n",
    "bus_od_aug = pd.read_csv(\"../datasets/pv_od_bus_stops/origin_destination_bus_202408.csv\")\n",
    "bus_od_sep = pd.read_csv(\"../datasets/pv_od_bus_stops/origin_destination_bus_202409.csv\")"
   ]
  },
  {
   "cell_type": "code",
   "execution_count": 9,
   "id": "86a9a872-e0ed-4dbb-a4c0-075980996fa6",
   "metadata": {},
   "outputs": [
    {
     "data": {
      "text/html": [
       "<div>\n",
       "<style scoped>\n",
       "    .dataframe tbody tr th:only-of-type {\n",
       "        vertical-align: middle;\n",
       "    }\n",
       "\n",
       "    .dataframe tbody tr th {\n",
       "        vertical-align: top;\n",
       "    }\n",
       "\n",
       "    .dataframe thead th {\n",
       "        text-align: right;\n",
       "    }\n",
       "</style>\n",
       "<table border=\"1\" class=\"dataframe\">\n",
       "  <thead>\n",
       "    <tr style=\"text-align: right;\">\n",
       "      <th></th>\n",
       "      <th>ServiceNo</th>\n",
       "      <th>Direction</th>\n",
       "      <th>StopSequence</th>\n",
       "      <th>BusStopCode</th>\n",
       "      <th>RoadName</th>\n",
       "      <th>Description</th>\n",
       "    </tr>\n",
       "  </thead>\n",
       "  <tbody>\n",
       "    <tr>\n",
       "      <th>0</th>\n",
       "      <td>10</td>\n",
       "      <td>1</td>\n",
       "      <td>1</td>\n",
       "      <td>75009</td>\n",
       "      <td>Tampines Ctrl 1</td>\n",
       "      <td>Tampines Int</td>\n",
       "    </tr>\n",
       "    <tr>\n",
       "      <th>1</th>\n",
       "      <td>10</td>\n",
       "      <td>1</td>\n",
       "      <td>1</td>\n",
       "      <td>75009</td>\n",
       "      <td>Tampines Ctrl 1</td>\n",
       "      <td>Tampines Int</td>\n",
       "    </tr>\n",
       "    <tr>\n",
       "      <th>2</th>\n",
       "      <td>10</td>\n",
       "      <td>1</td>\n",
       "      <td>2</td>\n",
       "      <td>76059</td>\n",
       "      <td>Tampines Ave 5</td>\n",
       "      <td>Opp Our Tampines Hub</td>\n",
       "    </tr>\n",
       "    <tr>\n",
       "      <th>3</th>\n",
       "      <td>10</td>\n",
       "      <td>1</td>\n",
       "      <td>2</td>\n",
       "      <td>76059</td>\n",
       "      <td>Tampines Ave 5</td>\n",
       "      <td>Opp Our Tampines Hub</td>\n",
       "    </tr>\n",
       "    <tr>\n",
       "      <th>4</th>\n",
       "      <td>10</td>\n",
       "      <td>1</td>\n",
       "      <td>3</td>\n",
       "      <td>76069</td>\n",
       "      <td>Tampines Ave 5</td>\n",
       "      <td>Blk 147</td>\n",
       "    </tr>\n",
       "  </tbody>\n",
       "</table>\n",
       "</div>"
      ],
      "text/plain": [
       "  ServiceNo  Direction  StopSequence BusStopCode         RoadName  \\\n",
       "0        10          1             1       75009  Tampines Ctrl 1   \n",
       "1        10          1             1       75009  Tampines Ctrl 1   \n",
       "2        10          1             2       76059   Tampines Ave 5   \n",
       "3        10          1             2       76059   Tampines Ave 5   \n",
       "4        10          1             3       76069   Tampines Ave 5   \n",
       "\n",
       "            Description  \n",
       "0          Tampines Int  \n",
       "1          Tampines Int  \n",
       "2  Opp Our Tampines Hub  \n",
       "3  Opp Our Tampines Hub  \n",
       "4               Blk 147  "
      ]
     },
     "execution_count": 9,
     "metadata": {},
     "output_type": "execute_result"
    }
   ],
   "source": [
    "trunk_buses_df = bus_services_df[bus_services_df['Category'] == \"TRUNK\"]\n",
    "bus_routes_df = pd.merge(bus_routes_df, trunk_buses_df[['ServiceNo']], on='ServiceNo', how='inner')\n",
    "bus_routes_simple = bus_routes_df[[\"ServiceNo\", \"Direction\", \"StopSequence\", \"BusStopCode\"]]\n",
    "bus_stops_simple = bus_stops_df[[\"BusStopCode\", \"RoadName\", \"Description\"]]\n",
    "\n",
    "bus_routes_stops = pd.merge(bus_routes_simple, bus_stops_simple, on=\"BusStopCode\", how=\"inner\")\n",
    "bus_routes_stops.head()"
   ]
  },
  {
   "cell_type": "code",
   "execution_count": 10,
   "id": "899ec811-580f-407d-947a-cb06d1af690a",
   "metadata": {},
   "outputs": [],
   "source": [
    "train_station_pv_jul = pd.read_csv(\"../datasets/pv_train_stations/transport_node_train_202407.csv\")\n",
    "train_station_pv_aug = pd.read_csv(\"../datasets/pv_train_stations/transport_node_train_202408.csv\")\n",
    "train_station_pv_sep = pd.read_csv(\"../datasets/pv_train_stations/transport_node_train_202409.csv\")"
   ]
  },
  {
   "cell_type": "code",
   "execution_count": 11,
   "id": "6702840c-47ef-4d54-af83-7c2dab8bdd9c",
   "metadata": {},
   "outputs": [
    {
     "data": {
      "text/html": [
       "<div>\n",
       "<style scoped>\n",
       "    .dataframe tbody tr th:only-of-type {\n",
       "        vertical-align: middle;\n",
       "    }\n",
       "\n",
       "    .dataframe tbody tr th {\n",
       "        vertical-align: top;\n",
       "    }\n",
       "\n",
       "    .dataframe thead th {\n",
       "        text-align: right;\n",
       "    }\n",
       "</style>\n",
       "<table border=\"1\" class=\"dataframe\">\n",
       "  <thead>\n",
       "    <tr style=\"text-align: right;\">\n",
       "      <th></th>\n",
       "      <th>YEAR_MONTH</th>\n",
       "      <th>DAY_TYPE</th>\n",
       "      <th>TIME_PER_HOUR</th>\n",
       "      <th>PT_TYPE</th>\n",
       "      <th>PT_CODE</th>\n",
       "      <th>TOTAL_TAP_IN_VOLUME</th>\n",
       "      <th>TOTAL_TAP_OUT_VOLUME</th>\n",
       "    </tr>\n",
       "  </thead>\n",
       "  <tbody>\n",
       "    <tr>\n",
       "      <th>0</th>\n",
       "      <td>2024-09</td>\n",
       "      <td>WEEKDAY</td>\n",
       "      <td>20</td>\n",
       "      <td>TRAIN</td>\n",
       "      <td>NE4</td>\n",
       "      <td>84956</td>\n",
       "      <td>36786</td>\n",
       "    </tr>\n",
       "    <tr>\n",
       "      <th>1</th>\n",
       "      <td>2024-09</td>\n",
       "      <td>WEEKDAY</td>\n",
       "      <td>20</td>\n",
       "      <td>TRAIN</td>\n",
       "      <td>DT19</td>\n",
       "      <td>84956</td>\n",
       "      <td>36786</td>\n",
       "    </tr>\n",
       "    <tr>\n",
       "      <th>2</th>\n",
       "      <td>2024-09</td>\n",
       "      <td>WEEKDAY</td>\n",
       "      <td>14</td>\n",
       "      <td>TRAIN</td>\n",
       "      <td>TE28</td>\n",
       "      <td>3495</td>\n",
       "      <td>3602</td>\n",
       "    </tr>\n",
       "    <tr>\n",
       "      <th>3</th>\n",
       "      <td>2024-09</td>\n",
       "      <td>WEEKDAY</td>\n",
       "      <td>17</td>\n",
       "      <td>TRAIN</td>\n",
       "      <td>NE10</td>\n",
       "      <td>30759</td>\n",
       "      <td>24075</td>\n",
       "    </tr>\n",
       "    <tr>\n",
       "      <th>4</th>\n",
       "      <td>2024-09</td>\n",
       "      <td>WEEKDAY</td>\n",
       "      <td>22</td>\n",
       "      <td>TRAIN</td>\n",
       "      <td>NS23</td>\n",
       "      <td>44671</td>\n",
       "      <td>9804</td>\n",
       "    </tr>\n",
       "  </tbody>\n",
       "</table>\n",
       "</div>"
      ],
      "text/plain": [
       "  YEAR_MONTH DAY_TYPE  TIME_PER_HOUR PT_TYPE PT_CODE  TOTAL_TAP_IN_VOLUME  \\\n",
       "0    2024-09  WEEKDAY             20   TRAIN     NE4                84956   \n",
       "1    2024-09  WEEKDAY             20   TRAIN    DT19                84956   \n",
       "2    2024-09  WEEKDAY             14   TRAIN    TE28                 3495   \n",
       "3    2024-09  WEEKDAY             17   TRAIN    NE10                30759   \n",
       "4    2024-09  WEEKDAY             22   TRAIN    NS23                44671   \n",
       "\n",
       "   TOTAL_TAP_OUT_VOLUME  \n",
       "0                 36786  \n",
       "1                 36786  \n",
       "2                  3602  \n",
       "3                 24075  \n",
       "4                  9804  "
      ]
     },
     "execution_count": 11,
     "metadata": {},
     "output_type": "execute_result"
    }
   ],
   "source": [
    "train_station_pv_jul['PT_CODE'] = train_station_pv_jul['PT_CODE'].str.split('/')\n",
    "train_station_jul = train_station_pv_jul.explode('PT_CODE').reset_index(drop=True)\n",
    "train_station_pv_aug['PT_CODE'] = train_station_pv_aug['PT_CODE'].str.split('/')\n",
    "train_station_aug = train_station_pv_aug.explode('PT_CODE').reset_index(drop=True)\n",
    "train_station_pv_sep['PT_CODE'] = train_station_pv_sep['PT_CODE'].str.split('/')\n",
    "train_station_sep = train_station_pv_sep.explode('PT_CODE').reset_index(drop=True)\n",
    "train_station_sep.head()"
   ]
  },
  {
   "cell_type": "markdown",
   "id": "9b6458cb-1e96-463d-8376-8c708e8675dc",
   "metadata": {},
   "source": [
    "## EDA of Bus Routes and Services"
   ]
  },
  {
   "cell_type": "markdown",
   "id": "f3324d06-bc26-4216-889a-b38693aa4b01",
   "metadata": {},
   "source": [
    "### 1a. Trend of Passenger Volume by Bus Route\n",
    "- Assumption: Passenger Volumes represented by Total Number of Tap Ins and Tap Outs\n",
    "- Things to note: There are multiple buses services at the same bus stops, the passenger volume is computed by total tap volumes of bus stops along the bus routes"
   ]
  },
  {
   "cell_type": "markdown",
   "id": "1194cb7c",
   "metadata": {},
   "source": [
    "#### Feature extraction for change in passenger volume by Bus Service Routes"
   ]
  },
  {
   "cell_type": "markdown",
   "id": "9e12671c",
   "metadata": {},
   "source": [
    "##### 1a1. Aggregating the passenger volume of Interchange and Mrt Station Exit Bus Stops only"
   ]
  },
  {
   "cell_type": "code",
   "execution_count": 12,
   "id": "0e21441d",
   "metadata": {},
   "outputs": [],
   "source": [
    "#Joining description of bus stop with bus stops passenger volume\n",
    "bus_stop_pv_jul['PT_CODE'] = bus_stop_pv_jul['PT_CODE'].astype(str)\n",
    "bus_stop_pv_aug['PT_CODE'] = bus_stop_pv_aug['PT_CODE'].astype(str)\n",
    "bus_stop_pv_sep['PT_CODE'] = bus_stop_pv_sep['PT_CODE'].astype(str)\n",
    "\n",
    "bus_stop_pv_jul =  pd.merge(bus_stop_pv_jul, bus_stops_df[['BusStopCode', 'Description']],\n",
    "                     left_on = 'PT_CODE',right_on='BusStopCode', how='left')\n",
    "bus_stop_pv_aug =  pd.merge(bus_stop_pv_aug, bus_stops_df[['BusStopCode', 'Description']],\n",
    "                     left_on = 'PT_CODE',right_on='BusStopCode', how='left')\n",
    "bus_stop_pv_sep =  pd.merge(bus_stop_pv_sep, bus_stops_df[['BusStopCode', 'Description']],\n",
    "                     left_on = 'PT_CODE',right_on='BusStopCode', how='left')"
   ]
  },
  {
   "cell_type": "code",
   "execution_count": 13,
   "id": "bd0f5ffa",
   "metadata": {},
   "outputs": [
    {
     "name": "stdout",
     "output_type": "stream",
     "text": [
      "<class 'pandas.core.frame.DataFrame'>\n",
      "RangeIndex: 199900 entries, 0 to 199899\n",
      "Data columns (total 9 columns):\n",
      " #   Column                Non-Null Count   Dtype  \n",
      "---  ------                --------------   -----  \n",
      " 0   YEAR_MONTH            199900 non-null  object \n",
      " 1   DAY_TYPE              199900 non-null  object \n",
      " 2   TIME_PER_HOUR         199823 non-null  float64\n",
      " 3   PT_TYPE               199900 non-null  object \n",
      " 4   PT_CODE               199900 non-null  object \n",
      " 5   TOTAL_TAP_IN_VOLUME   199900 non-null  int64  \n",
      " 6   TOTAL_TAP_OUT_VOLUME  199900 non-null  int64  \n",
      " 7   BusStopCode           190898 non-null  object \n",
      " 8   Description           190898 non-null  object \n",
      "dtypes: float64(1), int64(2), object(6)\n",
      "memory usage: 13.7+ MB\n"
     ]
    }
   ],
   "source": [
    "bus_stop_pv_sep.info()"
   ]
  },
  {
   "cell_type": "code",
   "execution_count": 14,
   "id": "8084ceb4",
   "metadata": {},
   "outputs": [
    {
     "name": "stderr",
     "output_type": "stream",
     "text": [
      "C:\\Users\\Gene\\AppData\\Local\\Temp\\ipykernel_12160\\3898714737.py:2: UserWarning: This pattern is interpreted as a regular expression, and has match groups. To actually get the groups, use str.extract.\n",
      "  filtered_bus_stops_jul = bus_stop_pv_jul[bus_stop_pv_jul['Description'].str.contains(r'\\b(Int|Stn)(\\b|[\\s/])', case=False, na=False)]\n",
      "C:\\Users\\Gene\\AppData\\Local\\Temp\\ipykernel_12160\\3898714737.py:3: UserWarning: This pattern is interpreted as a regular expression, and has match groups. To actually get the groups, use str.extract.\n",
      "  filtered_bus_stops_aug = bus_stop_pv_aug[bus_stop_pv_aug['Description'].str.contains(r'\\b(Int|Stn)(\\b|[\\s/])', case=False, na=False)]\n",
      "C:\\Users\\Gene\\AppData\\Local\\Temp\\ipykernel_12160\\3898714737.py:4: UserWarning: This pattern is interpreted as a regular expression, and has match groups. To actually get the groups, use str.extract.\n",
      "  filtered_bus_stops_sep = bus_stop_pv_sep[bus_stop_pv_sep['Description'].str.contains(r'\\b(Int|Stn)(\\b|[\\s/])', case=False, na=False)]\n"
     ]
    }
   ],
   "source": [
    "# Filter bus stops whose descriptions contain either 'Int' or 'Stn'\n",
    "filtered_bus_stops_jul = bus_stop_pv_jul[bus_stop_pv_jul['Description'].str.contains(r'\\b(Int|Stn)(\\b|[\\s/])', case=False, na=False)]\n",
    "filtered_bus_stops_aug = bus_stop_pv_aug[bus_stop_pv_aug['Description'].str.contains(r'\\b(Int|Stn)(\\b|[\\s/])', case=False, na=False)]\n",
    "filtered_bus_stops_sep = bus_stop_pv_sep[bus_stop_pv_sep['Description'].str.contains(r'\\b(Int|Stn)(\\b|[\\s/])', case=False, na=False)]\n",
    "\n",
    "# Aggregate the total tap volume for each bus stop for each month\n",
    "bus_stop_pv_jul_agg_filtered = filtered_bus_stops_jul.groupby('PT_CODE').agg(\n",
    "    JulyTapIn=('TOTAL_TAP_IN_VOLUME', 'sum'),\n",
    "    JulyTapOut=('TOTAL_TAP_OUT_VOLUME', 'sum')\n",
    ").reset_index()\n",
    "\n",
    "bus_stop_pv_aug_agg_filtered = filtered_bus_stops_aug.groupby('PT_CODE').agg(\n",
    "    AugTapIn=('TOTAL_TAP_IN_VOLUME', 'sum'),\n",
    "    AugTapOut=('TOTAL_TAP_OUT_VOLUME', 'sum')\n",
    ").reset_index()\n",
    "\n",
    "bus_stop_pv_sep_agg_filtered = filtered_bus_stops_sep.groupby('PT_CODE').agg(\n",
    "    SepTapIn=('TOTAL_TAP_IN_VOLUME', 'sum'),\n",
    "    SepTapOut=('TOTAL_TAP_OUT_VOLUME', 'sum')\n",
    ").reset_index()\n",
    "\n",
    "# Merge aggregated bus stop data for each month with bus routes\n",
    "route_passenger_volumes_jul_ft = pd.merge(bus_routes_df, bus_stop_pv_jul_agg_filtered, \n",
    "                                       left_on='BusStopCode', right_on='PT_CODE', how='left').fillna(0)\n",
    "\n",
    "route_passenger_volumes_aug_ft = pd.merge(bus_routes_df, bus_stop_pv_aug_agg_filtered, \n",
    "                                       left_on='BusStopCode', right_on='PT_CODE', how='left').fillna(0)\n",
    "\n",
    "route_passenger_volumes_sep_ft = pd.merge(bus_routes_df, bus_stop_pv_sep_agg_filtered, \n",
    "                                       left_on='BusStopCode', right_on='PT_CODE', how='left').fillna(0)\n",
    "# Aggregate total passenger volume per service route for each month\n",
    "route_pv_jul_ft = route_passenger_volumes_jul_ft.groupby('ServiceNo').agg(\n",
    "    JulyTotalTapIn=('JulyTapIn', 'sum'),\n",
    "    JulyTotalTapOut=('JulyTapOut', 'sum')\n",
    ").reset_index()\n",
    "\n",
    "route_pv_aug_ft = route_passenger_volumes_aug_ft.groupby('ServiceNo').agg(\n",
    "    AugTotalTapIn=('AugTapIn', 'sum'),\n",
    "    AugTotalTapOut=('AugTapOut', 'sum')\n",
    ").reset_index()\n",
    "\n",
    "route_pv_sep_ft = route_passenger_volumes_sep_ft.groupby('ServiceNo').agg(\n",
    "    SepTotalTapIn=('SepTapIn', 'sum'),\n",
    "    SepTotalTapOut=('SepTapOut', 'sum')\n",
    ").reset_index()\n",
    "# Merge passenger volumes of each month for each bus service route\n",
    "route_pv_combined_ft = route_pv_jul_ft.merge(route_pv_aug_ft, on='ServiceNo', how='outer')\\\n",
    "                                .merge(route_pv_sep_ft, on='ServiceNo', how='outer').fillna(0)\n",
    "\n",
    "# Calculate total tap volume for each month\n",
    "route_pv_combined_ft['JulyTotalVolume'] = route_pv_combined_ft['JulyTotalTapIn'] + route_pv_combined_ft['JulyTotalTapOut']\n",
    "route_pv_combined_ft['AugTotalVolume'] = route_pv_combined_ft['AugTotalTapIn'] + route_pv_combined_ft['AugTotalTapOut']\n",
    "route_pv_combined_ft['SepTotalVolume'] = route_pv_combined_ft['SepTotalTapIn'] + route_pv_combined_ft['SepTotalTapOut']\n",
    "\n",
    "# calculate the absolute change\n",
    "route_pv_combined_ft['VolumeDecrease_Jul_to_Sep'] = route_pv_combined_ft['JulyTotalVolume'] - route_pv_combined_ft['SepTotalVolume']\n",
    "\n"
   ]
  },
  {
   "cell_type": "code",
   "execution_count": 15,
   "id": "1e326e93",
   "metadata": {},
   "outputs": [
    {
     "name": "stdout",
     "output_type": "stream",
     "text": [
      "  ServiceNo  JulyTotalTapIn  JulyTotalTapOut  AugTotalTapIn  AugTotalTapOut  \\\n",
      "0        10       7049374.0        7175786.0      7055912.0       7159482.0   \n",
      "1       100       4141270.0        3468648.0      4086074.0       3401896.0   \n",
      "2      100A        568184.0         415368.0       561357.0        403512.0   \n",
      "3       101       1312721.0        1066462.0      1289887.0       1039356.0   \n",
      "4       102       1617768.0        1540139.0      1567590.0       1501491.0   \n",
      "\n",
      "   SepTotalTapIn  SepTotalTapOut  JulyTotalVolume  AugTotalVolume  \\\n",
      "0      6629624.0       6719422.0       14225160.0      14215394.0   \n",
      "1      3979716.0       3317702.0        7609918.0       7487970.0   \n",
      "2       547548.0        392128.0         983552.0        964869.0   \n",
      "3      1237287.0        998823.0        2379183.0       2329243.0   \n",
      "4      1488984.0       1428866.0        3157907.0       3069081.0   \n",
      "\n",
      "   SepTotalVolume  VolumeDecrease_Jul_to_Sep  NormalizedVolumeDecrease  \\\n",
      "0      13349046.0                   876114.0                  0.416780   \n",
      "1       7297418.0                   312500.0                  0.175032   \n",
      "2        939676.0                    43876.0                  0.059813   \n",
      "3       2236110.0                   143073.0                  0.102361   \n",
      "4       2917850.0                   240057.0                  0.143960   \n",
      "\n",
      "   SoftmaxVolumeDecrease  \n",
      "0               0.003151  \n",
      "1               0.002474  \n",
      "2               0.002205  \n",
      "3               0.002301  \n",
      "4               0.002399  \n"
     ]
    }
   ],
   "source": [
    "# Min-Max normalize VolumeDecrease_Jul_to_Sep\n",
    "scaler = MinMaxScaler()\n",
    "route_pv_combined_ft['NormalizedVolumeDecrease'] = scaler.fit_transform(route_pv_combined_ft[['VolumeDecrease_Jul_to_Sep']])\n",
    "\n",
    "# Apply softmax to penalize more on routes with a higher decrease\n",
    "max_normalized = route_pv_combined_ft['NormalizedVolumeDecrease'].max()\n",
    "route_pv_combined_ft['SoftmaxVolumeDecrease'] = np.exp(route_pv_combined_ft['NormalizedVolumeDecrease'] - max_normalized) / \\\n",
    "                                             np.sum(np.exp(route_pv_combined_ft['NormalizedVolumeDecrease'] - max_normalized))\n",
    "route_pv_combined_ft.to_csv('../datasets/pv_eda/routes_pv_combined_ft.csv', index=False)\n",
    "print(route_pv_combined_ft.head())"
   ]
  },
  {
   "cell_type": "markdown",
   "id": "22007c4f",
   "metadata": {},
   "source": [
    "##### 1a2. Aggregating the passenger volume of all bus stops"
   ]
  },
  {
   "cell_type": "code",
   "execution_count": 16,
   "id": "21370412",
   "metadata": {},
   "outputs": [],
   "source": [
    "# Convert 'BusStopCode' and 'BusStop' to string\n",
    "bus_routes_df['BusStopCode'] = bus_routes_df['BusStopCode'].astype(str)\n",
    "\n",
    "# Aggregate the total tap volume for each bus stop for each month\n",
    "bus_stop_pv_jul_agg = bus_stop_pv_jul.groupby('PT_CODE').agg(\n",
    "    JulyTapIn=('TOTAL_TAP_IN_VOLUME', 'sum'),\n",
    "    JulyTapOut=('TOTAL_TAP_OUT_VOLUME', 'sum')\n",
    ").reset_index()\n",
    "\n",
    "bus_stop_pv_aug_agg = bus_stop_pv_aug.groupby('PT_CODE').agg(\n",
    "    AugTapIn=('TOTAL_TAP_IN_VOLUME', 'sum'),\n",
    "    AugTapOut=('TOTAL_TAP_OUT_VOLUME', 'sum')\n",
    ").reset_index()\n",
    "\n",
    "bus_stop_pv_sep_agg = bus_stop_pv_sep.groupby('PT_CODE').agg(\n",
    "    SepTapIn=('TOTAL_TAP_IN_VOLUME', 'sum'),\n",
    "    SepTapOut=('TOTAL_TAP_OUT_VOLUME', 'sum')\n",
    ").reset_index()\n",
    "\n",
    "# Merge aggregated bus stop data for each month with bus routes\n",
    "route_passenger_volumes_jul = pd.merge(bus_routes_df, bus_stop_pv_jul_agg, \n",
    "                                       left_on='BusStopCode', right_on='PT_CODE', how='left').fillna(0)\n",
    "\n",
    "route_passenger_volumes_aug = pd.merge(bus_routes_df, bus_stop_pv_aug_agg, \n",
    "                                       left_on='BusStopCode', right_on='PT_CODE', how='left').fillna(0)\n",
    "\n",
    "route_passenger_volumes_sep = pd.merge(bus_routes_df, bus_stop_pv_sep_agg, \n",
    "                                       left_on='BusStopCode', right_on='PT_CODE', how='left').fillna(0)\n",
    "# Aggregate total passenger volume per service route for each month\n",
    "route_pv_jul = route_passenger_volumes_jul.groupby('ServiceNo').agg(\n",
    "    JulyTotalTapIn=('JulyTapIn', 'sum'),\n",
    "    JulyTotalTapOut=('JulyTapOut', 'sum')\n",
    ").reset_index()\n",
    "\n",
    "route_pv_aug = route_passenger_volumes_aug.groupby('ServiceNo').agg(\n",
    "    AugTotalTapIn=('AugTapIn', 'sum'),\n",
    "    AugTotalTapOut=('AugTapOut', 'sum')\n",
    ").reset_index()\n",
    "\n",
    "route_pv_sep = route_passenger_volumes_sep.groupby('ServiceNo').agg(\n",
    "    SepTotalTapIn=('SepTapIn', 'sum'),\n",
    "    SepTotalTapOut=('SepTapOut', 'sum')\n",
    ").reset_index()\n",
    "# Merge passenger volumes of each month for each bus service route\n",
    "route_pv_combined = route_pv_jul.merge(route_pv_aug, on='ServiceNo', how='outer')\\\n",
    "                                .merge(route_pv_sep, on='ServiceNo', how='outer').fillna(0)\n",
    "\n",
    "# Calculate total tap volume for each month\n",
    "route_pv_combined['JulyTotalVolume'] = route_pv_combined['JulyTotalTapIn'] + route_pv_combined['JulyTotalTapOut']\n",
    "route_pv_combined['AugTotalVolume'] = route_pv_combined['AugTotalTapIn'] + route_pv_combined['AugTotalTapOut']\n",
    "route_pv_combined['SepTotalVolume'] = route_pv_combined['SepTotalTapIn'] + route_pv_combined['SepTotalTapOut']\n",
    "\n",
    "# calculate the absolute change\n",
    "route_pv_combined['VolumeDecrease_Jul_to_Sep'] = route_pv_combined['JulyTotalVolume'] - route_pv_combined['SepTotalVolume']\n"
   ]
  },
  {
   "cell_type": "code",
   "execution_count": 17,
   "id": "cc38fb15",
   "metadata": {},
   "outputs": [
    {
     "name": "stdout",
     "output_type": "stream",
     "text": [
      "  ServiceNo  JulyTotalTapIn  JulyTotalTapOut  AugTotalTapIn  AugTotalTapOut  \\\n",
      "0        10      11429188.0       11414196.0     11537526.0      11515306.0   \n",
      "1       100       8261938.0        7251470.0      8202912.0       7191772.0   \n",
      "2      100A        793685.0         665085.0       786062.0        648710.0   \n",
      "3       101       2209738.0        1994069.0      2169520.0       1949728.0   \n",
      "4       102       2789379.0        2671010.0      2708154.0       2596816.0   \n",
      "\n",
      "   SepTotalTapIn  SepTotalTapOut  JulyTotalVolume  AugTotalVolume  \\\n",
      "0     10801766.0      10761844.0       22843384.0      23052832.0   \n",
      "1      7991198.0       7000132.0       15513408.0      15394684.0   \n",
      "2       762100.0        628070.0        1458770.0       1434772.0   \n",
      "3      2062335.0       1856088.0        4203807.0       4119248.0   \n",
      "4      2564411.0       2460953.0        5460389.0       5304970.0   \n",
      "\n",
      "   SepTotalVolume  VolumeDecrease_Jul_to_Sep  NormalizedVolumeDecrease  \\\n",
      "0      21563610.0                  1279774.0                  0.468790   \n",
      "1      14991330.0                   522078.0                  0.232096   \n",
      "2       1390170.0                    68600.0                  0.090436   \n",
      "3       3918423.0                   285384.0                  0.158156   \n",
      "4       5025364.0                   435025.0                  0.204902   \n",
      "\n",
      "   SoftmaxVolumeDecrease  \n",
      "0               0.003092  \n",
      "1               0.002440  \n",
      "2               0.002118  \n",
      "3               0.002267  \n",
      "4               0.002375  \n"
     ]
    }
   ],
   "source": [
    "# Min-Max normalize VolumeDecrease_Jul_to_Sep\n",
    "scaler = MinMaxScaler()\n",
    "route_pv_combined['NormalizedVolumeDecrease'] = scaler.fit_transform(route_pv_combined[['VolumeDecrease_Jul_to_Sep']])\n",
    "\n",
    "# Apply softmax to penalize more on routes with a higher decrease\n",
    "max_normalized = route_pv_combined['NormalizedVolumeDecrease'].max()\n",
    "route_pv_combined['SoftmaxVolumeDecrease'] = np.exp(route_pv_combined['NormalizedVolumeDecrease'] - max_normalized) / \\\n",
    "                                             np.sum(np.exp(route_pv_combined['NormalizedVolumeDecrease'] - max_normalized))\n",
    "route_pv_combined.to_csv('../datasets/pv_eda/routes_pv_combined.csv', index=False)\n",
    "print(route_pv_combined.head())"
   ]
  },
  {
   "cell_type": "code",
   "execution_count": 18,
   "id": "ae18572d",
   "metadata": {},
   "outputs": [
    {
     "data": {
      "text/plain": [
       "(401, 13)"
      ]
     },
     "execution_count": 18,
     "metadata": {},
     "output_type": "execute_result"
    }
   ],
   "source": [
    "route_pv_combined.shape"
   ]
  },
  {
   "cell_type": "markdown",
   "id": "ee0fd3a7",
   "metadata": {},
   "source": [
    "#### Routes with decreasing passenger colume from July - September 2024"
   ]
  },
  {
   "cell_type": "code",
   "execution_count": 19,
   "id": "b4b823a0-3fc1-45c5-aa36-7380413b2575",
   "metadata": {},
   "outputs": [],
   "source": [
    "# Convert 'BusStopCode' and 'BusStop' to string\n",
    "bus_routes_stops['BusStopCode'] = bus_routes_stops['BusStopCode'].astype(str)\n",
    "bus_stop_pv_jul['PT_CODE'] = bus_stop_pv_jul['PT_CODE'].astype(str)\n",
    "bus_stop_pv_aug['PT_CODE'] = bus_stop_pv_aug['PT_CODE'].astype(str)\n",
    "bus_stop_pv_sep['PT_CODE'] = bus_stop_pv_sep['PT_CODE'].astype(str)\n",
    "\n",
    "# Merge bus_routes with bus_stops_passenger_volume to get passenger volumes per route\n",
    "route_passenger_volumes = pd.merge(bus_routes_stops, bus_stop_pv_jul, \n",
    "                                   left_on='BusStopCode', right_on=\"PT_CODE\", how='left')\n",
    "route_passenger_volumes_aug = pd.merge(bus_routes_stops, bus_stop_pv_aug, \n",
    "                                       left_on='BusStopCode', right_on=\"PT_CODE\", how='left')\n",
    "route_passenger_volumes_sep = pd.merge(bus_routes_stops, bus_stop_pv_sep, \n",
    "                                       left_on='BusStopCode', right_on=\"PT_CODE\", how='left')\n",
    "\n",
    "# Group by 'ServiceNo' and 'YEAR_MONTH' to get the total tap-in and tap-out volumes for each service in each month\n",
    "monthly_passenger_volume_jul = route_passenger_volumes.groupby(['ServiceNo', 'YEAR_MONTH'])[['TOTAL_TAP_IN_VOLUME', 'TOTAL_TAP_OUT_VOLUME']].sum().reset_index()\n",
    "monthly_passenger_volume_aug = route_passenger_volumes_aug.groupby(['ServiceNo', 'YEAR_MONTH'])[['TOTAL_TAP_IN_VOLUME', 'TOTAL_TAP_OUT_VOLUME']].sum().reset_index()\n",
    "monthly_passenger_volume_sep = route_passenger_volumes_sep.groupby(['ServiceNo', 'YEAR_MONTH'])[['TOTAL_TAP_IN_VOLUME', 'TOTAL_TAP_OUT_VOLUME']].sum().reset_index()"
   ]
  },
  {
   "cell_type": "code",
   "execution_count": 20,
   "id": "6056c43e",
   "metadata": {},
   "outputs": [
    {
     "data": {
      "text/plain": [
       "(400,)"
      ]
     },
     "execution_count": 20,
     "metadata": {},
     "output_type": "execute_result"
    }
   ],
   "source": [
    "monthly_passenger_volume_jul['ServiceNo'].unique().shape"
   ]
  },
  {
   "cell_type": "code",
   "execution_count": 21,
   "id": "75560ab7-a937-461b-b312-ffd7b8b761a2",
   "metadata": {},
   "outputs": [],
   "source": [
    "# Concatenate all three months' data\n",
    "all_months_data = pd.concat([monthly_passenger_volume_jul, \n",
    "                             monthly_passenger_volume_aug,\n",
    "                             monthly_passenger_volume_sep])\n",
    "\n",
    "# Reset index after concatenation\n",
    "all_months_data.reset_index(drop=True, inplace=True)\n",
    "\n",
    "# Create a new column 'TOTAL_TAP_VOLUME'\n",
    "all_months_data['TOTAL_TAP_VOLUME'] = all_months_data['TOTAL_TAP_IN_VOLUME'] + all_months_data['TOTAL_TAP_OUT_VOLUME']"
   ]
  },
  {
   "cell_type": "code",
   "execution_count": 22,
   "id": "45c693f4",
   "metadata": {},
   "outputs": [
    {
     "data": {
      "text/plain": [
       "(1200,)"
      ]
     },
     "execution_count": 22,
     "metadata": {},
     "output_type": "execute_result"
    }
   ],
   "source": [
    "all_months_data['ServiceNo'].shape"
   ]
  },
  {
   "cell_type": "code",
   "execution_count": 23,
   "id": "ee7e8133-b7f9-46e3-b5e6-691b1355bb24",
   "metadata": {},
   "outputs": [],
   "source": [
    "# Pivot the data to have 'ServiceNo' as rows and 'YEAR_MONTH' as columns\n",
    "tap_in_pivot = all_months_data.pivot(index='ServiceNo', columns='YEAR_MONTH', values='TOTAL_TAP_VOLUME')\n",
    "\n",
    "# Preview the pivot table\n",
    "tap_in_pivot.head()\n",
    "\n",
    "# Check the trend: assign \"Decreasing\" if volumes are consistently going down, otherwise \"Increasing\"\n",
    "tap_in_pivot['Trend'] = tap_in_pivot.apply(\n",
    "    lambda row: 'Decreasing' if (row['2024-07'] > row['2024-08']) and (row['2024-08'] > row['2024-09']) \n",
    "                else 'Increasing', \n",
    "    axis=1\n",
    ")\n",
    "\n",
    "# Create a DataFrame for routes with the trend information\n",
    "trend_routes_df = tap_in_pivot.reset_index()\n",
    "\n",
    "# Optional: Convert \"Trend\" column to binary values (1 for \"Increasing\", 0 for \"Decreasing\")\n",
    "trend_routes_df['Trend_Binary'] = trend_routes_df['Trend'].map({'Increasing': 1, 'Decreasing': 0})"
   ]
  },
  {
   "cell_type": "code",
   "execution_count": 24,
   "id": "09e4562e-ea0d-4689-b9b3-7cdde8a33aa9",
   "metadata": {},
   "outputs": [
    {
     "name": "stdout",
     "output_type": "stream",
     "text": [
      "YEAR_MONTH ServiceNo     2024-07     2024-08     2024-09       Trend  \\\n",
      "0                 10  22843384.0  23052832.0  21563610.0  Increasing   \n",
      "1                100  15513408.0  15394684.0  14991330.0  Decreasing   \n",
      "2               100A   1458770.0   1434772.0   1390170.0  Decreasing   \n",
      "3                101   4203807.0   4119248.0   3918423.0  Decreasing   \n",
      "4                102   5460389.0   5304970.0   5025364.0  Decreasing   \n",
      "\n",
      "YEAR_MONTH  Trend_Binary     Change       Average  \n",
      "0                      1 -1279774.0  2.248661e+07  \n",
      "1                      0  -522078.0  1.529981e+07  \n",
      "2                      0   -68600.0  1.427904e+06  \n",
      "3                      0  -285384.0  4.080493e+06  \n",
      "4                      0  -435025.0  5.263574e+06  \n"
     ]
    }
   ],
   "source": [
    "# Calculate the decrease from '2024-07' to '2024-09'\n",
    "trend_routes_df['Change'] = trend_routes_df['2024-09'] - trend_routes_df['2024-07']\n",
    "# Calculate the average from '2024-07' to '2024-09'\n",
    "trend_routes_df['Average'] = trend_routes_df[['2024-07', '2024-08', '2024-09']].mean(axis=1)\n",
    "print(trend_routes_df.head())\n",
    "trend_routes_df.to_csv('../datasets/pv_eda/routes_pv_trend.csv', index=False)"
   ]
  },
  {
   "cell_type": "code",
   "execution_count": 26,
   "id": "38e44dc1",
   "metadata": {},
   "outputs": [],
   "source": [
    "trend_routes_decreasing = trend_routes_df[trend_routes_df['Trend']=='Decreasing']"
   ]
  },
  {
   "cell_type": "code",
   "execution_count": 30,
   "id": "b2f881d9",
   "metadata": {},
   "outputs": [],
   "source": [
    "trend_routes_decreasing = trend_routes_decreasing.sort_values(by = \"Change\", ascending = True)"
   ]
  },
  {
   "cell_type": "code",
   "execution_count": 33,
   "id": "bd09980c-a785-4505-8f67-ebde4b49fae1",
   "metadata": {},
   "outputs": [
    {
     "data": {
      "image/png": "[encoded data removed]",
      "text/plain": [
       "<Figure size 1200x800 with 1 Axes>"
      ]
     },
     "metadata": {},
     "output_type": "display_data"
    }
   ],
   "source": [
    "# Select the top 10 routes with the largest decrease\n",
    "top_10_decreasing_routes = trend_routes_decreasing.head(20)\n",
    "\n",
    "# Extract the tap-in data for the selected routes using .loc\n",
    "tap_in = tap_in_pivot.loc[top_10_decreasing_routes['ServiceNo'], ['2024-07', '2024-08', '2024-09']]\n",
    "\n",
    "# Reset index to make 'ServiceNo' a column\n",
    "tap_in.reset_index(inplace=True)\n",
    "\n",
    "# Plot the line graph\n",
    "plt.figure(figsize=(12, 8))\n",
    "\n",
    "# Plotting directly without iterating\n",
    "tap_in.set_index('ServiceNo').T.plot(marker='o', ax=plt.gca())\n",
    "\n",
    "plt.title('Top 10 Routes with Largest Decrease (2024-07 to 2024-09)')\n",
    "plt.xlabel('Month')\n",
    "plt.ylabel('Total tap-in and tap-out volume')\n",
    "plt.xticks(rotation=45)\n",
    "plt.legend(title='Service Number', bbox_to_anchor=(1, 1), loc='upper left')\n",
    "plt.grid()\n",
    "plt.show()"
   ]
  },
  {
   "cell_type": "code",
   "execution_count": null,
   "id": "d926a8df",
   "metadata": {},
   "outputs": [
    {
     "data": {
      "text/html": [
       "<div>\n",
       "<style scoped>\n",
       "    .dataframe tbody tr th:only-of-type {\n",
       "        vertical-align: middle;\n",
       "    }\n",
       "\n",
       "    .dataframe tbody tr th {\n",
       "        vertical-align: top;\n",
       "    }\n",
       "\n",
       "    .dataframe thead th {\n",
       "        text-align: right;\n",
       "    }\n",
       "</style>\n",
       "<table border=\"1\" class=\"dataframe\">\n",
       "  <thead>\n",
       "    <tr style=\"text-align: right;\">\n",
       "      <th>YEAR_MONTH</th>\n",
       "      <th>ServiceNo</th>\n",
       "      <th>2024-07</th>\n",
       "      <th>2024-08</th>\n",
       "      <th>2024-09</th>\n",
       "      <th>Decreasing</th>\n",
       "      <th>Decrease</th>\n",
       "      <th>Average</th>\n",
       "    </tr>\n",
       "  </thead>\n",
       "  <tbody>\n",
       "    <tr>\n",
       "      <th>0</th>\n",
       "      <td>100</td>\n",
       "      <td>15513408.0</td>\n",
       "      <td>15394684.0</td>\n",
       "      <td>14991330.0</td>\n",
       "      <td>True</td>\n",
       "      <td>522078.0</td>\n",
       "      <td>1.529981e+07</td>\n",
       "    </tr>\n",
       "    <tr>\n",
       "      <th>1</th>\n",
       "      <td>100A</td>\n",
       "      <td>1458770.0</td>\n",
       "      <td>1434772.0</td>\n",
       "      <td>1390170.0</td>\n",
       "      <td>True</td>\n",
       "      <td>68600.0</td>\n",
       "      <td>1.427904e+06</td>\n",
       "    </tr>\n",
       "    <tr>\n",
       "      <th>2</th>\n",
       "      <td>101</td>\n",
       "      <td>4203807.0</td>\n",
       "      <td>4119248.0</td>\n",
       "      <td>3918423.0</td>\n",
       "      <td>True</td>\n",
       "      <td>285384.0</td>\n",
       "      <td>4.080493e+06</td>\n",
       "    </tr>\n",
       "    <tr>\n",
       "      <th>3</th>\n",
       "      <td>102</td>\n",
       "      <td>5460389.0</td>\n",
       "      <td>5304970.0</td>\n",
       "      <td>5025364.0</td>\n",
       "      <td>True</td>\n",
       "      <td>435025.0</td>\n",
       "      <td>5.263574e+06</td>\n",
       "    </tr>\n",
       "    <tr>\n",
       "      <th>4</th>\n",
       "      <td>102A</td>\n",
       "      <td>842857.0</td>\n",
       "      <td>818805.0</td>\n",
       "      <td>776782.0</td>\n",
       "      <td>True</td>\n",
       "      <td>66075.0</td>\n",
       "      <td>8.128147e+05</td>\n",
       "    </tr>\n",
       "  </tbody>\n",
       "</table>\n",
       "</div>"
      ],
      "text/plain": [
       "YEAR_MONTH ServiceNo     2024-07     2024-08     2024-09  Decreasing  \\\n",
       "0                100  15513408.0  15394684.0  14991330.0        True   \n",
       "1               100A   1458770.0   1434772.0   1390170.0        True   \n",
       "2                101   4203807.0   4119248.0   3918423.0        True   \n",
       "3                102   5460389.0   5304970.0   5025364.0        True   \n",
       "4               102A    842857.0    818805.0    776782.0        True   \n",
       "\n",
       "YEAR_MONTH  Decrease       Average  \n",
       "0           522078.0  1.529981e+07  \n",
       "1            68600.0  1.427904e+06  \n",
       "2           285384.0  4.080493e+06  \n",
       "3           435025.0  5.263574e+06  \n",
       "4            66075.0  8.128147e+05  "
      ]
     },
     "execution_count": 127,
     "metadata": {},
     "output_type": "execute_result"
    }
   ],
   "source": [
    "decreasing_routes_df.head()"
   ]
  },
  {
   "cell_type": "markdown",
   "id": "64788e95-95ce-42aa-84ee-518ff77a36ab",
   "metadata": {},
   "source": [
    "### 1b. Normalise Passenger Volumes of Bus Routes by Total Number of Bus Stops"
   ]
  },
  {
   "cell_type": "code",
   "execution_count": null,
   "id": "c7a4d1ad-b9ee-489c-abc6-d547b1e24b32",
   "metadata": {},
   "outputs": [],
   "source": [
    "# Group by 'bus_service_no' and count the total number of stops it serves 'stop_sequence' for each bus service\n",
    "route_stop_count = bus_routes_df.groupby('ServiceNo')['StopSequence'].count().reset_index()\n",
    "\n",
    "# Rename the columns for clarity\n",
    "route_stop_count.columns = ['ServiceNo', 'TotalStops']\n",
    "\n",
    "# Normalise the dataset\n",
    "normalised_bus_services_df = pd.merge(decreasing_routes_df, route_stop_count, \n",
    "                                   on = \"ServiceNo\", how = \"left\")"
   ]
  },
  {
   "cell_type": "code",
   "execution_count": null,
   "id": "28a78cc0",
   "metadata": {},
   "outputs": [
    {
     "data": {
      "text/plain": [
       "(331,)"
      ]
     },
     "execution_count": 129,
     "metadata": {},
     "output_type": "execute_result"
    }
   ],
   "source": [
    "normalised_bus_services_df['ServiceNo'].shape"
   ]
  },
  {
   "cell_type": "code",
   "execution_count": null,
   "id": "9e372b23-e233-4b14-baf4-4896a8de2ad9",
   "metadata": {},
   "outputs": [
    {
     "name": "stdout",
     "output_type": "stream",
     "text": [
      "Principal Component 1:\n",
      "   Decrease: 0.58\n",
      "   Average: 0.60\n",
      "   TotalStops: 0.55\n",
      "Principal Component 2:\n",
      "   Decrease: -0.55\n",
      "   Average: -0.21\n",
      "   TotalStops: 0.81\n",
      "Principal Component 3:\n",
      "   Decrease: -0.60\n",
      "   Average: 0.77\n",
      "   TotalStops: -0.21\n",
      "Principal Component 1 explains 89.66% of the variance\n",
      "Principal Component 2 explains 9.30% of the variance\n",
      "Principal Component 3 explains 1.04% of the variance\n"
     ]
    }
   ],
   "source": [
    "# Select the relevant columns\n",
    "features = ['Decrease', 'Average', 'TotalStops']\n",
    "\n",
    "# Initialize the scaler\n",
    "scaler = StandardScaler()\n",
    "# Scale the features\n",
    "normalised_bus_services_df[features] = scaler.fit_transform(normalised_bus_services_df[features])\n",
    "\n",
    "# Initialize PCA to capture all three components\n",
    "pca = PCA(n_components=3)  # Number of components equals number of original features\n",
    "pca.fit(normalised_bus_services_df[features])\n",
    "\n",
    "# Transform the data to get principal components\n",
    "pca_components = pca.transform(normalised_bus_services_df[features])\n",
    "\n",
    "# Extract and display the component loadings\n",
    "loadings = pca.components_\n",
    "feature_names = features\n",
    "for i, component in enumerate(loadings):\n",
    "    print(f\"Principal Component {i+1}:\")\n",
    "    for feature, loading in zip(feature_names, component):\n",
    "        print(f\"   {feature}: {loading:.2f}\")\n",
    "\n",
    "# Variance explained by each principal component\n",
    "explained_variance = pca.explained_variance_ratio_\n",
    "for i, variance in enumerate(explained_variance):\n",
    "    print(f\"Principal Component {i+1} explains {variance:.2%} of the variance\")"
   ]
  },
  {
   "cell_type": "code",
   "execution_count": null,
   "id": "4c882d9a-493c-437b-a9b9-4be062ffb619",
   "metadata": {},
   "outputs": [],
   "source": [
    "# Calculate weights by normalizing component loadings\n",
    "total_loading = abs(0.58) + abs(0.60) + abs(0.55)\n",
    "weights = {\n",
    "    'Decrease': abs(0.58) / total_loading,\n",
    "    'Average': abs(0.60) / total_loading,\n",
    "    'TotalStops': abs(0.55) / total_loading\n",
    "}\n",
    "\n",
    "# Calculate Normalised score as a weighted sum\n",
    "normalised_bus_services_df['Normalised'] = (\n",
    "    weights['Decrease'] * normalised_bus_services_df['Decrease'] +\n",
    "    weights['Average'] * normalised_bus_services_df['Average'] +\n",
    "    weights['TotalStops'] * normalised_bus_services_df['TotalStops']\n",
    ")\n",
    "\n",
    "\n",
    "bus_routes_pv_softmax = normalised_bus_services_df.copy()\n",
    "\n",
    "# Min-max scale Normalised column to range between 0 and 10\n",
    "scaler = MinMaxScaler(feature_range=(0, 10))\n",
    "bus_routes_pv_softmax['Scaled_Normalised'] = scaler.fit_transform(bus_routes_pv_softmax[['Normalised']])\n",
    "\n",
    "# Apply softmax on the scaled values\n",
    "max_scaled = bus_routes_pv_softmax['Scaled_Normalised'].max()\n",
    "bus_routes_pv_softmax['Softmax'] = np.exp(bus_routes_pv_softmax['Scaled_Normalised'] - max_scaled) / np.sum(np.exp(bus_routes_pv_softmax['Scaled_Normalised'] - max_scaled))\n",
    "\n",
    "# Sort the DataFrame by 'Normalised' in descending order\n",
    "decreasing_normalised_bus_services_df_sorted = bus_routes_pv_softmax.sort_values(by='Softmax', ascending=False)\n",
    "decreasing_normalised_bus_services_df_sorted.to_csv('../datasets/pv_eda/routes_w_normalised_pv.csv', index=False)"
   ]
  },
  {
   "cell_type": "markdown",
   "id": "6e4c5c02-06b7-40f2-8e0e-75cf5c0eee34",
   "metadata": {},
   "source": [
    "### 2a. Trend of Passenger Volumes by Bus Stops\n",
    "- Assumption: Passenger Volumes represented by Total Number of Tap Ins and Tap Outs"
   ]
  },
  {
   "cell_type": "code",
   "execution_count": null,
   "id": "ab9a3731-83c0-4be0-beb9-47dd414e22bc",
   "metadata": {},
   "outputs": [],
   "source": [
    "# Create a new column 'TOTAL_TAP_VOLUME' summing tap-in and tap-out volumes\n",
    "bus_stop_pv_jul['TOTAL_TAP_VOLUME'] = bus_stop_pv_jul['TOTAL_TAP_IN_VOLUME'] + bus_stop_pv_jul['TOTAL_TAP_OUT_VOLUME']\n",
    "bus_stop_pv_aug['TOTAL_TAP_VOLUME'] = bus_stop_pv_aug['TOTAL_TAP_IN_VOLUME'] + bus_stop_pv_aug['TOTAL_TAP_OUT_VOLUME']\n",
    "bus_stop_pv_sep['TOTAL_TAP_VOLUME'] = bus_stop_pv_sep['TOTAL_TAP_IN_VOLUME'] + bus_stop_pv_sep['TOTAL_TAP_OUT_VOLUME']\n",
    "\n",
    "# Group by PT_CODE and YEAR_MONTH to get total taps for each bus stop per month\n",
    "monthly_tap_jul = bus_stop_pv_jul.groupby(['PT_CODE', 'YEAR_MONTH'])[['TOTAL_TAP_VOLUME']].sum().reset_index()\n",
    "monthly_tap_aug = bus_stop_pv_aug.groupby(['PT_CODE', 'YEAR_MONTH'])[['TOTAL_TAP_VOLUME']].sum().reset_index()\n",
    "monthly_tap_sep = bus_stop_pv_sep.groupby(['PT_CODE', 'YEAR_MONTH'])[['TOTAL_TAP_VOLUME']].sum().reset_index()"
   ]
  },
  {
   "cell_type": "code",
   "execution_count": null,
   "id": "d5cb879f-1801-4b5d-8270-bd4d23c0a29d",
   "metadata": {},
   "outputs": [],
   "source": [
    "# Concatenate all three months' data\n",
    "all_months_taps = pd.concat([monthly_tap_jul, \n",
    "                             monthly_tap_aug,\n",
    "                             monthly_tap_sep])\n",
    "\n",
    "# Reset index after concatenation\n",
    "all_months_taps.reset_index(drop=True, inplace=True)"
   ]
  },
  {
   "cell_type": "code",
   "execution_count": null,
   "id": "53ddd1b4-86a5-48e4-9ab9-31372f1c39f4",
   "metadata": {},
   "outputs": [],
   "source": [
    "# Ensure 'PT_CODE' and 'BusStopCode' are of the same data type\n",
    "all_months_taps['PT_CODE'] = all_months_taps['PT_CODE'].astype(str)\n",
    "\n",
    "# Pivot the data to have 'ServiceNo' as rows and 'YEAR_MONTH' as columns\n",
    "tap_bus_stop_pivot = all_months_taps.pivot(index='PT_CODE', columns='YEAR_MONTH', values='TOTAL_TAP_VOLUME')\n",
    "\n",
    "# Preview the pivot table\n",
    "tap_bus_stop_pivot.head()\n",
    "\n",
    "# Assuming tap_in_pivot already has the data for '2024-07', '2024-08', and '2024-09'\n",
    "tap_bus_stop_pivot['Decreasing'] = (tap_bus_stop_pivot['2024-07'] > tap_bus_stop_pivot['2024-08']) & (tap_bus_stop_pivot['2024-08'] > tap_bus_stop_pivot['2024-09'])\n",
    "\n",
    "# Create a DataFrame for routes with decreasing tap-ins\n",
    "taps_bus_stop_df = tap_bus_stop_pivot[tap_bus_stop_pivot['Decreasing']].reset_index()\n",
    "taps_bus_stop_df.rename(columns={'YEAR_MONTH': 'Index'}, inplace=True)\n",
    "\n",
    "# Ensure that 'bus_routes_stops_cleaned' has unique 'BusStopCode'\n",
    "bus_routes_stops_cleaned = bus_routes_stops.drop_duplicates(subset=['BusStopCode'])\n",
    "\n",
    "# Merge to get the name and description for both the ORIGIN and DESTINATION in July\n",
    "decreasing_bus_stops_df = pd.merge(\n",
    "    taps_bus_stop_df, \n",
    "    bus_routes_stops_cleaned[['BusStopCode', 'RoadName', 'Description']],\n",
    "    left_on='PT_CODE', \n",
    "    right_on='BusStopCode', \n",
    "    how='left'\n",
    ").drop(columns=['BusStopCode'])"
   ]
  },
  {
   "cell_type": "code",
   "execution_count": null,
   "id": "65335f23-ed7a-465c-a974-bc2239400c03",
   "metadata": {},
   "outputs": [],
   "source": [
    "# Calculate the decrease from '2024-07' to '2024-09'\n",
    "decreasing_bus_stops_df['Decrease'] = decreasing_bus_stops_df['2024-07'] - decreasing_bus_stops_df['2024-09']\n",
    "\n",
    "# Sort the DataFrame by 'Decrease' in descending order\n",
    "decreasing_bus_stops_df_sorted = decreasing_bus_stops_df.sort_values(by='Decrease', ascending=False)\n",
    "decreasing_bus_stops_df_sorted.to_csv('../datasets/pv_eda/bus_stops_w_decreasing_pv.csv', index=False)"
   ]
  },
  {
   "cell_type": "markdown",
   "id": "68c757cb-9b95-4826-b1a2-2e7bdd939aed",
   "metadata": {},
   "source": [
    "### 2b. Normalise Passenger Volumes of Bus Stops by Unique Number of Bus Services"
   ]
  },
  {
   "cell_type": "code",
   "execution_count": null,
   "id": "00e12dc9-86ed-4931-918f-7910782de8ae",
   "metadata": {},
   "outputs": [],
   "source": [
    "# Group by 'bus_stop_code' and count the unique 'bus_service' for each stop\n",
    "bus_service_count = bus_routes_df.groupby('BusStopCode')['ServiceNo'].nunique().reset_index()\n",
    "\n",
    "# Rename the columns for clarity\n",
    "bus_service_count.columns = ['BusStopCode', 'TotalBusService']"
   ]
  },
  {
   "cell_type": "code",
   "execution_count": null,
   "id": "d0324bc6-8244-4b73-a008-2356b6e09e97",
   "metadata": {},
   "outputs": [],
   "source": [
    "# Normalise the dataset\n",
    "normalised_bus_stops_df = pd.merge(decreasing_bus_stops_df, bus_service_count, \n",
    "                                   left_on = \"PT_CODE\", right_on = \"BusStopCode\",\n",
    "                                   how = \"left\").drop(columns=['BusStopCode'])\n",
    "normalised_bus_stops_df['Normalised'] = normalised_bus_stops_df['Decrease'] / normalised_bus_stops_df['TotalBusService']\n",
    "\n",
    "# Sort the DataFrame by 'Normalised' in descending order\n",
    "decreasing_normalised_bus_stops_df_sorted = normalised_bus_stops_df.sort_values(by='Normalised', ascending=False)\n",
    "decreasing_normalised_bus_stops_df_sorted.to_csv('../datasets/pv_eda/bus_stops_w_normalised_pv.csv', index=False)"
   ]
  },
  {
   "cell_type": "markdown",
   "id": "fc6ffc1a-cdbc-4e33-bfa9-8a80b8300069",
   "metadata": {},
   "source": [
    "### 3. Average (Mean and Median) Monthly Bus Servicing the Same Origin and Destination Routes"
   ]
  },
  {
   "cell_type": "code",
   "execution_count": null,
   "id": "e71507f3-9cb0-423b-ab79-968267e09176",
   "metadata": {},
   "outputs": [],
   "source": [
    "# Convert both 'ORIGIN_PT_CODE' and 'DESTINATION_PT_CODE' columns to string for July\n",
    "bus_od_jul[['ORIGIN_PT_CODE', 'DESTINATION_PT_CODE']] = bus_od_jul[['ORIGIN_PT_CODE', 'DESTINATION_PT_CODE']].astype(str)\n",
    "bus_od_aug[['ORIGIN_PT_CODE', 'DESTINATION_PT_CODE']] = bus_od_aug[['ORIGIN_PT_CODE', 'DESTINATION_PT_CODE']].astype(str)\n",
    "bus_od_sep[['ORIGIN_PT_CODE', 'DESTINATION_PT_CODE']] = bus_od_sep[['ORIGIN_PT_CODE', 'DESTINATION_PT_CODE']].astype(str)\n",
    "\n",
    "# Group by 'YEAR_MONTH', 'ORIGIN_PT_CODE' and 'DESTINATION_PT_CODE'\n",
    "grouped_trips_jul = bus_od_jul.groupby(['YEAR_MONTH', 'ORIGIN_PT_CODE', 'DESTINATION_PT_CODE'])[['TOTAL_TRIPS']].sum().reset_index()\n",
    "grouped_trips_aug = bus_od_aug.groupby(['YEAR_MONTH', 'ORIGIN_PT_CODE', 'DESTINATION_PT_CODE'])[['TOTAL_TRIPS']].sum().reset_index()\n",
    "grouped_trips_sep = bus_od_sep.groupby(['YEAR_MONTH', 'ORIGIN_PT_CODE', 'DESTINATION_PT_CODE'])[['TOTAL_TRIPS']].sum().reset_index()"
   ]
  },
  {
   "cell_type": "code",
   "execution_count": null,
   "id": "19525841",
   "metadata": {},
   "outputs": [
    {
     "data": {
      "text/html": [
       "<div>\n",
       "<style scoped>\n",
       "    .dataframe tbody tr th:only-of-type {\n",
       "        vertical-align: middle;\n",
       "    }\n",
       "\n",
       "    .dataframe tbody tr th {\n",
       "        vertical-align: top;\n",
       "    }\n",
       "\n",
       "    .dataframe thead th {\n",
       "        text-align: right;\n",
       "    }\n",
       "</style>\n",
       "<table border=\"1\" class=\"dataframe\">\n",
       "  <thead>\n",
       "    <tr style=\"text-align: right;\">\n",
       "      <th></th>\n",
       "      <th>YEAR_MONTH</th>\n",
       "      <th>DAY_TYPE</th>\n",
       "      <th>TIME_PER_HOUR</th>\n",
       "      <th>PT_TYPE</th>\n",
       "      <th>ORIGIN_PT_CODE</th>\n",
       "      <th>DESTINATION_PT_CODE</th>\n",
       "      <th>TOTAL_TRIPS</th>\n",
       "    </tr>\n",
       "  </thead>\n",
       "  <tbody>\n",
       "    <tr>\n",
       "      <th>0</th>\n",
       "      <td>2024-07</td>\n",
       "      <td>WEEKDAY</td>\n",
       "      <td>22</td>\n",
       "      <td>BUS</td>\n",
       "      <td>43499</td>\n",
       "      <td>43481</td>\n",
       "      <td>1</td>\n",
       "    </tr>\n",
       "    <tr>\n",
       "      <th>1</th>\n",
       "      <td>2024-07</td>\n",
       "      <td>WEEKENDS/HOLIDAY</td>\n",
       "      <td>23</td>\n",
       "      <td>BUS</td>\n",
       "      <td>22009</td>\n",
       "      <td>14109</td>\n",
       "      <td>1</td>\n",
       "    </tr>\n",
       "    <tr>\n",
       "      <th>2</th>\n",
       "      <td>2024-07</td>\n",
       "      <td>WEEKDAY</td>\n",
       "      <td>22</td>\n",
       "      <td>BUS</td>\n",
       "      <td>10099</td>\n",
       "      <td>3031</td>\n",
       "      <td>1</td>\n",
       "    </tr>\n",
       "    <tr>\n",
       "      <th>3</th>\n",
       "      <td>2024-07</td>\n",
       "      <td>WEEKENDS/HOLIDAY</td>\n",
       "      <td>16</td>\n",
       "      <td>BUS</td>\n",
       "      <td>7419</td>\n",
       "      <td>7031</td>\n",
       "      <td>33</td>\n",
       "    </tr>\n",
       "    <tr>\n",
       "      <th>4</th>\n",
       "      <td>2024-07</td>\n",
       "      <td>WEEKDAY</td>\n",
       "      <td>9</td>\n",
       "      <td>BUS</td>\n",
       "      <td>72079</td>\n",
       "      <td>60089</td>\n",
       "      <td>4</td>\n",
       "    </tr>\n",
       "  </tbody>\n",
       "</table>\n",
       "</div>"
      ],
      "text/plain": [
       "  YEAR_MONTH          DAY_TYPE  TIME_PER_HOUR PT_TYPE ORIGIN_PT_CODE  \\\n",
       "0    2024-07           WEEKDAY             22     BUS          43499   \n",
       "1    2024-07  WEEKENDS/HOLIDAY             23     BUS          22009   \n",
       "2    2024-07           WEEKDAY             22     BUS          10099   \n",
       "3    2024-07  WEEKENDS/HOLIDAY             16     BUS           7419   \n",
       "4    2024-07           WEEKDAY              9     BUS          72079   \n",
       "\n",
       "  DESTINATION_PT_CODE  TOTAL_TRIPS  \n",
       "0               43481            1  \n",
       "1               14109            1  \n",
       "2                3031            1  \n",
       "3                7031           33  \n",
       "4               60089            4  "
      ]
     },
     "execution_count": 139,
     "metadata": {},
     "output_type": "execute_result"
    }
   ],
   "source": [
    "bus_od_jul.head()"
   ]
  },
  {
   "cell_type": "code",
   "execution_count": null,
   "id": "fd8eb9c2-d969-45a4-b732-624974c51f0f",
   "metadata": {},
   "outputs": [],
   "source": [
    "# Ensure that 'bus_routes_stops_cleaned' has unique 'BusStopCode'\n",
    "bus_routes_stops_cleaned = bus_routes_stops.drop_duplicates(subset=['BusStopCode'])\n",
    "\n",
    "# Merge to get the name and description for both the ORIGIN and DESTINATION in July\n",
    "route_trips_jul = pd.merge(\n",
    "    grouped_trips_jul, \n",
    "    bus_routes_stops_cleaned[['BusStopCode', 'Description']].rename(columns={'Description': 'ORIGIN_DESCRIPTION'}),\n",
    "    left_on='ORIGIN_PT_CODE', \n",
    "    right_on='BusStopCode', \n",
    "    how='left'\n",
    ").drop(columns=['BusStopCode'])\n",
    "\n",
    "route_trips_jul = pd.merge(\n",
    "    route_trips_jul, \n",
    "    bus_routes_stops_cleaned[['BusStopCode', 'Description']].rename(columns={'Description': 'DESTINATION_DESCRIPTION'}),\n",
    "    left_on='DESTINATION_PT_CODE', \n",
    "    right_on='BusStopCode', \n",
    "    how='left'\n",
    ").drop(columns=['BusStopCode'])\n",
    "\n",
    "# Merge to get the name and description for both the ORIGIN and DESTINATION in July\n",
    "route_trips_aug = pd.merge(\n",
    "    grouped_trips_aug, \n",
    "    bus_routes_stops_cleaned[['BusStopCode', 'Description']].rename(columns={'Description': 'ORIGIN_DESCRIPTION'}),\n",
    "    left_on='ORIGIN_PT_CODE', \n",
    "    right_on='BusStopCode', \n",
    "    how='left'\n",
    ").drop(columns=['BusStopCode'])\n",
    "\n",
    "route_trips_aug = pd.merge(\n",
    "    route_trips_aug, \n",
    "    bus_routes_stops_cleaned[['BusStopCode', 'Description']].rename(columns={'Description': 'DESTINATION_DESCRIPTION'}),\n",
    "    left_on='DESTINATION_PT_CODE', \n",
    "    right_on='BusStopCode', \n",
    "    how='left'\n",
    ").drop(columns=['BusStopCode'])\n",
    "\n",
    "# Merge to get the name and description for both the ORIGIN and DESTINATION in July\n",
    "route_trips_sep = pd.merge(\n",
    "    grouped_trips_sep, \n",
    "    bus_routes_stops_cleaned[['BusStopCode', 'Description']].rename(columns={'Description': 'ORIGIN_DESCRIPTION'}),\n",
    "    left_on='ORIGIN_PT_CODE', \n",
    "    right_on='BusStopCode', \n",
    "    how='left'\n",
    ").drop(columns=['BusStopCode'])\n",
    "\n",
    "route_trips_sep = pd.merge(\n",
    "    route_trips_sep, \n",
    "    bus_routes_stops_cleaned[['BusStopCode', 'Description']].rename(columns={'Description': 'DESTINATION_DESCRIPTION'}),\n",
    "    left_on='DESTINATION_PT_CODE', \n",
    "    right_on='BusStopCode', \n",
    "    how='left'\n",
    ").drop(columns=['BusStopCode'])"
   ]
  },
  {
   "cell_type": "code",
   "execution_count": null,
   "id": "10fa2fd6-85db-4ad8-b5d8-79ee79937b94",
   "metadata": {},
   "outputs": [],
   "source": [
    "# Concatenate all three months' data\n",
    "all_months_trips = pd.concat([route_trips_jul, \n",
    "                             route_trips_aug,\n",
    "                             route_trips_sep])\n",
    "\n",
    "# Reset index after concatenation\n",
    "all_months_trips.reset_index(drop=True, inplace=True)"
   ]
  },
  {
   "cell_type": "code",
   "execution_count": null,
   "id": "da68eb4d",
   "metadata": {},
   "outputs": [
    {
     "data": {
      "text/html": [
       "<div>\n",
       "<style scoped>\n",
       "    .dataframe tbody tr th:only-of-type {\n",
       "        vertical-align: middle;\n",
       "    }\n",
       "\n",
       "    .dataframe tbody tr th {\n",
       "        vertical-align: top;\n",
       "    }\n",
       "\n",
       "    .dataframe thead th {\n",
       "        text-align: right;\n",
       "    }\n",
       "</style>\n",
       "<table border=\"1\" class=\"dataframe\">\n",
       "  <thead>\n",
       "    <tr style=\"text-align: right;\">\n",
       "      <th></th>\n",
       "      <th>YEAR_MONTH</th>\n",
       "      <th>ORIGIN_PT_CODE</th>\n",
       "      <th>DESTINATION_PT_CODE</th>\n",
       "      <th>TOTAL_TRIPS</th>\n",
       "      <th>ORIGIN_DESCRIPTION</th>\n",
       "      <th>DESTINATION_DESCRIPTION</th>\n",
       "    </tr>\n",
       "  </thead>\n",
       "  <tbody>\n",
       "    <tr>\n",
       "      <th>0</th>\n",
       "      <td>2024-07</td>\n",
       "      <td>10009</td>\n",
       "      <td>10017</td>\n",
       "      <td>58</td>\n",
       "      <td>Bt Merah Int</td>\n",
       "      <td>Aft Hosp Dr</td>\n",
       "    </tr>\n",
       "    <tr>\n",
       "      <th>1</th>\n",
       "      <td>2024-07</td>\n",
       "      <td>10009</td>\n",
       "      <td>10049</td>\n",
       "      <td>129</td>\n",
       "      <td>Bt Merah Int</td>\n",
       "      <td>OPP KAMPONG BAHRU TER</td>\n",
       "    </tr>\n",
       "    <tr>\n",
       "      <th>2</th>\n",
       "      <td>2024-07</td>\n",
       "      <td>10009</td>\n",
       "      <td>10059</td>\n",
       "      <td>155</td>\n",
       "      <td>Bt Merah Int</td>\n",
       "      <td>Opp Blk 149</td>\n",
       "    </tr>\n",
       "    <tr>\n",
       "      <th>3</th>\n",
       "      <td>2024-07</td>\n",
       "      <td>10009</td>\n",
       "      <td>10069</td>\n",
       "      <td>133</td>\n",
       "      <td>Bt Merah Int</td>\n",
       "      <td>Opp Blk 140</td>\n",
       "    </tr>\n",
       "    <tr>\n",
       "      <th>4</th>\n",
       "      <td>2024-07</td>\n",
       "      <td>10009</td>\n",
       "      <td>10079</td>\n",
       "      <td>2134</td>\n",
       "      <td>Bt Merah Int</td>\n",
       "      <td>Blk 201</td>\n",
       "    </tr>\n",
       "  </tbody>\n",
       "</table>\n",
       "</div>"
      ],
      "text/plain": [
       "  YEAR_MONTH ORIGIN_PT_CODE DESTINATION_PT_CODE  TOTAL_TRIPS  \\\n",
       "0    2024-07          10009               10017           58   \n",
       "1    2024-07          10009               10049          129   \n",
       "2    2024-07          10009               10059          155   \n",
       "3    2024-07          10009               10069          133   \n",
       "4    2024-07          10009               10079         2134   \n",
       "\n",
       "  ORIGIN_DESCRIPTION DESTINATION_DESCRIPTION  \n",
       "0       Bt Merah Int             Aft Hosp Dr  \n",
       "1       Bt Merah Int   OPP KAMPONG BAHRU TER  \n",
       "2       Bt Merah Int             Opp Blk 149  \n",
       "3       Bt Merah Int             Opp Blk 140  \n",
       "4       Bt Merah Int                 Blk 201  "
      ]
     },
     "execution_count": 142,
     "metadata": {},
     "output_type": "execute_result"
    }
   ],
   "source": [
    "all_months_trips.head()"
   ]
  },
  {
   "cell_type": "code",
   "execution_count": null,
   "id": "d18e35bb-2c42-4a6b-93f3-0025cb624663",
   "metadata": {},
   "outputs": [],
   "source": [
    "monthly_mean_total_trips = all_months_trips.groupby(['ORIGIN_PT_CODE', \n",
    "                                                'DESTINATION_PT_CODE', \n",
    "                                                'ORIGIN_DESCRIPTION', \n",
    "                                                'DESTINATION_DESCRIPTION'])[['TOTAL_TRIPS']].mean().reset_index()\n",
    "\n",
    "# Sort the DataFrame by 'TOTAL_TRIPS' in descending order\n",
    "mean_trips_sorted = monthly_mean_total_trips.sort_values(by='TOTAL_TRIPS', ascending=False)\n",
    "mean_trips_sorted.to_csv('../datasets/pv_eda/mean_trips.csv', index=False)"
   ]
  },
  {
   "cell_type": "code",
   "execution_count": null,
   "id": "3381b5a1-de51-465d-ba80-80667fbd8b75",
   "metadata": {},
   "outputs": [],
   "source": [
    "monthly_median_total_trips = all_months_trips.groupby(['ORIGIN_PT_CODE', \n",
    "                                                'DESTINATION_PT_CODE', \n",
    "                                                'ORIGIN_DESCRIPTION', \n",
    "                                                'DESTINATION_DESCRIPTION'])[['TOTAL_TRIPS']].median().reset_index()\n",
    "\n",
    "# Sort the DataFrame by 'TOTAL_TRIPS' in descending order\n",
    "median_trips_sorted = monthly_median_total_trips.sort_values(by='TOTAL_TRIPS', ascending=False)\n",
    "median_trips_sorted.to_csv('../datasets/pv_eda/median_trips.csv', index=False)"
   ]
  },
  {
   "cell_type": "markdown",
   "id": "e2f20fa7-acd9-42f3-b894-db389386a0f8",
   "metadata": {},
   "source": [
    "## Summary\n",
    "1. Bus stops and services that saw a significant decrease are those that serve higher educational institutions (e.g. Polytechnics, ITEs) -- July to September coincide with term breaks\n",
    "2. Top bus services based on their monthly number of trips are those that serve short distances "
   ]
  },
  {
   "cell_type": "markdown",
   "id": "911864d4-b778-4838-b2d8-fa3dd099e862",
   "metadata": {},
   "source": [
    "## EDA of Bus Routes and Services along Interchanges and Stations"
   ]
  },
  {
   "cell_type": "markdown",
   "id": "ecd95c42-0f0b-47f8-a063-92e3bd2f4044",
   "metadata": {},
   "source": [
    "### 4. Total Number of Interchanges and Stations each Bus Service serves"
   ]
  },
  {
   "cell_type": "code",
   "execution_count": null,
   "id": "bb467d6f-ed49-4fc5-bb7b-e762c2843ec7",
   "metadata": {},
   "outputs": [
    {
     "name": "stderr",
     "output_type": "stream",
     "text": [
      "C:\\Users\\Gene\\AppData\\Local\\Temp\\ipykernel_9748\\984395672.py:1: UserWarning: This pattern is interpreted as a regular expression, and has match groups. To actually get the groups, use str.extract.\n",
      "  filtered_bus_stops = bus_stops_df[bus_stops_df['Description'].str.contains(r'\\b(Int|Stn)(\\b|[\\s/])', case=False, na=False)]\n"
     ]
    },
    {
     "data": {
      "text/html": [
       "<div>\n",
       "<style scoped>\n",
       "    .dataframe tbody tr th:only-of-type {\n",
       "        vertical-align: middle;\n",
       "    }\n",
       "\n",
       "    .dataframe tbody tr th {\n",
       "        vertical-align: top;\n",
       "    }\n",
       "\n",
       "    .dataframe thead th {\n",
       "        text-align: right;\n",
       "    }\n",
       "</style>\n",
       "<table border=\"1\" class=\"dataframe\">\n",
       "  <thead>\n",
       "    <tr style=\"text-align: right;\">\n",
       "      <th></th>\n",
       "      <th>BusStopCode</th>\n",
       "      <th>RoadName</th>\n",
       "      <th>Description</th>\n",
       "      <th>Latitude</th>\n",
       "      <th>Longitude</th>\n",
       "    </tr>\n",
       "  </thead>\n",
       "  <tbody>\n",
       "    <tr>\n",
       "      <th>5</th>\n",
       "      <td>01059</td>\n",
       "      <td>Victoria St</td>\n",
       "      <td>Bugis Stn Exit B</td>\n",
       "      <td>1.300757</td>\n",
       "      <td>103.856110</td>\n",
       "    </tr>\n",
       "    <tr>\n",
       "      <th>7</th>\n",
       "      <td>01112</td>\n",
       "      <td>Victoria St</td>\n",
       "      <td>Opp Bugis Stn Exit C</td>\n",
       "      <td>1.300092</td>\n",
       "      <td>103.855200</td>\n",
       "    </tr>\n",
       "    <tr>\n",
       "      <th>8</th>\n",
       "      <td>01113</td>\n",
       "      <td>Victoria St</td>\n",
       "      <td>Bugis Stn Exit A</td>\n",
       "      <td>1.301173</td>\n",
       "      <td>103.856114</td>\n",
       "    </tr>\n",
       "    <tr>\n",
       "      <th>9</th>\n",
       "      <td>01119</td>\n",
       "      <td>Victoria St</td>\n",
       "      <td>Aft Bugis Stn Exit C</td>\n",
       "      <td>1.299604</td>\n",
       "      <td>103.855129</td>\n",
       "    </tr>\n",
       "    <tr>\n",
       "      <th>12</th>\n",
       "      <td>01139</td>\n",
       "      <td>Nth Bridge Rd</td>\n",
       "      <td>Bugis Stn/Parkview Sq</td>\n",
       "      <td>1.300331</td>\n",
       "      <td>103.857161</td>\n",
       "    </tr>\n",
       "  </tbody>\n",
       "</table>\n",
       "</div>"
      ],
      "text/plain": [
       "   BusStopCode       RoadName            Description  Latitude   Longitude\n",
       "5        01059    Victoria St       Bugis Stn Exit B  1.300757  103.856110\n",
       "7        01112    Victoria St   Opp Bugis Stn Exit C  1.300092  103.855200\n",
       "8        01113    Victoria St       Bugis Stn Exit A  1.301173  103.856114\n",
       "9        01119    Victoria St   Aft Bugis Stn Exit C  1.299604  103.855129\n",
       "12       01139  Nth Bridge Rd  Bugis Stn/Parkview Sq  1.300331  103.857161"
      ]
     },
     "execution_count": 145,
     "metadata": {},
     "output_type": "execute_result"
    }
   ],
   "source": [
    "filtered_bus_stops = bus_stops_df[bus_stops_df['Description'].str.contains(r'\\b(Int|Stn)(\\b|[\\s/])', case=False, na=False)]\n",
    "filtered_bus_stops.head()"
   ]
  },
  {
   "cell_type": "code",
   "execution_count": null,
   "id": "290462a5-f8d7-4cce-8fa0-5bbc65c9168e",
   "metadata": {},
   "outputs": [],
   "source": [
    "# Merge the filtered bus stops with the bus routes dataframe\n",
    "merged_df = pd.merge(bus_routes_df, filtered_bus_stops, on='BusStopCode', how='inner')\n",
    "\n",
    "# Group by the service number and count the bus stops\n",
    "bus_service_stop_counts = merged_df.groupby('ServiceNo')['BusStopCode'].nunique().reset_index()\n",
    "\n",
    "# Rename the columns for clarity\n",
    "bus_service_stop_counts.columns = ['ServiceNo', 'CountOfStopsWithIntOrStn']\n",
    "\n",
    "# Sort the DataFrame by 'CountOfStopsWithIntOrStn' in descending order\n",
    "int_stn_bus_service_sorted = bus_service_stop_counts.sort_values(by='CountOfStopsWithIntOrStn', ascending=False)\n",
    "int_stn_bus_service_sorted.to_csv('../datasets/pv_eda/int_stn_bus_service.csv', index=False)"
   ]
  },
  {
   "cell_type": "markdown",
   "id": "34915966-49e8-4d3e-a97b-341b0a389bfd",
   "metadata": {},
   "source": [
    "### 5a. Trend of Passenger Volume at Interchanges and Stations"
   ]
  },
  {
   "cell_type": "code",
   "execution_count": null,
   "id": "b067b68b-b73c-4085-adcf-3f3396946b61",
   "metadata": {},
   "outputs": [
    {
     "name": "stderr",
     "output_type": "stream",
     "text": [
      "C:\\Users\\Gene\\AppData\\Local\\Temp\\ipykernel_9748\\1215042412.py:1: UserWarning: This pattern is interpreted as a regular expression, and has match groups. To actually get the groups, use str.extract.\n",
      "  int_stn_pv_sorted = decreasing_bus_stops_df_sorted[decreasing_bus_stops_df_sorted['Description'].str.contains(r'\\b(Int|Stn)(\\b|[\\s/])', case=False, na=False)]\n"
     ]
    }
   ],
   "source": [
    "int_stn_pv_sorted = decreasing_bus_stops_df_sorted[decreasing_bus_stops_df_sorted['Description'].str.contains(r'\\b(Int|Stn)(\\b|[\\s/])', case=False, na=False)]\n",
    "int_stn_pv_sorted.to_csv('../datasets/pv_eda/int_stn_pv.csv', index=False)"
   ]
  },
  {
   "cell_type": "markdown",
   "id": "f563275a-a5b1-418a-a71e-488fcb04f837",
   "metadata": {},
   "source": [
    "### 5b. Normalise Passenger Volume at Interchanges and Stations"
   ]
  },
  {
   "cell_type": "code",
   "execution_count": null,
   "id": "1d8a32ee-745d-4291-ae75-47979b103227",
   "metadata": {},
   "outputs": [
    {
     "name": "stderr",
     "output_type": "stream",
     "text": [
      "C:\\Users\\Gene\\AppData\\Local\\Temp\\ipykernel_9748\\3777615367.py:3: UserWarning: This pattern is interpreted as a regular expression, and has match groups. To actually get the groups, use str.extract.\n",
      "  decreasing_normalised_bus_stops_df_sorted['Description'].str.contains(\n"
     ]
    },
    {
     "data": {
      "text/html": [
       "<div>\n",
       "<style scoped>\n",
       "    .dataframe tbody tr th:only-of-type {\n",
       "        vertical-align: middle;\n",
       "    }\n",
       "\n",
       "    .dataframe tbody tr th {\n",
       "        vertical-align: top;\n",
       "    }\n",
       "\n",
       "    .dataframe thead th {\n",
       "        text-align: right;\n",
       "    }\n",
       "</style>\n",
       "<table border=\"1\" class=\"dataframe\">\n",
       "  <thead>\n",
       "    <tr style=\"text-align: right;\">\n",
       "      <th></th>\n",
       "      <th>PT_CODE</th>\n",
       "      <th>Normalised</th>\n",
       "      <th>Scaled_Normalised</th>\n",
       "      <th>Softmax</th>\n",
       "    </tr>\n",
       "  </thead>\n",
       "  <tbody>\n",
       "    <tr>\n",
       "      <th>1699</th>\n",
       "      <td>59072</td>\n",
       "      <td>59241.000000</td>\n",
       "      <td>10.000000</td>\n",
       "      <td>0.969505</td>\n",
       "    </tr>\n",
       "    <tr>\n",
       "      <th>1003</th>\n",
       "      <td>45321</td>\n",
       "      <td>28093.000000</td>\n",
       "      <td>4.733086</td>\n",
       "      <td>0.005002</td>\n",
       "    </tr>\n",
       "    <tr>\n",
       "      <th>824</th>\n",
       "      <td>43571</td>\n",
       "      <td>27569.000000</td>\n",
       "      <td>4.644482</td>\n",
       "      <td>0.004578</td>\n",
       "    </tr>\n",
       "    <tr>\n",
       "      <th>1139</th>\n",
       "      <td>46779</td>\n",
       "      <td>22877.666667</td>\n",
       "      <td>3.851209</td>\n",
       "      <td>0.002071</td>\n",
       "    </tr>\n",
       "    <tr>\n",
       "      <th>1004</th>\n",
       "      <td>45329</td>\n",
       "      <td>17582.000000</td>\n",
       "      <td>2.955748</td>\n",
       "      <td>0.000846</td>\n",
       "    </tr>\n",
       "  </tbody>\n",
       "</table>\n",
       "</div>"
      ],
      "text/plain": [
       "     PT_CODE    Normalised  Scaled_Normalised   Softmax\n",
       "1699   59072  59241.000000          10.000000  0.969505\n",
       "1003   45321  28093.000000           4.733086  0.005002\n",
       "824    43571  27569.000000           4.644482  0.004578\n",
       "1139   46779  22877.666667           3.851209  0.002071\n",
       "1004   45329  17582.000000           2.955748  0.000846"
      ]
     },
     "execution_count": 148,
     "metadata": {},
     "output_type": "execute_result"
    }
   ],
   "source": [
    "# int_stn_pv_normalise_sorted = decreasing_normalised_bus_stops_df_sorted[decreasing_normalised_bus_stops_df_sorted['Description'].str.contains(r'Int|Stn', case=False, na=False)]\n",
    "int_stn_pv_normalise_sorted = decreasing_normalised_bus_stops_df_sorted[\n",
    "    decreasing_normalised_bus_stops_df_sorted['Description'].str.contains(\n",
    "        r'\\b(Int|Stn)(\\b|[\\s/])', case=False, na=False\n",
    "    )\n",
    "]\n",
    "\n",
    "int_stn_pv_softmax = int_stn_pv_normalise_sorted.copy()\n",
    "\n",
    "# Min-max scale Normalised column to range between 0 and 10\n",
    "scaler = MinMaxScaler(feature_range=(0, 10))\n",
    "int_stn_pv_softmax['Scaled_Normalised'] = scaler.fit_transform(int_stn_pv_softmax[['Normalised']])\n",
    "\n",
    "# Apply softmax on the scaled values\n",
    "max_scaled = int_stn_pv_softmax['Scaled_Normalised'].max()\n",
    "int_stn_pv_softmax['Softmax'] = np.exp(int_stn_pv_softmax['Scaled_Normalised'] - max_scaled) / np.sum(np.exp(int_stn_pv_softmax['Scaled_Normalised'] - max_scaled))\n",
    "\n",
    "int_stn_pv_softmax.to_csv('../datasets/pv_eda/int_stn_normalised_pv.csv', index=False)\n",
    "int_stn_pv_softmax[['PT_CODE', 'Normalised', 'Scaled_Normalised', 'Softmax']].head()"
   ]
  },
  {
   "cell_type": "code",
   "execution_count": null,
   "id": "04c4958f-3160-48bd-8c53-9aff18adc5c9",
   "metadata": {},
   "outputs": [
    {
     "name": "stdout",
     "output_type": "stream",
     "text": [
      "   Percentile  Count\n",
      "0        0.70     80\n",
      "1        0.80     54\n",
      "2        0.85     40\n",
      "3        0.90     27\n"
     ]
    },
    {
     "data": {
      "image/png": "[encoded data removed]",
      "text/plain": [
       "<Figure size 640x480 with 1 Axes>"
      ]
     },
     "metadata": {},
     "output_type": "display_data"
    }
   ],
   "source": [
    "percentiles_to_test = [0.7, 0.8, 0.85, 0.9]\n",
    "results = {}\n",
    "\n",
    "for p in percentiles_to_test:\n",
    "    threshold_value = int_stn_pv_softmax['Softmax'].quantile(p)\n",
    "    filtered_threshold = int_stn_pv_softmax[int_stn_pv_softmax['Softmax'] > threshold_value]\n",
    "    results[p] = len(filtered_threshold)  # or any other metric of interest\n",
    "\n",
    "# Convert results to DataFrame for better visualization\n",
    "results_df = pd.DataFrame(list(results.items()), columns=['Percentile', 'Count'])\n",
    "print(results_df)\n",
    "\n",
    "plt.bar(results_df['Percentile'].astype(str), results_df['Count'])\n",
    "plt.xlabel('Percentile Threshold')\n",
    "plt.ylabel('Number of Routes Filtered')\n",
    "plt.title('Impact of Different Percentile Thresholds on Route Filtering')\n",
    "plt.show()"
   ]
  },
  {
   "cell_type": "code",
   "execution_count": null,
   "id": "e02943de-407b-427b-9e23-42257b72fa58",
   "metadata": {},
   "outputs": [],
   "source": [
    "# Set threshold at the 80th percentile of the Softmax values\n",
    "threshold_value = int_stn_pv_softmax['Softmax'].quantile(0.8)\n",
    "\n",
    "# Filter for routes with Softmax values above this threshold\n",
    "filtered_threshold = int_stn_pv_softmax[int_stn_pv_softmax['Softmax'] > threshold_value]\n",
    "filtered_threshold = filtered_threshold['PT_CODE']\n",
    "\n",
    "# Merge the filtered bus stops with the bus routes dataframe\n",
    "merged_threshold_df = pd.merge(bus_routes_df, filtered_threshold, \n",
    "                               left_on='BusStopCode', right_on='PT_CODE', \n",
    "                               how='inner').drop(columns=['PT_CODE'])\n",
    "\n",
    "# Group by the service number and count the bus stops\n",
    "threshold_stop_counts = merged_threshold_df.groupby('ServiceNo')['BusStopCode'].nunique().reset_index()\n",
    "\n",
    "# Rename the columns for clarity\n",
    "threshold_stop_counts.columns = ['ServiceNo', 'IntStnLargeDecrease']\n",
    "\n",
    "# Sort the DataFrame by 'IntStnLargeDecrease' in descending order\n",
    "threshold_bus_service_sorted = threshold_stop_counts.sort_values(by='IntStnLargeDecrease', ascending=False)\n",
    "threshold_bus_service_sorted.to_csv('../datasets/pv_eda/threshold_int_stn_bus.csv', index=False)"
   ]
  },
  {
   "cell_type": "code",
   "execution_count": null,
   "id": "3493b035",
   "metadata": {},
   "outputs": [],
   "source": [
    "#Normalising IntStnLargeDecrease\n",
    "scaler = MinMaxScaler(feature_range=(0, 1))\n",
    "threshold_bus_service_sorted['NormalizedIntStnLargeDecrease'] = scaler.fit_transform(\n",
    "    threshold_bus_service_sorted[['IntStnLargeDecrease']]\n",
    ")\n",
    "\n",
    "# Invert the normalized values to penalize higher counts\n",
    "threshold_bus_service_sorted['InvertedNormalizedIntStnLargeDecrease'] = 1 - threshold_bus_service_sorted['NormalizedIntStnLargeDecrease']\n",
    "\n",
    "# Apply softmax to the inverted values for further differentiation\n",
    "max_val = threshold_bus_service_sorted['InvertedNormalizedIntStnLargeDecrease'].max()\n",
    "threshold_bus_service_sorted['SoftmaxInvertedIntStnLargeDecrease'] = np.exp(\n",
    "    threshold_bus_service_sorted['InvertedNormalizedIntStnLargeDecrease'] - max_val\n",
    ") / np.sum(np.exp(threshold_bus_service_sorted['InvertedNormalizedIntStnLargeDecrease'] - max_val))\n",
    "\n",
    "# Export the results if necessary\n",
    "threshold_bus_service_sorted.to_csv('../datasets/pv_eda/threshold_int_stn_bus_softmax_inverted.csv', index=False)"
   ]
  },
  {
   "cell_type": "code",
   "execution_count": null,
   "id": "e861e710-5c1b-493c-a3a1-1e054e3c1b79",
   "metadata": {},
   "outputs": [
    {
     "data": {
      "image/png": "[encoded data removed]",
      "text/plain": [
       "<Figure size 1200x800 with 1 Axes>"
      ]
     },
     "metadata": {},
     "output_type": "display_data"
    }
   ],
   "source": [
    "# Select services that serve at least 3 stations or interchanges with a large decrease\n",
    "more_than_3_stops = threshold_bus_service_sorted[threshold_bus_service_sorted['IntStnLargeDecrease'] > 3]\n",
    "\n",
    "# Plot graph\n",
    "plt.figure(figsize=(12, 8))\n",
    "plt.barh(more_than_3_stops['ServiceNo'], \n",
    "         more_than_3_stops['IntStnLargeDecrease'], \n",
    "         color='purple')\n",
    "plt.xlabel('Count of Stops with Large Decrease in Passenger Volume')\n",
    "plt.ylabel('Bus Service Number')\n",
    "plt.title('Count of Bus Stops with Large Decrease in Passenger Volume by Bus Service')\n",
    "plt.tight_layout()\n",
    "plt.show()"
   ]
  },
  {
   "cell_type": "markdown",
   "id": "f7a80421-82cd-4cc6-b733-e0952e9c8aab",
   "metadata": {},
   "source": [
    "## EDA of Train Routes and Services"
   ]
  },
  {
   "cell_type": "code",
   "execution_count": null,
   "id": "bb6f4d76-c012-4060-92d9-9b908bf151d7",
   "metadata": {},
   "outputs": [],
   "source": [
    "# Create a new column 'TOTAL_TAP_VOLUME' summing tap-in and tap-out volumes\n",
    "train_station_jul['TOTAL_TAP_VOLUME'] = train_station_jul['TOTAL_TAP_IN_VOLUME'] + train_station_jul['TOTAL_TAP_OUT_VOLUME']\n",
    "train_station_aug['TOTAL_TAP_VOLUME'] = train_station_aug['TOTAL_TAP_IN_VOLUME'] + train_station_aug['TOTAL_TAP_OUT_VOLUME']\n",
    "train_station_sep['TOTAL_TAP_VOLUME'] = train_station_sep['TOTAL_TAP_IN_VOLUME'] + train_station_sep['TOTAL_TAP_OUT_VOLUME']\n",
    "\n",
    "# Group by PT_CODE and YEAR_MONTH to get total taps for each bus stop per month\n",
    "train_tap_jul = train_station_jul.groupby(['PT_CODE', 'YEAR_MONTH'])[['TOTAL_TAP_VOLUME']].sum().reset_index()\n",
    "train_tap_aug = train_station_aug.groupby(['PT_CODE', 'YEAR_MONTH'])[['TOTAL_TAP_VOLUME']].sum().reset_index()\n",
    "train_tap_sep = train_station_sep.groupby(['PT_CODE', 'YEAR_MONTH'])[['TOTAL_TAP_VOLUME']].sum().reset_index()"
   ]
  },
  {
   "cell_type": "code",
   "execution_count": null,
   "id": "d16437a2-381e-4bbc-8963-8a258ed0be4d",
   "metadata": {},
   "outputs": [
    {
     "data": {
      "text/html": [
       "<div>\n",
       "<style scoped>\n",
       "    .dataframe tbody tr th:only-of-type {\n",
       "        vertical-align: middle;\n",
       "    }\n",
       "\n",
       "    .dataframe tbody tr th {\n",
       "        vertical-align: top;\n",
       "    }\n",
       "\n",
       "    .dataframe thead th {\n",
       "        text-align: right;\n",
       "    }\n",
       "</style>\n",
       "<table border=\"1\" class=\"dataframe\">\n",
       "  <thead>\n",
       "    <tr style=\"text-align: right;\">\n",
       "      <th></th>\n",
       "      <th>PT_CODE</th>\n",
       "      <th>YEAR_MONTH</th>\n",
       "      <th>TOTAL_TAP_VOLUME</th>\n",
       "    </tr>\n",
       "  </thead>\n",
       "  <tbody>\n",
       "    <tr>\n",
       "      <th>0</th>\n",
       "      <td>BP1</td>\n",
       "      <td>2024-07</td>\n",
       "      <td>2373441</td>\n",
       "    </tr>\n",
       "    <tr>\n",
       "      <th>1</th>\n",
       "      <td>BP10</td>\n",
       "      <td>2024-07</td>\n",
       "      <td>205921</td>\n",
       "    </tr>\n",
       "    <tr>\n",
       "      <th>2</th>\n",
       "      <td>BP11</td>\n",
       "      <td>2024-07</td>\n",
       "      <td>210699</td>\n",
       "    </tr>\n",
       "    <tr>\n",
       "      <th>3</th>\n",
       "      <td>BP12</td>\n",
       "      <td>2024-07</td>\n",
       "      <td>167576</td>\n",
       "    </tr>\n",
       "    <tr>\n",
       "      <th>4</th>\n",
       "      <td>BP13</td>\n",
       "      <td>2024-07</td>\n",
       "      <td>68693</td>\n",
       "    </tr>\n",
       "  </tbody>\n",
       "</table>\n",
       "</div>"
      ],
      "text/plain": [
       "  PT_CODE YEAR_MONTH  TOTAL_TAP_VOLUME\n",
       "0     BP1    2024-07           2373441\n",
       "1    BP10    2024-07            205921\n",
       "2    BP11    2024-07            210699\n",
       "3    BP12    2024-07            167576\n",
       "4    BP13    2024-07             68693"
      ]
     },
     "execution_count": 154,
     "metadata": {},
     "output_type": "execute_result"
    }
   ],
   "source": [
    "# Concatenate all three months' data\n",
    "all_months_train_taps = pd.concat([train_tap_jul, \n",
    "                             train_tap_aug,\n",
    "                             train_tap_sep])\n",
    "\n",
    "# Reset index after concatenation\n",
    "all_months_train_taps.reset_index(drop=True, inplace=True)\n",
    "all_months_train_taps.head()"
   ]
  }
 ],
 "metadata": {
  "kernelspec": {
   "display_name": "DSA4264",
   "language": "python",
   "name": "python3"
  },
  "language_info": {
   "codemirror_mode": {
    "name": "ipython",
    "version": 3
   },
   "file_extension": ".py",
   "mimetype": "text/x-python",
   "name": "python",
   "nbconvert_exporter": "python",
   "pygments_lexer": "ipython3",
   "version": "3.12.4"
  }
 },
 "nbformat": 4,
 "nbformat_minor": 5
}
