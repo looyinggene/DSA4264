{
 "cells": [
  {
   "cell_type": "markdown",
   "id": "1e6d79f6-c280-4e7a-8dfc-70be97f2ef9b",
   "metadata": {},
   "source": [
    "## Importing libraries"
   ]
  },
  {
   "cell_type": "code",
   "execution_count": null,
   "id": "74132b43-efce-4fd9-8005-0ba2744a728b",
   "metadata": {},
   "outputs": [],
   "source": [
    "# !pip install python-dotenv\n",
    "import requests\n",
    "import pandas as pd\n",
    "import matplotlib.pyplot as plt\n",
    "import geopandas as gpd\n",
    "from dotenv import load_dotenv\n",
    "import os\n",
    "import zipfile\n",
    "import shutil\n",
    "\n",
    "# Retrieving api key\n",
    "load_dotenv(\"../key.env\")\n",
    "api_key = os.getenv(\"API_KEY\")\n",
    "print(api_key)"
   ]
  },
  {
   "cell_type": "markdown",
   "id": "9c3dd46a-9738-4409-891e-cc2045eb0153",
   "metadata": {},
   "source": [
    "## Reading datasets"
   ]
  },
  {
   "cell_type": "code",
   "execution_count": null,
   "id": "a741050f-4cd2-419e-add9-14c83a721542",
   "metadata": {},
   "outputs": [],
   "source": [
    "#Running the get_bus_info function to make bus info related API calls\n",
    "%run get_bus_info_function.ipynb"
   ]
  },
  {
   "cell_type": "code",
   "execution_count": null,
   "id": "e3a1aa4a-8440-4ecb-b624-bbff7043aeb2",
   "metadata": {},
   "outputs": [],
   "source": [
    "bus_services_df = get_bus_info(\"https://datamall2.mytransport.sg/ltaodataservice/BusServices\", api_key)\n",
    "bus_routes_df = get_bus_info(\"https://datamall2.mytransport.sg/ltaodataservice/BusRoutes\", api_key)\n",
    "bus_stops_df = get_bus_info(\"https://datamall2.mytransport.sg/ltaodataservice/BusStops\", api_key)"
   ]
  },
  {
   "cell_type": "code",
   "execution_count": null,
   "id": "ee4bea12-7c2d-4a30-bd87-a23dc0d082aa",
   "metadata": {},
   "outputs": [],
   "source": [
    "bus_stop_pv_jul = pd.read_csv(\"../datasets/pv_bus_stops/transport_node_bus_202407.csv\")\n",
    "bus_stop_pv_aug = pd.read_csv(\"../datasets/pv_bus_stops/transport_node_bus_202408.csv\")\n",
    "bus_stop_pv_sep = pd.read_csv(\"../datasets/pv_bus_stops/transport_node_bus_202409.csv\")"
   ]
  },
  {
   "cell_type": "code",
   "execution_count": null,
   "id": "7be341f6-a1ff-4338-a5c5-c81905108e55",
   "metadata": {},
   "outputs": [],
   "source": [
    "bus_od_jul = pd.read_csv(\"../datasets/pv_od_bus_stops/origin_destination_bus_202407.csv\")\n",
    "bus_od_aug = pd.read_csv(\"../datasets/pv_od_bus_stops/origin_destination_bus_202408.csv\")\n",
    "bus_od_sep = pd.read_csv(\"../datasets/pv_od_bus_stops/origin_destination_bus_202409.csv\")"
   ]
  },
  {
   "cell_type": "code",
   "execution_count": null,
   "id": "86a9a872-e0ed-4dbb-a4c0-075980996fa6",
   "metadata": {},
   "outputs": [],
   "source": [
    "bus_routes_simple = bus_routes_df[[\"ServiceNo\", \"Direction\", \"StopSequence\", \"BusStopCode\"]]\n",
    "bus_stops_simple = bus_stops_df[[\"BusStopCode\", \"RoadName\", \"Description\"]]\n",
    "\n",
    "bus_routes_stops = pd.merge(bus_routes_simple, bus_stops_simple, on=\"BusStopCode\", how=\"inner\")\n",
    "bus_routes_stops.head()"
   ]
  },
  {
   "cell_type": "markdown",
   "id": "f3324d06-bc26-4216-889a-b38693aa4b01",
   "metadata": {},
   "source": [
    "### Trend of Passenger Volume by Bus Route\n",
    "- Assumption: Passenger Volumes represented by Total Number of Tap Ins and Tap Outs\n",
    "- Things to note: There are multiple buses services at the same bus stops, the passenger volume is computed by total tap volumes of bus stops along the bus routes"
   ]
  },
  {
   "cell_type": "code",
   "execution_count": null,
   "id": "b4b823a0-3fc1-45c5-aa36-7380413b2575",
   "metadata": {},
   "outputs": [],
   "source": [
    "# Convert 'BusStopCode' and 'BusStop' to string\n",
    "bus_routes_stops['BusStopCode'] = bus_routes_stops['BusStopCode'].astype(str)\n",
    "bus_stop_pv_jul['PT_CODE'] = bus_stop_pv_jul['PT_CODE'].astype(str)\n",
    "bus_stop_pv_aug['PT_CODE'] = bus_stop_pv_aug['PT_CODE'].astype(str)\n",
    "bus_stop_pv_sep['PT_CODE'] = bus_stop_pv_sep['PT_CODE'].astype(str)\n",
    "\n",
    "# Merge bus_routes with bus_stops_passenger_volume to get passenger volumes per route\n",
    "route_passenger_volumes = pd.merge(bus_routes_stops, bus_stop_pv_jul, \n",
    "                                   left_on='BusStopCode', right_on=\"PT_CODE\", how='left')\n",
    "route_passenger_volumes_aug = pd.merge(bus_routes_stops, bus_stop_pv_aug, \n",
    "                                       left_on='BusStopCode', right_on=\"PT_CODE\", how='left')\n",
    "route_passenger_volumes_sep = pd.merge(bus_routes_stops, bus_stop_pv_sep, \n",
    "                                       left_on='BusStopCode', right_on=\"PT_CODE\", how='left')\n",
    "\n",
    "# Group by 'ServiceNo' and 'YEAR_MONTH' to get the total tap-in and tap-out volumes for each service in each month\n",
    "monthly_passenger_volume_jul = route_passenger_volumes.groupby(['ServiceNo', 'YEAR_MONTH'])[['TOTAL_TAP_IN_VOLUME', 'TOTAL_TAP_OUT_VOLUME']].sum().reset_index()\n",
    "monthly_passenger_volume_aug = route_passenger_volumes_aug.groupby(['ServiceNo', 'YEAR_MONTH'])[['TOTAL_TAP_IN_VOLUME', 'TOTAL_TAP_OUT_VOLUME']].sum().reset_index()\n",
    "monthly_passenger_volume_sep = route_passenger_volumes_sep.groupby(['ServiceNo', 'YEAR_MONTH'])[['TOTAL_TAP_IN_VOLUME', 'TOTAL_TAP_OUT_VOLUME']].sum().reset_index()"
   ]
  },
  {
   "cell_type": "code",
   "execution_count": null,
   "id": "75560ab7-a937-461b-b312-ffd7b8b761a2",
   "metadata": {},
   "outputs": [],
   "source": [
    "# Concatenate all three months' data\n",
    "all_months_data = pd.concat([monthly_passenger_volume_jul, \n",
    "                             monthly_passenger_volume_aug,\n",
    "                             monthly_passenger_volume_sep])\n",
    "\n",
    "# Reset index after concatenation\n",
    "all_months_data.reset_index(drop=True, inplace=True)\n",
    "\n",
    "# Create a new column 'TOTAL_TAP_VOLUME'\n",
    "all_months_data['TOTAL_TAP_VOLUME'] = all_months_data['TOTAL_TAP_IN_VOLUME'] + all_months_data['TOTAL_TAP_OUT_VOLUME']"
   ]
  },
  {
   "cell_type": "code",
   "execution_count": null,
   "id": "ee7e8133-b7f9-46e3-b5e6-691b1355bb24",
   "metadata": {},
   "outputs": [],
   "source": [
    "# Pivot the data to have 'ServiceNo' as rows and 'YEAR_MONTH' as columns\n",
    "tap_in_pivot = all_months_data.pivot(index='ServiceNo', columns='YEAR_MONTH', values='TOTAL_TAP_VOLUME')\n",
    "\n",
    "# Preview the pivot table\n",
    "tap_in_pivot.head()\n",
    "\n",
    "# Assuming tap_in_pivot already has the data for '2024-07', '2024-08', and '2024-09'\n",
    "tap_in_pivot['Decreasing'] = (tap_in_pivot['2024-07'] > tap_in_pivot['2024-08']) & (tap_in_pivot['2024-08'] > tap_in_pivot['2024-09'])\n",
    "\n",
    "# Create a DataFrame for routes with decreasing tap-ins\n",
    "decreasing_routes_df = tap_in_pivot[tap_in_pivot['Decreasing']].reset_index()\n",
    "decreasing_routes_df.rename(columns={'YEAR_MONTH': 'Index'}, inplace=True)"
   ]
  },
  {
   "cell_type": "code",
   "execution_count": null,
   "id": "09e4562e-ea0d-4689-b9b3-7cdde8a33aa9",
   "metadata": {},
   "outputs": [],
   "source": [
    "# Calculate the decrease from '2024-07' to '2024-09'\n",
    "decreasing_routes_df['Decrease'] = decreasing_routes_df['2024-07'] - decreasing_routes_df['2024-09']\n",
    "\n",
    "# Sort the DataFrame by 'Decrease' in descending order\n",
    "decreasing_routes_df_sorted = decreasing_routes_df.sort_values(by='Decrease', ascending=False)\n",
    "decreasing_routes_df_sorted.to_csv('../datasets/pv_eda/routes_w_decreasing_pv.csv', index=False)"
   ]
  },
  {
   "cell_type": "code",
   "execution_count": null,
   "id": "bd09980c-a785-4505-8f67-ebde4b49fae1",
   "metadata": {},
   "outputs": [],
   "source": [
    "# Select the top 10 routes with the largest decrease\n",
    "top_10_decreasing_routes = decreasing_routes_df_sorted.head(10)\n",
    "\n",
    "# Extract the tap-in data for the selected routes using .loc\n",
    "tap_in = tap_in_pivot.loc[top_10_decreasing_routes['ServiceNo'], ['2024-07', '2024-08', '2024-09']]\n",
    "\n",
    "# Reset index to make 'ServiceNo' a column\n",
    "tap_in.reset_index(inplace=True)\n",
    "\n",
    "# Plot the line graph\n",
    "plt.figure(figsize=(12, 8))\n",
    "\n",
    "# Plotting directly without iterating\n",
    "tap_in.set_index('ServiceNo').T.plot(marker='o', ax=plt.gca())\n",
    "\n",
    "plt.title('Top 10 Routes with Largest Decrease (2024-07 to 2024-09)')\n",
    "plt.xlabel('Month')\n",
    "plt.ylabel('Tap-In Volume')\n",
    "plt.xticks(rotation=45)\n",
    "plt.legend(title='Service Number', bbox_to_anchor=(1, 1), loc='upper left')\n",
    "plt.grid()\n",
    "plt.show()"
   ]
  },
  {
   "cell_type": "markdown",
   "id": "6e4c5c02-06b7-40f2-8e0e-75cf5c0eee34",
   "metadata": {},
   "source": [
    "### Trend of Passenger Volumes by Bus Stops\n",
    "- Assumption: Passenger Volumes represented by Total Number of Tap Ins and Tap Outs"
   ]
  },
  {
   "cell_type": "code",
   "execution_count": null,
   "id": "fda7db9f-24dd-423d-9c93-113850b1de87",
   "metadata": {},
   "outputs": [],
   "source": [
    "bus_stop_pv_jul.head()"
   ]
  },
  {
   "cell_type": "code",
   "execution_count": null,
   "id": "ab9a3731-83c0-4be0-beb9-47dd414e22bc",
   "metadata": {},
   "outputs": [],
   "source": [
    "# Create a new column 'TOTAL_TAP_VOLUME' summing tap-in and tap-out volumes\n",
    "bus_stop_pv_jul['TOTAL_TAP_VOLUME'] = bus_stop_pv_jul['TOTAL_TAP_IN_VOLUME'] + bus_stop_pv_jul['TOTAL_TAP_OUT_VOLUME']\n",
    "bus_stop_pv_aug['TOTAL_TAP_VOLUME'] = bus_stop_pv_aug['TOTAL_TAP_IN_VOLUME'] + bus_stop_pv_aug['TOTAL_TAP_OUT_VOLUME']\n",
    "bus_stop_pv_sep['TOTAL_TAP_VOLUME'] = bus_stop_pv_sep['TOTAL_TAP_IN_VOLUME'] + bus_stop_pv_sep['TOTAL_TAP_OUT_VOLUME']\n",
    "\n",
    "# Group by PT_CODE and YEAR_MONTH to get total taps for each bus stop per month\n",
    "monthly_tap_jul = bus_stop_pv_jul.groupby(['PT_CODE', 'YEAR_MONTH'])[['TOTAL_TAP_VOLUME']].sum().reset_index()\n",
    "monthly_tap_aug = bus_stop_pv_aug.groupby(['PT_CODE', 'YEAR_MONTH'])[['TOTAL_TAP_VOLUME']].sum().reset_index()\n",
    "monthly_tap_sep = bus_stop_pv_sep.groupby(['PT_CODE', 'YEAR_MONTH'])[['TOTAL_TAP_VOLUME']].sum().reset_index()"
   ]
  },
  {
   "cell_type": "code",
   "execution_count": null,
   "id": "d5cb879f-1801-4b5d-8270-bd4d23c0a29d",
   "metadata": {},
   "outputs": [],
   "source": [
    "# Concatenate all three months' data\n",
    "all_months_taps = pd.concat([monthly_tap_jul, \n",
    "                             monthly_tap_aug,\n",
    "                             monthly_tap_sep])\n",
    "\n",
    "# Reset index after concatenation\n",
    "all_months_taps.reset_index(drop=True, inplace=True)"
   ]
  },
  {
   "cell_type": "code",
   "execution_count": null,
   "id": "53ddd1b4-86a5-48e4-9ab9-31372f1c39f4",
   "metadata": {},
   "outputs": [],
   "source": [
    "# Ensure 'PT_CODE' and 'BusStopCode' are of the same data type\n",
    "all_months_taps['PT_CODE'] = all_months_taps['PT_CODE'].astype(str)\n",
    "\n",
    "# Pivot the data to have 'ServiceNo' as rows and 'YEAR_MONTH' as columns\n",
    "tap_bus_stop_pivot = all_months_taps.pivot(index='PT_CODE', columns='YEAR_MONTH', values='TOTAL_TAP_VOLUME')\n",
    "\n",
    "# Preview the pivot table\n",
    "tap_bus_stop_pivot.head()\n",
    "\n",
    "# Assuming tap_in_pivot already has the data for '2024-07', '2024-08', and '2024-09'\n",
    "tap_bus_stop_pivot['Decreasing'] = (tap_bus_stop_pivot['2024-07'] > tap_bus_stop_pivot['2024-08']) & (tap_bus_stop_pivot['2024-08'] > tap_bus_stop_pivot['2024-09'])\n",
    "\n",
    "# Create a DataFrame for routes with decreasing tap-ins\n",
    "taps_bus_stop_df = tap_bus_stop_pivot[tap_bus_stop_pivot['Decreasing']].reset_index()\n",
    "taps_bus_stop_df.rename(columns={'YEAR_MONTH': 'Index'}, inplace=True)\n",
    "\n",
    "# Ensure that 'bus_routes_stops_cleaned' has unique 'BusStopCode'\n",
    "bus_routes_stops_cleaned = bus_routes_stops.drop_duplicates(subset=['BusStopCode'])\n",
    "\n",
    "# Merge to get the name and description for both the ORIGIN and DESTINATION in July\n",
    "decreasing_bus_stops_df = pd.merge(\n",
    "    taps_bus_stop_df, \n",
    "    bus_routes_stops_cleaned[['BusStopCode', 'RoadName', 'Description']],\n",
    "    left_on='PT_CODE', \n",
    "    right_on='BusStopCode', \n",
    "    how='left'\n",
    ").drop(columns=['BusStopCode'])"
   ]
  },
  {
   "cell_type": "code",
   "execution_count": null,
   "id": "65335f23-ed7a-465c-a974-bc2239400c03",
   "metadata": {},
   "outputs": [],
   "source": [
    "# Calculate the decrease from '2024-07' to '2024-09'\n",
    "decreasing_bus_stops_df['Decrease'] = decreasing_bus_stops_df['2024-07'] - decreasing_bus_stops_df['2024-09']\n",
    "\n",
    "# Sort the DataFrame by 'Decrease' in descending order\n",
    "decreasing_bus_stops_df_sorted = decreasing_bus_stops_df.sort_values(by='Decrease', ascending=False)\n",
    "decreasing_bus_stops_df_sorted.to_csv('../datasets/pv_eda/bus_stops_w_decreasing_pv.csv', index=False)"
   ]
  },
  {
   "cell_type": "markdown",
   "id": "fc6ffc1a-cdbc-4e33-bfa9-8a80b8300069",
   "metadata": {},
   "source": [
    "### Average (Mean and Median) Monthly Bus Servicing the Same Origin and Destination Routes"
   ]
  },
  {
   "cell_type": "code",
   "execution_count": null,
   "id": "e71507f3-9cb0-423b-ab79-968267e09176",
   "metadata": {},
   "outputs": [],
   "source": [
    "# Convert both 'ORIGIN_PT_CODE' and 'DESTINATION_PT_CODE' columns to string for July\n",
    "bus_od_jul[['ORIGIN_PT_CODE', 'DESTINATION_PT_CODE']] = bus_od_jul[['ORIGIN_PT_CODE', 'DESTINATION_PT_CODE']].astype(str)\n",
    "bus_od_aug[['ORIGIN_PT_CODE', 'DESTINATION_PT_CODE']] = bus_od_aug[['ORIGIN_PT_CODE', 'DESTINATION_PT_CODE']].astype(str)\n",
    "bus_od_sep[['ORIGIN_PT_CODE', 'DESTINATION_PT_CODE']] = bus_od_sep[['ORIGIN_PT_CODE', 'DESTINATION_PT_CODE']].astype(str)\n",
    "\n",
    "# Group by 'YEAR_MONTH', 'ORIGIN_PT_CODE' and 'DESTINATION_PT_CODE'\n",
    "grouped_trips_jul = bus_od_jul.groupby(['YEAR_MONTH', 'ORIGIN_PT_CODE', 'DESTINATION_PT_CODE'])[['TOTAL_TRIPS']].sum().reset_index()\n",
    "grouped_trips_aug = bus_od_aug.groupby(['YEAR_MONTH', 'ORIGIN_PT_CODE', 'DESTINATION_PT_CODE'])[['TOTAL_TRIPS']].sum().reset_index()\n",
    "grouped_trips_sep = bus_od_sep.groupby(['YEAR_MONTH', 'ORIGIN_PT_CODE', 'DESTINATION_PT_CODE'])[['TOTAL_TRIPS']].sum().reset_index()"
   ]
  },
  {
   "cell_type": "code",
   "execution_count": null,
   "id": "fd8eb9c2-d969-45a4-b732-624974c51f0f",
   "metadata": {},
   "outputs": [],
   "source": [
    "# Ensure that 'bus_routes_stops_cleaned' has unique 'BusStopCode'\n",
    "bus_routes_stops_cleaned = bus_routes_stops.drop_duplicates(subset=['BusStopCode'])\n",
    "\n",
    "# Merge to get the name and description for both the ORIGIN and DESTINATION in July\n",
    "route_trips_jul = pd.merge(\n",
    "    grouped_trips_jul, \n",
    "    bus_routes_stops_cleaned[['BusStopCode', 'Description']].rename(columns={'Description': 'ORIGIN_DESCRIPTION'}),\n",
    "    left_on='ORIGIN_PT_CODE', \n",
    "    right_on='BusStopCode', \n",
    "    how='left'\n",
    ").drop(columns=['BusStopCode'])\n",
    "\n",
    "route_trips_jul = pd.merge(\n",
    "    route_trips_jul, \n",
    "    bus_routes_stops_cleaned[['BusStopCode', 'Description']].rename(columns={'Description': 'DESTINATION_DESCRIPTION'}),\n",
    "    left_on='DESTINATION_PT_CODE', \n",
    "    right_on='BusStopCode', \n",
    "    how='left'\n",
    ").drop(columns=['BusStopCode'])\n",
    "\n",
    "# Merge to get the name and description for both the ORIGIN and DESTINATION in July\n",
    "route_trips_aug = pd.merge(\n",
    "    grouped_trips_aug, \n",
    "    bus_routes_stops_cleaned[['BusStopCode', 'Description']].rename(columns={'Description': 'ORIGIN_DESCRIPTION'}),\n",
    "    left_on='ORIGIN_PT_CODE', \n",
    "    right_on='BusStopCode', \n",
    "    how='left'\n",
    ").drop(columns=['BusStopCode'])\n",
    "\n",
    "route_trips_aug = pd.merge(\n",
    "    route_trips_aug, \n",
    "    bus_routes_stops_cleaned[['BusStopCode', 'Description']].rename(columns={'Description': 'DESTINATION_DESCRIPTION'}),\n",
    "    left_on='DESTINATION_PT_CODE', \n",
    "    right_on='BusStopCode', \n",
    "    how='left'\n",
    ").drop(columns=['BusStopCode'])\n",
    "\n",
    "# Merge to get the name and description for both the ORIGIN and DESTINATION in July\n",
    "route_trips_sep = pd.merge(\n",
    "    grouped_trips_sep, \n",
    "    bus_routes_stops_cleaned[['BusStopCode', 'Description']].rename(columns={'Description': 'ORIGIN_DESCRIPTION'}),\n",
    "    left_on='ORIGIN_PT_CODE', \n",
    "    right_on='BusStopCode', \n",
    "    how='left'\n",
    ").drop(columns=['BusStopCode'])\n",
    "\n",
    "route_trips_sep = pd.merge(\n",
    "    route_trips_sep, \n",
    "    bus_routes_stops_cleaned[['BusStopCode', 'Description']].rename(columns={'Description': 'DESTINATION_DESCRIPTION'}),\n",
    "    left_on='DESTINATION_PT_CODE', \n",
    "    right_on='BusStopCode', \n",
    "    how='left'\n",
    ").drop(columns=['BusStopCode'])"
   ]
  },
  {
   "cell_type": "code",
   "execution_count": null,
   "id": "10fa2fd6-85db-4ad8-b5d8-79ee79937b94",
   "metadata": {},
   "outputs": [],
   "source": [
    "# Concatenate all three months' data\n",
    "all_months_trips = pd.concat([route_trips_jul, \n",
    "                             route_trips_aug,\n",
    "                             route_trips_sep])\n",
    "\n",
    "# Reset index after concatenation\n",
    "all_months_trips.reset_index(drop=True, inplace=True)"
   ]
  },
  {
   "cell_type": "code",
   "execution_count": null,
   "id": "d18e35bb-2c42-4a6b-93f3-0025cb624663",
   "metadata": {},
   "outputs": [],
   "source": [
    "monthly_mean_total_trips = all_months_trips.groupby(['ORIGIN_PT_CODE', \n",
    "                                                'DESTINATION_PT_CODE', \n",
    "                                                'ORIGIN_DESCRIPTION', \n",
    "                                                'DESTINATION_DESCRIPTION'])[['TOTAL_TRIPS']].mean().reset_index()\n",
    "\n",
    "# Sort the DataFrame by 'TOTAL_TRIPS' in descending order\n",
    "mean_trips_sorted = monthly_mean_total_trips.sort_values(by='TOTAL_TRIPS', ascending=False)\n",
    "mean_trips_sorted.to_csv('../datasets/pv_eda/mean_trips.csv', index=False)"
   ]
  },
  {
   "cell_type": "code",
   "execution_count": null,
   "id": "3381b5a1-de51-465d-ba80-80667fbd8b75",
   "metadata": {},
   "outputs": [],
   "source": [
    "monthly_median_total_trips = all_months_trips.groupby(['ORIGIN_PT_CODE', \n",
    "                                                'DESTINATION_PT_CODE', \n",
    "                                                'ORIGIN_DESCRIPTION', \n",
    "                                                'DESTINATION_DESCRIPTION'])[['TOTAL_TRIPS']].median().reset_index()\n",
    "\n",
    "# Sort the DataFrame by 'TOTAL_TRIPS' in descending order\n",
    "median_trips_sorted = monthly_median_total_trips.sort_values(by='TOTAL_TRIPS', ascending=False)\n",
    "median_trips_sorted.to_csv('../datasets/pv_eda/median_trips.csv', index=False)"
   ]
  }
 ],
 "metadata": {
  "kernelspec": {
   "display_name": "Python 3 (ipykernel)",
   "language": "python",
   "name": "python3"
  },
  "language_info": {
   "codemirror_mode": {
    "name": "ipython",
    "version": 3
   },
   "file_extension": ".py",
   "mimetype": "text/x-python",
   "name": "python",
   "nbconvert_exporter": "python",
   "pygments_lexer": "ipython3",
   "version": "3.9.9"
  }
 },
 "nbformat": 4,
 "nbformat_minor": 5
}
