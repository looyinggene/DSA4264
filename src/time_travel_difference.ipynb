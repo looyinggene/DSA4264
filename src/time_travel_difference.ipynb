{
 "cells": [
  {
   "cell_type": "code",
   "execution_count": 2,
   "metadata": {},
   "outputs": [],
   "source": [
    "import pandas as pd\n",
    "import matplotlib.pyplot as plt\n",
    "import geopandas as gpd\n",
    "import numpy as np\n",
    "import os\n",
    "from sklearn.preprocessing import StandardScaler\n",
    "from sklearn.cluster import KMeans\n",
    "from sklearn.decomposition import PCA\n",
    "from sklearn.metrics import silhouette_score\n",
    "import matplotlib.pyplot as plt\n",
    "from dotenv import load_dotenv\n",
    "\n",
    "pd.set_option('display.max_rows', None)\n",
    "pd.set_option('display.max_columns', None)\n",
    "os.environ['OGR_GEOMETRY_ACCEPT_UNCLOSED_RING'] = 'NO'\n",
    "\n",
    "# Retrieving api key\n",
    "load_dotenv(\"../key.env\")\n",
    "api_key = os.getenv(\"API_KEY\")"
   ]
  },
  {
   "cell_type": "code",
   "execution_count": 3,
   "metadata": {},
   "outputs": [],
   "source": [
    "avg_dist_df = pd.read_pickle(\"../datasets/overlap_results_with_road_distance3.pkl\")\n",
    "parallel_df = pd.read_csv('../datasets/filtered_final_results.csv')"
   ]
  },
  {
   "cell_type": "code",
   "execution_count": 4,
   "metadata": {},
   "outputs": [],
   "source": [
    "%run get_bus_info_function.ipynb\n",
    "%run get_geospatial_function.ipynb\n",
    "bus_services_df = get_bus_info(\"https://datamall2.mytransport.sg/ltaodataservice/BusServices\", api_key)\n",
    "bus_routes_df = get_bus_info(\"https://datamall2.mytransport.sg/ltaodataservice/BusRoutes\", api_key)\n",
    "bus_stops_df = get_bus_info(\"https://datamall2.mytransport.sg/ltaodataservice/BusStops\", api_key)\n",
    "geospatial_train_path = \"../datasets/geospatial_layer/TrainStation_Jul2024/RapidTransitSystemStation.shp\"\n",
    "train_stations = pd.read_excel(\"../datasets/Train_Stations.xls\")\n",
    "geospatial_train_gdf = gpd.read_file(geospatial_train_path)"
   ]
  },
  {
   "cell_type": "code",
   "execution_count": 5,
   "metadata": {},
   "outputs": [],
   "source": [
    "bus_routes_services = pd.merge(bus_routes_df,bus_services_df, on =[\"ServiceNo\",\"Direction\"], how = \"left\")\n",
    "columns_to_drop = [\"Operator_y\"]\n",
    "bus_routes_services.drop(columns=columns_to_drop, inplace=True)"
   ]
  },
  {
   "cell_type": "code",
   "execution_count": 6,
   "metadata": {},
   "outputs": [
    {
     "name": "stdout",
     "output_type": "stream",
     "text": [
      "  ServiceNo Operator_x  Direction  StopSequence BusStopCode  Distance  \\\n",
      "0        10       SBST          1             1       75009       0.0   \n",
      "1        10       SBST          1             2       76059       0.6   \n",
      "2        10       SBST          1             3       76069       1.1   \n",
      "3        10       SBST          1             4       96289       2.3   \n",
      "4        10       SBST          1             5       96109       2.7   \n",
      "\n",
      "  WD_FirstBus WD_LastBus SAT_FirstBus SAT_LastBus SUN_FirstBus SUN_LastBus  \\\n",
      "0        0500       2300         0500        2300         0500        2300   \n",
      "1        0502       2302         0502        2302         0502        2302   \n",
      "2        0504       2304         0504        2304         0503        2304   \n",
      "3        0508       2308         0508        2309         0507        2308   \n",
      "4        0509       2310         0509        2311         0508        2309   \n",
      "\n",
      "  Category OriginCode DestinationCode AM_Peak_Freq AM_Offpeak_Freq  \\\n",
      "0    TRUNK      75009           16009        09-09           07-16   \n",
      "1    TRUNK      75009           16009        09-09           07-16   \n",
      "2    TRUNK      75009           16009        09-09           07-16   \n",
      "3    TRUNK      75009           16009        09-09           07-16   \n",
      "4    TRUNK      75009           16009        09-09           07-16   \n",
      "\n",
      "  PM_Peak_Freq PM_Offpeak_Freq LoopDesc         RoadName  \\\n",
      "0        10-17           15-17           Tampines Ctrl 1   \n",
      "1        10-17           15-17            Tampines Ave 5   \n",
      "2        10-17           15-17            Tampines Ave 5   \n",
      "3        10-17           15-17                 Simei Ave   \n",
      "4        10-17           15-17                 Simei Ave   \n",
      "\n",
      "            Description  Latitude   Longitude  \n",
      "0          Tampines Int  1.354076  103.943391  \n",
      "1  Opp Our Tampines Hub  1.352962  103.941652  \n",
      "2               Blk 147  1.348753  103.942086  \n",
      "3   Changi General Hosp  1.340055  103.948381  \n",
      "4          Opp Blk 3012  1.337371  103.950673  \n"
     ]
    }
   ],
   "source": [
    "# Merge bus_routes_df with bus_stops_df to get the lat-long of each bus stop\n",
    "merged_bus_routes = pd.merge(bus_routes_services, bus_stops_df, on='BusStopCode', how='left')\n",
    "#Ensure there's no rows with na values for longitude and latitude\n",
    "print(merged_bus_routes.head())"
   ]
  }
 ],
 "metadata": {
  "kernelspec": {
   "display_name": "DSA4264",
   "language": "python",
   "name": "python3"
  },
  "language_info": {
   "codemirror_mode": {
    "name": "ipython",
    "version": 3
   },
   "file_extension": ".py",
   "mimetype": "text/x-python",
   "name": "python",
   "nbconvert_exporter": "python",
   "pygments_lexer": "ipython3",
   "version": "3.12.4"
  }
 },
 "nbformat": 4,
 "nbformat_minor": 2
}
