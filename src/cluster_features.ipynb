{
 "cells": [
  {
   "cell_type": "markdown",
   "id": "256be45a-d5bf-43aa-9aff-b285ef7204c5",
   "metadata": {},
   "source": [
    "## Importing libraries"
   ]
  },
  {
   "cell_type": "code",
   "execution_count": 48,
   "id": "b0d28bcd-3e2b-416f-a555-b88a5abc454e",
   "metadata": {},
   "outputs": [],
   "source": [
    "import requests\n",
    "import pandas as pd\n",
    "import matplotlib.pyplot as plt\n",
    "import geopandas as gpd\n",
    "from dotenv import load_dotenv\n",
    "import os\n",
    "import zipfile\n",
    "import shutil\n",
    "import numpy as np\n",
    "from sklearn.cluster import KMeans\n",
    "from sklearn.metrics import silhouette_score\n",
    "import matplotlib.pyplot as plt\n",
    "import numpy as np\n",
    "from sklearn.preprocessing import MinMaxScaler\n",
    "from sklearn.preprocessing import StandardScaler\n",
    "from sklearn.decomposition import PCA\n",
    "\n",
    "pd.set_option('display.max_rows', None)\n",
    "pd.set_option('display.max_columns', None)\n",
    "# Retrieving api key\n",
    "load_dotenv(\"../key.env\")\n",
    "api_key = os.getenv(\"API_KEY\")"
   ]
  },
  {
   "cell_type": "markdown",
   "id": "2dfd3323-429e-4cda-89d0-fe1fd2549039",
   "metadata": {},
   "source": [
    "## Reading datasets"
   ]
  },
  {
   "cell_type": "code",
   "execution_count": 33,
   "id": "20fccb7d-95c0-4ed7-b1a2-eb79bdceb6a6",
   "metadata": {},
   "outputs": [
    {
     "name": "stdout",
     "output_type": "stream",
     "text": [
      "<class 'pandas.core.frame.DataFrame'>\n",
      "RangeIndex: 20 entries, 0 to 19\n",
      "Data columns (total 5 columns):\n",
      " #   Column                 Non-Null Count  Dtype  \n",
      "---  ------                 --------------  -----  \n",
      " 0   Unnamed: 0             20 non-null     int64  \n",
      " 1   ServiceNo              20 non-null     object \n",
      " 2   TotalStops             20 non-null     int64  \n",
      " 3   WeightedParallelScore  20 non-null     float64\n",
      " 4   TrainLineParallelData  20 non-null     object \n",
      "dtypes: float64(1), int64(2), object(2)\n",
      "memory usage: 932.0+ bytes\n",
      "None\n"
     ]
    }
   ],
   "source": [
    "top_20_overlap_service = pd.read_csv(\"../datasets/filtered_final_results.csv\").head(20)\n",
    "top_20_overlap_service['ServiceNo'] = top_20_overlap_service['ServiceNo'].astype(str)\n",
    "print(top_20_overlap_service.info())"
   ]
  },
  {
   "cell_type": "markdown",
   "id": "0f744a00-d04a-4f2d-9e19-1401092e69f5",
   "metadata": {},
   "source": [
    "## Feature 1: Passenger Volume"
   ]
  },
  {
   "cell_type": "code",
   "execution_count": 34,
   "id": "b5f96356-add9-49b5-9261-c46b92a91035",
   "metadata": {},
   "outputs": [
    {
     "name": "stdout",
     "output_type": "stream",
     "text": [
      "  ServiceNo     2024-07     2024-08     2024-09       Trend  Trend_Binary  \\\n",
      "0        10  22843384.0  23052832.0  21563610.0  Increasing             1   \n",
      "1       100  15513408.0  15394684.0  14991330.0  Decreasing             0   \n",
      "2      100A   1458770.0   1434772.0   1390170.0  Decreasing             0   \n",
      "3       101   4203807.0   4119248.0   3918423.0  Decreasing             0   \n",
      "4       102   5460389.0   5304970.0   5025364.0  Decreasing             0   \n",
      "\n",
      "      Change       Average  \n",
      "0 -1279774.0  2.248661e+07  \n",
      "1  -522078.0  1.529981e+07  \n",
      "2   -68600.0  1.427904e+06  \n",
      "3  -285384.0  4.080493e+06  \n",
      "4  -435025.0  5.263574e+06  \n"
     ]
    }
   ],
   "source": [
    "pv_trend = pd.read_csv(\"../datasets/pv_eda/routes_pv_trend.csv\")\n",
    "print(pv_trend.head())"
   ]
  },
  {
   "cell_type": "code",
   "execution_count": 35,
   "id": "ecc92159-ee03-4d00-8e26-ec6c57fa8a61",
   "metadata": {},
   "outputs": [
    {
     "name": "stdout",
     "output_type": "stream",
     "text": [
      "   Unnamed: 0 ServiceNo  TotalStops  WeightedParallelScore  \\\n",
      "0         254        67         163               1.792254   \n",
      "1         219        48         105               1.513026   \n",
      "2          12       107          79               1.419038   \n",
      "3         196        36          61               1.380328   \n",
      "4          38       122          39               1.323077   \n",
      "\n",
      "                               TrainLineParallelData     2024-07     2024-08  \\\n",
      "0  {'BP': [{'ParallelStopCodes': ['44461', '44451...  40651926.0  40107168.0   \n",
      "1  {'CC': [{'ParallelStopCodes': ['41021', '41119...   9789624.0   9783592.0   \n",
      "2  {'DT': [{'ParallelStopCodes': ['60039', '60029...  11919460.0  11668796.0   \n",
      "3  {'CC': [{'ParallelStopCodes': ['02149', '02171...   2731454.0   2755434.0   \n",
      "4  {'EW': [{'ParallelStopCodes': ['06011', '06051...   2524376.0   2495384.0   \n",
      "\n",
      "      2024-09       Trend  Trend_Binary     Change       Average  \n",
      "0  37781528.0  Decreasing             0 -2870398.0  3.951354e+07  \n",
      "1   9240800.0  Decreasing             0  -548824.0  9.604672e+06  \n",
      "2  11160824.0  Decreasing             0  -758636.0  1.158303e+07  \n",
      "3   2633518.0  Increasing             1   -97936.0  2.706802e+06  \n",
      "4   2362587.0  Decreasing             0  -161789.0  2.460782e+06  \n"
     ]
    }
   ],
   "source": [
    "top_20_pv_trend = pd.merge(top_20_overlap_service, pv_trend, on=\"ServiceNo\", how=\"inner\")\n",
    "print(top_20_pv_trend.head())"
   ]
  },
  {
   "cell_type": "code",
   "execution_count": 36,
   "id": "a90ee38a-fb46-415f-b5d1-dc8dafe38b93",
   "metadata": {},
   "outputs": [
    {
     "name": "stdout",
     "output_type": "stream",
     "text": [
      "   ServiceNo  TotalStops  WeightedParallelScore  \\\n",
      "0         67         163               1.792254   \n",
      "1         48         105               1.513026   \n",
      "2        107          79               1.419038   \n",
      "3         36          61               1.380328   \n",
      "4        122          39               1.323077   \n",
      "5        170         130               1.241430   \n",
      "6          2         131               1.195465   \n",
      "7         63         102               1.188235   \n",
      "8         65         128               1.184811   \n",
      "9        100         111               1.180604   \n",
      "10        24         100               1.174000   \n",
      "11        80         118               1.173851   \n",
      "12       851         108               1.150687   \n",
      "13       111          56               1.146429   \n",
      "14       134          36               1.127778   \n",
      "15       158          69               1.124638   \n",
      "16        13         129               1.099351   \n",
      "17       133          86               1.083658   \n",
      "18       147         146               1.078986   \n",
      "19        40          62               1.077419   \n",
      "\n",
      "                                TrainLineParallelData  Trend_Binary  \\\n",
      "0   {'BP': [{'ParallelStopCodes': ['44461', '44451...             0   \n",
      "1   {'CC': [{'ParallelStopCodes': ['41021', '41119...             0   \n",
      "2   {'DT': [{'ParallelStopCodes': ['60039', '60029...             0   \n",
      "3   {'CC': [{'ParallelStopCodes': ['02149', '02171...             1   \n",
      "4   {'EW': [{'ParallelStopCodes': ['06011', '06051...             0   \n",
      "5   {'DT': [{'ParallelStopCodes': ['07531', '40011...             0   \n",
      "6   {'DT': [{'ParallelStopCodes': ['96059', '04239...             0   \n",
      "7   {'CC': [{'ParallelStopCodes': ['70181'], 'Para...             0   \n",
      "8   {'CC': [{'ParallelStopCodes': ['08031', '14019...             0   \n",
      "9   {'CC': [{'ParallelStopCodes': ['01429', '01419...             0   \n",
      "10  {'CC': [{'ParallelStopCodes': ['66091', '62029...             0   \n",
      "11  {'CC': [{'ParallelStopCodes': ['62029', '62019...             0   \n",
      "12  {'CC': [{'ParallelStopCodes': ['53139', '53129...             0   \n",
      "13  {'CC': [{'ParallelStopCodes': ['08138', '08057...             0   \n",
      "14  {'CC': [{'ParallelStopCodes': ['81111', '82119...             0   \n",
      "15  {'CC': [{'ParallelStopCodes': ['66009', '62179...             0   \n",
      "16  {'DT': [{'ParallelStopCodes': ['60119'], 'Para...             0   \n",
      "17  {'CC': [{'ParallelStopCodes': ['66091', '66031...             0   \n",
      "18  {'DT': [{'ParallelStopCodes': ['60119', '60099...             0   \n",
      "19  {'CC': [{'ParallelStopCodes': ['82091', '70181...             0   \n",
      "\n",
      "    Change_Standardized  Average_Standardized  \n",
      "0             -2.160795              1.000000  \n",
      "1             -0.591609              0.262200  \n",
      "2             -0.381085              0.531761  \n",
      "3              1.396551              0.031979  \n",
      "4             -0.831323              0.123498  \n",
      "5             -0.425222              0.605512  \n",
      "6             -0.154607              0.401434  \n",
      "7             -0.820605              0.128731  \n",
      "8             -1.273096              0.788277  \n",
      "9             -0.707967              0.488822  \n",
      "10            -0.170273              0.388017  \n",
      "11            -0.262841              0.523334  \n",
      "12            -0.951365              0.675082  \n",
      "13            -1.571475              0.000000  \n",
      "14            -0.760576              0.191897  \n",
      "15            -0.903243              0.132696  \n",
      "16            -1.414789              0.616625  \n",
      "17            -0.563135              0.593571  \n",
      "18            -0.962600              0.758463  \n",
      "19            -0.286016              0.352887  \n"
     ]
    }
   ],
   "source": [
    "# Normalize 'Change' and 'Average' by 'TotalStops'\n",
    "top_20_pv_trend['Change_Normalized'] = top_20_pv_trend['Change'] / top_20_pv_trend['TotalStops']\n",
    "top_20_pv_trend['Average_Normalized'] = top_20_pv_trend['Average'] / top_20_pv_trend['TotalStops']\n",
    "\n",
    "# Calculate z-score for 'Change_Normalized' across the entire dataset\n",
    "change_mean = top_20_pv_trend['Change_Normalized'].mean()\n",
    "change_std = top_20_pv_trend['Change_Normalized'].std()\n",
    "top_20_pv_trend['Change_Standardized'] = (top_20_pv_trend['Change_Normalized'] - change_mean) / change_std\n",
    "\n",
    "# Adjust signs based on 'Trend'\n",
    "top_20_pv_trend.loc[top_20_pv_trend['Trend'] == 'Decreasing', 'Change_Standardized'] = \\\n",
    "    -np.abs(top_20_pv_trend.loc[top_20_pv_trend['Trend'] == 'Decreasing', 'Change_Standardized'])\n",
    "\n",
    "top_20_pv_trend.loc[top_20_pv_trend['Trend'] == 'Increasing', 'Change_Standardized'] = \\\n",
    "    np.abs(top_20_pv_trend.loc[top_20_pv_trend['Trend'] == 'Increasing', 'Change_Standardized'])\n",
    "\n",
    "# Scale 'Average_Normalized' to the range 0-1 for the entire dataset\n",
    "scaler = MinMaxScaler(feature_range=(0, 1))\n",
    "top_20_pv_trend['Average_Standardized'] = scaler.fit_transform(top_20_pv_trend[['Average_Normalized']])\n",
    "\n",
    "top_20_pv_trend = top_20_pv_trend[['ServiceNo', 'TotalStops', 'WeightedParallelScore', 'TrainLineParallelData', \n",
    "                                   'Trend_Binary', 'Change_Standardized', 'Average_Standardized']]\n",
    "\n",
    "# Preview the resulting DataFrame\n",
    "print(top_20_pv_trend)"
   ]
  },
  {
   "cell_type": "markdown",
   "id": "726a1814-b594-4316-acb8-6ffb3d6e8727",
   "metadata": {},
   "source": [
    "## Count of alternative bus routes"
   ]
  },
  {
   "cell_type": "code",
   "execution_count": 37,
   "id": "f03b4299-59d9-4137-9805-b51a69f52542",
   "metadata": {},
   "outputs": [],
   "source": [
    "%run get_bus_info_function.ipynb\n",
    "bus_services_df = get_bus_info(\"https://datamall2.mytransport.sg/ltaodataservice/BusServices\", api_key)\n",
    "bus_routes_df = get_bus_info(\"https://datamall2.mytransport.sg/ltaodataservice/BusRoutes\", api_key)\n",
    "bus_stops_df = get_bus_info(\"https://datamall2.mytransport.sg/ltaodataservice/BusStops\", api_key)"
   ]
  },
  {
   "cell_type": "code",
   "execution_count": 38,
   "id": "1f6bc737-5faf-4d19-80e4-6049f3e62b6e",
   "metadata": {},
   "outputs": [
    {
     "name": "stdout",
     "output_type": "stream",
     "text": [
      "  ServiceNo                                    OrderedBusStops\n",
      "0        10  [75009, 75009, 76059, 76059, 76069, 76069, 962...\n",
      "1       100  [66009, 66009, 62129, 62129, 62119, 62119, 610...\n",
      "2      100A  [66009, 62129, 62119, 61049, 61039, 70069, 700...\n",
      "3       101  [66009, 62131, 62141, 63011, 63021, 63031, 630...\n",
      "4       102  [64009, 64041, 64051, 64061, 64401, 67739, 677...\n"
     ]
    }
   ],
   "source": [
    "# Filter for Trunk Services\n",
    "trunk_buses_df = bus_services_df[bus_services_df['Category'] == \"TRUNK\"]\n",
    "trunk_buses_df = trunk_buses_df['ServiceNo']\n",
    "trunk_bus_routes_df = pd.merge(trunk_buses_df, bus_routes_df, on='ServiceNo', how='inner')\n",
    "\n",
    "# Select relevant columns\n",
    "trunk_bus_routes_df = trunk_bus_routes_df[['ServiceNo', 'Direction', 'StopSequence', 'BusStopCode']]\n",
    "\n",
    "# Sort the trunk bus routes by Direction and StopSequence\n",
    "trunk_bus_routes_df.sort_values(by=['ServiceNo', 'Direction', 'StopSequence'], inplace=True)\n",
    "\n",
    "# Group by ServiceNo and create an ordered list of BusStopCodes for each service\n",
    "ordered_stops = trunk_bus_routes_df.groupby('ServiceNo').agg(\n",
    "    OrderedBusStops=('BusStopCode', lambda x: list(x))\n",
    ").reset_index()\n",
    "\n",
    "# Display the result\n",
    "print(ordered_stops.head())"
   ]
  },
  {
   "cell_type": "markdown",
   "id": "8ce4802d",
   "metadata": {},
   "source": [
    "## Feature 3 : Average Distance of bus stops to train stations "
   ]
  },
  {
   "cell_type": "code",
   "execution_count": 39,
   "id": "4b8b1bfa",
   "metadata": {},
   "outputs": [],
   "source": [
    "avg_dist_df = pd.read_pickle(\"../datasets/overlap_results_with_road_distance3.pkl\")"
   ]
  },
  {
   "cell_type": "code",
   "execution_count": 40,
   "id": "4c864a89",
   "metadata": {},
   "outputs": [
    {
     "data": {
      "text/html": [
       "<div>\n",
       "<style scoped>\n",
       "    .dataframe tbody tr th:only-of-type {\n",
       "        vertical-align: middle;\n",
       "    }\n",
       "\n",
       "    .dataframe tbody tr th {\n",
       "        vertical-align: top;\n",
       "    }\n",
       "\n",
       "    .dataframe thead th {\n",
       "        text-align: right;\n",
       "    }\n",
       "</style>\n",
       "<table border=\"1\" class=\"dataframe\">\n",
       "  <thead>\n",
       "    <tr style=\"text-align: right;\">\n",
       "      <th></th>\n",
       "      <th>ServiceNo</th>\n",
       "      <th>TotalBusStops</th>\n",
       "      <th>AvgNormalizedDistance</th>\n",
       "      <th>SoftmaxAvgDistance</th>\n",
       "      <th>NormalizedDistances</th>\n",
       "      <th>Category</th>\n",
       "    </tr>\n",
       "  </thead>\n",
       "  <tbody>\n",
       "    <tr>\n",
       "      <th>0</th>\n",
       "      <td>10</td>\n",
       "      <td>146</td>\n",
       "      <td>0.855912</td>\n",
       "      <td>0.001797</td>\n",
       "      <td>{'75009': [[0.23621599952756797, 'EW2', 'East-...</td>\n",
       "      <td>TRUNK</td>\n",
       "    </tr>\n",
       "    <tr>\n",
       "      <th>1</th>\n",
       "      <td>100</td>\n",
       "      <td>109</td>\n",
       "      <td>0.838644</td>\n",
       "      <td>0.001828</td>\n",
       "      <td>{'62129': [[0.691723998616552, 'NE12', 'North ...</td>\n",
       "      <td>TRUNK</td>\n",
       "    </tr>\n",
       "    <tr>\n",
       "      <th>2</th>\n",
       "      <td>100A</td>\n",
       "      <td>13</td>\n",
       "      <td>0.870323</td>\n",
       "      <td>0.001771</td>\n",
       "      <td>{'62129': [[0.691723998616552, 'NE12', 'North ...</td>\n",
       "      <td>TRUNK</td>\n",
       "    </tr>\n",
       "    <tr>\n",
       "      <th>3</th>\n",
       "      <td>101</td>\n",
       "      <td>45</td>\n",
       "      <td>0.822894</td>\n",
       "      <td>0.001857</td>\n",
       "      <td>{'62131': [[0.184851999630296, 'NE12', 'North ...</td>\n",
       "      <td>TRUNK</td>\n",
       "    </tr>\n",
       "    <tr>\n",
       "      <th>4</th>\n",
       "      <td>102</td>\n",
       "      <td>59</td>\n",
       "      <td>0.857730</td>\n",
       "      <td>0.001794</td>\n",
       "      <td>{'64009': [[0.350813999298372, 'NE14', 'North ...</td>\n",
       "      <td>TRUNK</td>\n",
       "    </tr>\n",
       "  </tbody>\n",
       "</table>\n",
       "</div>"
      ],
      "text/plain": [
       "  ServiceNo  TotalBusStops  AvgNormalizedDistance  SoftmaxAvgDistance  \\\n",
       "0        10            146               0.855912            0.001797   \n",
       "1       100            109               0.838644            0.001828   \n",
       "2      100A             13               0.870323            0.001771   \n",
       "3       101             45               0.822894            0.001857   \n",
       "4       102             59               0.857730            0.001794   \n",
       "\n",
       "                                 NormalizedDistances Category  \n",
       "0  {'75009': [[0.23621599952756797, 'EW2', 'East-...    TRUNK  \n",
       "1  {'62129': [[0.691723998616552, 'NE12', 'North ...    TRUNK  \n",
       "2  {'62129': [[0.691723998616552, 'NE12', 'North ...    TRUNK  \n",
       "3  {'62131': [[0.184851999630296, 'NE12', 'North ...    TRUNK  \n",
       "4  {'64009': [[0.350813999298372, 'NE14', 'North ...    TRUNK  "
      ]
     },
     "execution_count": 40,
     "metadata": {},
     "output_type": "execute_result"
    }
   ],
   "source": [
    "avg_dist_df.head()"
   ]
  },
  {
   "cell_type": "code",
   "execution_count": 41,
   "id": "8dd92e93",
   "metadata": {},
   "outputs": [],
   "source": [
    "top_20_features = pd.merge(top_20_pv_trend,avg_dist_df, on = 'ServiceNo')"
   ]
  },
  {
   "cell_type": "code",
   "execution_count": 53,
   "id": "c190f42d",
   "metadata": {},
   "outputs": [
    {
     "data": {
      "text/html": [
       "<div>\n",
       "<style scoped>\n",
       "    .dataframe tbody tr th:only-of-type {\n",
       "        vertical-align: middle;\n",
       "    }\n",
       "\n",
       "    .dataframe tbody tr th {\n",
       "        vertical-align: top;\n",
       "    }\n",
       "\n",
       "    .dataframe thead th {\n",
       "        text-align: right;\n",
       "    }\n",
       "</style>\n",
       "<table border=\"1\" class=\"dataframe\">\n",
       "  <thead>\n",
       "    <tr style=\"text-align: right;\">\n",
       "      <th></th>\n",
       "      <th>ServiceNo</th>\n",
       "      <th>WeightedParallelScore</th>\n",
       "      <th>AvgPVChange</th>\n",
       "      <th>AvgDistanceToMRT</th>\n",
       "    </tr>\n",
       "  </thead>\n",
       "  <tbody>\n",
       "    <tr>\n",
       "      <th>0</th>\n",
       "      <td>67</td>\n",
       "      <td>1.792254</td>\n",
       "      <td>1.000000</td>\n",
       "      <td>0.737742</td>\n",
       "    </tr>\n",
       "    <tr>\n",
       "      <th>1</th>\n",
       "      <td>48</td>\n",
       "      <td>1.513026</td>\n",
       "      <td>0.262200</td>\n",
       "      <td>0.773233</td>\n",
       "    </tr>\n",
       "    <tr>\n",
       "      <th>2</th>\n",
       "      <td>107</td>\n",
       "      <td>1.419038</td>\n",
       "      <td>0.531761</td>\n",
       "      <td>0.745774</td>\n",
       "    </tr>\n",
       "    <tr>\n",
       "      <th>3</th>\n",
       "      <td>36</td>\n",
       "      <td>1.380328</td>\n",
       "      <td>0.031979</td>\n",
       "      <td>0.668416</td>\n",
       "    </tr>\n",
       "    <tr>\n",
       "      <th>4</th>\n",
       "      <td>122</td>\n",
       "      <td>1.323077</td>\n",
       "      <td>0.123498</td>\n",
       "      <td>0.805609</td>\n",
       "    </tr>\n",
       "    <tr>\n",
       "      <th>5</th>\n",
       "      <td>170</td>\n",
       "      <td>1.241430</td>\n",
       "      <td>0.605512</td>\n",
       "      <td>0.772111</td>\n",
       "    </tr>\n",
       "    <tr>\n",
       "      <th>6</th>\n",
       "      <td>2</td>\n",
       "      <td>1.195465</td>\n",
       "      <td>0.401434</td>\n",
       "      <td>0.848269</td>\n",
       "    </tr>\n",
       "    <tr>\n",
       "      <th>7</th>\n",
       "      <td>63</td>\n",
       "      <td>1.188235</td>\n",
       "      <td>0.128731</td>\n",
       "      <td>0.730902</td>\n",
       "    </tr>\n",
       "    <tr>\n",
       "      <th>8</th>\n",
       "      <td>65</td>\n",
       "      <td>1.184811</td>\n",
       "      <td>0.788277</td>\n",
       "      <td>0.795562</td>\n",
       "    </tr>\n",
       "    <tr>\n",
       "      <th>9</th>\n",
       "      <td>100</td>\n",
       "      <td>1.180604</td>\n",
       "      <td>0.488822</td>\n",
       "      <td>0.838644</td>\n",
       "    </tr>\n",
       "    <tr>\n",
       "      <th>10</th>\n",
       "      <td>24</td>\n",
       "      <td>1.174000</td>\n",
       "      <td>0.388017</td>\n",
       "      <td>0.823632</td>\n",
       "    </tr>\n",
       "    <tr>\n",
       "      <th>11</th>\n",
       "      <td>80</td>\n",
       "      <td>1.173851</td>\n",
       "      <td>0.523334</td>\n",
       "      <td>0.790851</td>\n",
       "    </tr>\n",
       "    <tr>\n",
       "      <th>12</th>\n",
       "      <td>851</td>\n",
       "      <td>1.150687</td>\n",
       "      <td>0.675082</td>\n",
       "      <td>0.774226</td>\n",
       "    </tr>\n",
       "    <tr>\n",
       "      <th>13</th>\n",
       "      <td>111</td>\n",
       "      <td>1.146429</td>\n",
       "      <td>0.000000</td>\n",
       "      <td>0.702749</td>\n",
       "    </tr>\n",
       "    <tr>\n",
       "      <th>14</th>\n",
       "      <td>134</td>\n",
       "      <td>1.127778</td>\n",
       "      <td>0.191897</td>\n",
       "      <td>0.758921</td>\n",
       "    </tr>\n",
       "    <tr>\n",
       "      <th>15</th>\n",
       "      <td>158</td>\n",
       "      <td>1.124638</td>\n",
       "      <td>0.132696</td>\n",
       "      <td>0.689418</td>\n",
       "    </tr>\n",
       "    <tr>\n",
       "      <th>16</th>\n",
       "      <td>13</td>\n",
       "      <td>1.099351</td>\n",
       "      <td>0.616625</td>\n",
       "      <td>0.885310</td>\n",
       "    </tr>\n",
       "    <tr>\n",
       "      <th>17</th>\n",
       "      <td>133</td>\n",
       "      <td>1.083658</td>\n",
       "      <td>0.593571</td>\n",
       "      <td>0.751249</td>\n",
       "    </tr>\n",
       "    <tr>\n",
       "      <th>18</th>\n",
       "      <td>147</td>\n",
       "      <td>1.078986</td>\n",
       "      <td>0.758463</td>\n",
       "      <td>0.790455</td>\n",
       "    </tr>\n",
       "    <tr>\n",
       "      <th>19</th>\n",
       "      <td>40</td>\n",
       "      <td>1.077419</td>\n",
       "      <td>0.352887</td>\n",
       "      <td>0.894311</td>\n",
       "    </tr>\n",
       "  </tbody>\n",
       "</table>\n",
       "</div>"
      ],
      "text/plain": [
       "   ServiceNo  WeightedParallelScore  AvgPVChange  AvgDistanceToMRT\n",
       "0         67               1.792254     1.000000          0.737742\n",
       "1         48               1.513026     0.262200          0.773233\n",
       "2        107               1.419038     0.531761          0.745774\n",
       "3         36               1.380328     0.031979          0.668416\n",
       "4        122               1.323077     0.123498          0.805609\n",
       "5        170               1.241430     0.605512          0.772111\n",
       "6          2               1.195465     0.401434          0.848269\n",
       "7         63               1.188235     0.128731          0.730902\n",
       "8         65               1.184811     0.788277          0.795562\n",
       "9        100               1.180604     0.488822          0.838644\n",
       "10        24               1.174000     0.388017          0.823632\n",
       "11        80               1.173851     0.523334          0.790851\n",
       "12       851               1.150687     0.675082          0.774226\n",
       "13       111               1.146429     0.000000          0.702749\n",
       "14       134               1.127778     0.191897          0.758921\n",
       "15       158               1.124638     0.132696          0.689418\n",
       "16        13               1.099351     0.616625          0.885310\n",
       "17       133               1.083658     0.593571          0.751249\n",
       "18       147               1.078986     0.758463          0.790455\n",
       "19        40               1.077419     0.352887          0.894311"
      ]
     },
     "execution_count": 53,
     "metadata": {},
     "output_type": "execute_result"
    }
   ],
   "source": [
    "top_20_features"
   ]
  },
  {
   "cell_type": "code",
   "execution_count": 43,
   "id": "d1b33899",
   "metadata": {},
   "outputs": [],
   "source": [
    "top_20_features = top_20_features[['ServiceNo','WeightedParallelScore','Average_Standardized','AvgNormalizedDistance']]\n",
    "top_20_features.columns = ['ServiceNo', 'WeightedParallelScore', 'AvgPVChange', 'AvgDistanceToMRT']"
   ]
  },
  {
   "cell_type": "code",
   "execution_count": 45,
   "id": "11cdd247",
   "metadata": {},
   "outputs": [],
   "source": [
    "# # Apply StandardScaler to standardize the features\n",
    "scaler = MinMaxScaler(feature_range=(0, 1))\n",
    "features_scaled = scaler.fit_transform(top_20_features[['WeightedParallelScore', 'AvgPVChange', 'AvgDistanceToMRT']])"
   ]
  },
  {
   "cell_type": "code",
   "execution_count": null,
   "id": "14b9db77",
   "metadata": {},
   "outputs": [],
   "source": [
    "features_scaled"
   ]
  },
  {
   "cell_type": "code",
   "execution_count": 51,
   "id": "1b953ede",
   "metadata": {},
   "outputs": [
    {
     "data": {
      "image/png": "[encoded data removed]",
      "text/plain": [
       "<Figure size 1000x500 with 1 Axes>"
      ]
     },
     "metadata": {},
     "output_type": "display_data"
    },
    {
     "data": {
      "image/png": "[encoded data removed]",
      "text/plain": [
       "<Figure size 1000x500 with 1 Axes>"
      ]
     },
     "metadata": {},
     "output_type": "display_data"
    },
    {
     "name": "stdout",
     "output_type": "stream",
     "text": [
      "Silhouette score for k=2: 0.347\n",
      "Silhouette score for k=3: 0.383\n",
      "Silhouette score for k=4: 0.367\n",
      "Silhouette score for k=5: 0.408\n",
      "Silhouette score for k=6: 0.382\n",
      "Silhouette score for k=7: 0.338\n",
      "Silhouette score for k=8: 0.254\n",
      "Silhouette score for k=9: 0.254\n"
     ]
    }
   ],
   "source": [
    "# Elbow Method\n",
    "sse = []  # Sum of squared errors\n",
    "range_k = range(2, 10)  # Range of k to test\n",
    "\n",
    "for k in range_k:\n",
    "    kmeans = KMeans(n_clusters=k, random_state=42)\n",
    "    kmeans.fit(features_scaled)\n",
    "    sse.append(kmeans.inertia_)  # Inertia is the sum of squared distances to the nearest cluster center\n",
    "\n",
    "# Plot the SSE for each k\n",
    "plt.figure(figsize=(10, 5))\n",
    "plt.plot(range_k, sse, marker='o')\n",
    "plt.xlabel('Number of clusters (k)')\n",
    "plt.ylabel('Sum of Squared Errors (SSE)')\n",
    "plt.title('Elbow Method for Optimal k')\n",
    "plt.show()\n",
    "\n",
    "# Silhouette Analysis\n",
    "silhouette_scores = []\n",
    "\n",
    "for k in range_k:\n",
    "    kmeans = KMeans(n_clusters=k, random_state=42)\n",
    "    cluster_labels = kmeans.fit_predict(features_scaled)\n",
    "    silhouette_avg = silhouette_score(features_scaled, cluster_labels)\n",
    "    silhouette_scores.append(silhouette_avg)\n",
    "\n",
    "# Plot the Silhouette Scores for each k\n",
    "plt.figure(figsize=(10, 5))\n",
    "plt.plot(range_k, silhouette_scores, marker='o')\n",
    "plt.xlabel('Number of clusters (k)')\n",
    "plt.ylabel('Silhouette Score')\n",
    "plt.title('Silhouette Analysis for Optimal k')\n",
    "plt.show()\n",
    "\n",
    "# Print out the silhouette scores for inspection\n",
    "for i, score in zip(range_k, silhouette_scores):\n",
    "    print(f\"Silhouette score for k={i}: {score:.3f}\")"
   ]
  },
  {
   "cell_type": "code",
   "execution_count": null,
   "id": "18202b29",
   "metadata": {},
   "outputs": [
    {
     "name": "stdout",
     "output_type": "stream",
     "text": [
      "Cluster Centers:\n",
      "[[0.16236206 0.09706051 0.18444476]\n",
      " [0.10466421 0.65737307 0.4898731 ]\n",
      " [1.         1.         0.30689715]\n",
      " [0.09505494 0.44955697 0.83940602]\n",
      " [0.4769788  0.30581939 0.47126373]]\n",
      "Top 20 features with cluster assignments:\n",
      "   WeightedParallelScore  AvgPVChange  AvgDistanceToMRT  Cluster\n",
      "0               1.000000     1.000000          0.306897        2\n",
      "1               0.609381     0.262200          0.464008        4\n",
      "2               0.477899     0.531761          0.342451        4\n",
      "3               0.423746     0.031979          0.000000        0\n",
      "4               0.343656     0.123498          0.607332        4\n"
     ]
    },
    {
     "data": {
      "image/png": "[encoded data removed]",
      "text/plain": [
       "<Figure size 1200x800 with 1 Axes>"
      ]
     },
     "metadata": {},
     "output_type": "display_data"
    }
   ],
   "source": [
    "from sklearn.cluster import KMeans\n",
    "import pandas as pd\n",
    "\n",
    "# Assuming features array is already normalized and stored in a variable called `features`\n",
    "k = 5  # Optimal number of clusters\n",
    "\n",
    "# Perform KMeans clustering\n",
    "kmeans = KMeans(n_clusters=k, random_state=42)\n",
    "cluster_labels = kmeans.fit_predict(features_scaled)\n",
    "\n",
    "# Create a DataFrame to store the results\n",
    "columns = ['WeightedParallelScore', 'AvgPVChange', 'AvgDistanceToMRT']  # Replace with your actual column names if needed\n",
    "top_20_features_df = pd.DataFrame(features_scaled, columns=columns)\n",
    "top_20_features_df['Cluster'] = cluster_labels\n",
    "\n",
    "# Analyze the clusters\n",
    "print(\"Cluster Centers:\")\n",
    "print(kmeans.cluster_centers_)\n",
    "\n",
    "# Display the first few rows of the DataFrame with cluster assignments\n",
    "print(\"Top 20 features with cluster assignments:\")\n",
    "print(top_20_features_df.head())\n",
    "\n",
    "\n",
    "plt.figure(figsize=(12, 8))\n",
    "for i in range(k):\n",
    "    cluster_data = top_20_features_df[top_20_features_df['Cluster'] == i]\n",
    "    plt.scatter(cluster_data['WeightedParallelScore'], cluster_data['AvgPVChange'], cluster_data['AvgDistanceToMRT'], label=f'Cluster {i}')\n",
    "\n",
    "plt.xlabel('Weighted Parallel Score')\n",
    "plt.ylabel('Average PV Change')\n",
    "plt.title('3D Clustering of Bus Routes')\n",
    "plt.legend()\n",
    "plt.show()\n",
    "\n",
    "\n",
    "# Save results to a CSV for further analysis if needed\n",
    "top_20_features_df.to_csv('clustered_bus_routes.csv', index=False)\n"
   ]
  }
 ],
 "metadata": {
  "kernelspec": {
   "display_name": "DSA4264",
   "language": "python",
   "name": "python3"
  },
  "language_info": {
   "codemirror_mode": {
    "name": "ipython",
    "version": 3
   },
   "file_extension": ".py",
   "mimetype": "text/x-python",
   "name": "python",
   "nbconvert_exporter": "python",
   "pygments_lexer": "ipython3",
   "version": "3.12.4"
  }
 },
 "nbformat": 4,
 "nbformat_minor": 5
}
