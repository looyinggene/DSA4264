{
 "cells": [
  {
   "cell_type": "markdown",
   "id": "256be45a-d5bf-43aa-9aff-b285ef7204c5",
   "metadata": {},
   "source": [
    "## Importing libraries"
   ]
  },
  {
   "cell_type": "code",
   "execution_count": 1,
   "id": "b0d28bcd-3e2b-416f-a555-b88a5abc454e",
   "metadata": {},
   "outputs": [],
   "source": [
    "import requests\n",
    "import pandas as pd\n",
    "import matplotlib.pyplot as plt\n",
    "import geopandas as gpd\n",
    "from dotenv import load_dotenv\n",
    "import os\n",
    "import zipfile\n",
    "import shutil\n",
    "import numpy as np\n",
    "from sklearn.preprocessing import MinMaxScaler\n",
    "from sklearn.preprocessing import StandardScaler\n",
    "from sklearn.decomposition import PCA\n",
    "\n",
    "pd.set_option('display.max_rows', None)\n",
    "pd.set_option('display.max_columns', None)\n",
    "# Retrieving api key\n",
    "load_dotenv(\"../key.env\")\n",
    "api_key = os.getenv(\"API_KEY\")"
   ]
  },
  {
   "cell_type": "markdown",
   "id": "2dfd3323-429e-4cda-89d0-fe1fd2549039",
   "metadata": {},
   "source": [
    "## Reading datasets"
   ]
  },
  {
   "cell_type": "code",
   "execution_count": 2,
   "id": "20fccb7d-95c0-4ed7-b1a2-eb79bdceb6a6",
   "metadata": {},
   "outputs": [
    {
     "name": "stdout",
     "output_type": "stream",
     "text": [
      "<class 'pandas.core.frame.DataFrame'>\n",
      "RangeIndex: 20 entries, 0 to 19\n",
      "Data columns (total 5 columns):\n",
      " #   Column                 Non-Null Count  Dtype  \n",
      "---  ------                 --------------  -----  \n",
      " 0   Unnamed: 0             20 non-null     int64  \n",
      " 1   ServiceNo              20 non-null     object \n",
      " 2   TotalStops             20 non-null     int64  \n",
      " 3   WeightedParallelScore  20 non-null     float64\n",
      " 4   TrainLineParallelData  20 non-null     object \n",
      "dtypes: float64(1), int64(2), object(2)\n",
      "memory usage: 928.0+ bytes\n",
      "None\n"
     ]
    }
   ],
   "source": [
    "top_20_overlap_service = pd.read_csv(\"../datasets/overlap_routes/filtered_final_results.csv\").head(20)\n",
    "top_20_overlap_service['ServiceNo'] = top_20_overlap_service['ServiceNo'].astype(str)\n",
    "print(top_20_overlap_service.info())"
   ]
  },
  {
   "cell_type": "markdown",
   "id": "0f744a00-d04a-4f2d-9e19-1401092e69f5",
   "metadata": {},
   "source": [
    "## Feature 1: Passenger Volume"
   ]
  },
  {
   "cell_type": "code",
   "execution_count": 3,
   "id": "b5f96356-add9-49b5-9261-c46b92a91035",
   "metadata": {},
   "outputs": [
    {
     "name": "stdout",
     "output_type": "stream",
     "text": [
      "  ServiceNo     2024-07     2024-08     2024-09       Trend  Trend_Binary  \\\n",
      "0        10  22843384.0  23052832.0  21563610.0  Increasing             1   \n",
      "1       100  15513408.0  15394684.0  14991330.0  Decreasing             0   \n",
      "2      100A   1458770.0   1434772.0   1390170.0  Decreasing             0   \n",
      "3       101   4203807.0   4119248.0   3918423.0  Decreasing             0   \n",
      "4       102   5460389.0   5304970.0   5025364.0  Decreasing             0   \n",
      "\n",
      "      Change       Average  \n",
      "0 -1279774.0  2.248661e+07  \n",
      "1  -522078.0  1.529981e+07  \n",
      "2   -68600.0  1.427904e+06  \n",
      "3  -285384.0  4.080493e+06  \n",
      "4  -435025.0  5.263574e+06  \n"
     ]
    }
   ],
   "source": [
    "pv_trend = pd.read_csv(\"../datasets/pv_eda/routes_pv_trend.csv\")\n",
    "print(pv_trend.head())"
   ]
  },
  {
   "cell_type": "code",
   "execution_count": 4,
   "id": "ecc92159-ee03-4d00-8e26-ec6c57fa8a61",
   "metadata": {},
   "outputs": [
    {
     "name": "stdout",
     "output_type": "stream",
     "text": [
      "   Unnamed: 0 ServiceNo  TotalStops  WeightedParallelScore  \\\n",
      "0         254        67         163               1.792254   \n",
      "1         219        48         105               1.513026   \n",
      "2          12       107          79               1.419038   \n",
      "3         196        36          61               1.380328   \n",
      "4          38       122          39               1.323077   \n",
      "\n",
      "                               TrainLineParallelData     2024-07     2024-08  \\\n",
      "0  {'BP': [{'ParallelStopCodes': ['44461', '44451...  40651926.0  40107168.0   \n",
      "1  {'CC': [{'ParallelStopCodes': ['41021', '41119...   9789624.0   9783592.0   \n",
      "2  {'DT': [{'ParallelStopCodes': ['60039', '60029...  11919460.0  11668796.0   \n",
      "3  {'CC': [{'ParallelStopCodes': ['02149', '02171...   2731454.0   2755434.0   \n",
      "4  {'EW': [{'ParallelStopCodes': ['06011', '06051...   2524376.0   2495384.0   \n",
      "\n",
      "      2024-09       Trend  Trend_Binary     Change       Average  \n",
      "0  37781528.0  Decreasing             0 -2870398.0  3.951354e+07  \n",
      "1   9240800.0  Decreasing             0  -548824.0  9.604672e+06  \n",
      "2  11160824.0  Decreasing             0  -758636.0  1.158303e+07  \n",
      "3   2633518.0  Increasing             1   -97936.0  2.706802e+06  \n",
      "4   2362587.0  Decreasing             0  -161789.0  2.460782e+06  \n"
     ]
    }
   ],
   "source": [
    "top_20_pv_trend = pd.merge(top_20_overlap_service, pv_trend, on=\"ServiceNo\", how=\"inner\")\n",
    "print(top_20_pv_trend.head())"
   ]
  },
  {
   "cell_type": "markdown",
   "id": "62f4f5f2",
   "metadata": {},
   "source": []
  },
  {
   "cell_type": "code",
   "execution_count": null,
   "id": "5d84a8e4",
   "metadata": {},
   "outputs": [],
   "source": []
  }
 ],
 "metadata": {
  "kernelspec": {
   "display_name": "Python 3 (ipykernel)",
   "language": "python",
   "name": "python3"
  },
  "language_info": {
   "codemirror_mode": {
    "name": "ipython",
    "version": 3
   },
   "file_extension": ".py",
   "mimetype": "text/x-python",
   "name": "python",
   "nbconvert_exporter": "python",
   "pygments_lexer": "ipython3",
   "version": "3.9.9"
  }
 },
 "nbformat": 4,
 "nbformat_minor": 5
}
