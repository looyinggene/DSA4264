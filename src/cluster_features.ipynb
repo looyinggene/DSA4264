{
 "cells": [
  {
   "cell_type": "markdown",
   "id": "256be45a-d5bf-43aa-9aff-b285ef7204c5",
   "metadata": {},
   "source": [
    "## Importing libraries"
   ]
  },
  {
   "cell_type": "code",
   "execution_count": 1,
   "id": "b0d28bcd-3e2b-416f-a555-b88a5abc454e",
   "metadata": {},
   "outputs": [],
   "source": [
    "import requests\n",
    "import pandas as pd\n",
    "import matplotlib.pyplot as plt\n",
    "import geopandas as gpd\n",
    "from dotenv import load_dotenv\n",
    "import os\n",
    "import zipfile\n",
    "import shutil\n",
    "import numpy as np\n",
    "from sklearn.preprocessing import MinMaxScaler\n",
    "from sklearn.preprocessing import StandardScaler\n",
    "from sklearn.decomposition import PCA\n",
    "\n",
    "pd.set_option('display.max_rows', None)\n",
    "pd.set_option('display.max_columns', None)\n",
    "# Retrieving api key\n",
    "load_dotenv(\"../key.env\")\n",
    "api_key = os.getenv(\"API_KEY\")"
   ]
  },
  {
   "cell_type": "markdown",
   "id": "2dfd3323-429e-4cda-89d0-fe1fd2549039",
   "metadata": {},
   "source": [
    "## Reading datasets"
   ]
  },
  {
   "cell_type": "code",
   "execution_count": 2,
   "id": "20fccb7d-95c0-4ed7-b1a2-eb79bdceb6a6",
   "metadata": {},
   "outputs": [
    {
     "name": "stdout",
     "output_type": "stream",
     "text": [
      "<class 'pandas.core.frame.DataFrame'>\n",
      "RangeIndex: 20 entries, 0 to 19\n",
      "Data columns (total 5 columns):\n",
      " #   Column                 Non-Null Count  Dtype  \n",
      "---  ------                 --------------  -----  \n",
      " 0   Unnamed: 0             20 non-null     int64  \n",
      " 1   ServiceNo              20 non-null     object \n",
      " 2   TotalStops             20 non-null     int64  \n",
      " 3   WeightedParallelScore  20 non-null     float64\n",
      " 4   TrainLineParallelData  20 non-null     object \n",
      "dtypes: float64(1), int64(2), object(2)\n",
      "memory usage: 928.0+ bytes\n",
      "None\n"
     ]
    }
   ],
   "source": [
    "top_20_overlap_service = pd.read_csv(\"../datasets/overlap_routes/filtered_final_results.csv\").head(20)\n",
    "top_20_overlap_service['ServiceNo'] = top_20_overlap_service['ServiceNo'].astype(str)\n",
    "print(top_20_overlap_service.info())"
   ]
  },
  {
   "cell_type": "markdown",
   "id": "0f744a00-d04a-4f2d-9e19-1401092e69f5",
   "metadata": {},
   "source": [
    "## Feature 1: Passenger Volume"
   ]
  },
  {
   "cell_type": "code",
   "execution_count": 3,
   "id": "b5f96356-add9-49b5-9261-c46b92a91035",
   "metadata": {},
   "outputs": [
    {
     "name": "stdout",
     "output_type": "stream",
     "text": [
      "  ServiceNo     2024-07     2024-08     2024-09       Trend  Trend_Binary  \\\n",
      "0        10  22843384.0  23052832.0  21563610.0  Increasing             1   \n",
      "1       100  15513408.0  15394684.0  14991330.0  Decreasing             0   \n",
      "2      100A   1458770.0   1434772.0   1390170.0  Decreasing             0   \n",
      "3       101   4203807.0   4119248.0   3918423.0  Decreasing             0   \n",
      "4       102   5460389.0   5304970.0   5025364.0  Decreasing             0   \n",
      "\n",
      "      Change       Average  \n",
      "0 -1279774.0  2.248661e+07  \n",
      "1  -522078.0  1.529981e+07  \n",
      "2   -68600.0  1.427904e+06  \n",
      "3  -285384.0  4.080493e+06  \n",
      "4  -435025.0  5.263574e+06  \n"
     ]
    }
   ],
   "source": [
    "pv_trend = pd.read_csv(\"../datasets/pv_eda/routes_pv_trend.csv\")\n",
    "print(pv_trend.head())"
   ]
  },
  {
   "cell_type": "code",
   "execution_count": 4,
   "id": "ecc92159-ee03-4d00-8e26-ec6c57fa8a61",
   "metadata": {},
   "outputs": [
    {
     "name": "stdout",
     "output_type": "stream",
     "text": [
      "   Unnamed: 0 ServiceNo  TotalStops  WeightedParallelScore  \\\n",
      "0         254        67         163               1.792254   \n",
      "1         219        48         105               1.513026   \n",
      "2          12       107          79               1.419038   \n",
      "3         196        36          61               1.380328   \n",
      "4          38       122          39               1.323077   \n",
      "\n",
      "                               TrainLineParallelData     2024-07     2024-08  \\\n",
      "0  {'BP': [{'ParallelStopCodes': ['44461', '44451...  40651926.0  40107168.0   \n",
      "1  {'CC': [{'ParallelStopCodes': ['41021', '41119...   9789624.0   9783592.0   \n",
      "2  {'DT': [{'ParallelStopCodes': ['60039', '60029...  11919460.0  11668796.0   \n",
      "3  {'CC': [{'ParallelStopCodes': ['02149', '02171...   2731454.0   2755434.0   \n",
      "4  {'EW': [{'ParallelStopCodes': ['06011', '06051...   2524376.0   2495384.0   \n",
      "\n",
      "      2024-09       Trend  Trend_Binary     Change       Average  \n",
      "0  37781528.0  Decreasing             0 -2870398.0  3.951354e+07  \n",
      "1   9240800.0  Decreasing             0  -548824.0  9.604672e+06  \n",
      "2  11160824.0  Decreasing             0  -758636.0  1.158303e+07  \n",
      "3   2633518.0  Increasing             1   -97936.0  2.706802e+06  \n",
      "4   2362587.0  Decreasing             0  -161789.0  2.460782e+06  \n"
     ]
    }
   ],
   "source": [
    "top_20_pv_trend = pd.merge(top_20_overlap_service, pv_trend, on=\"ServiceNo\", how=\"inner\")\n",
    "print(top_20_pv_trend.head())"
   ]
  },
  {
   "cell_type": "code",
   "execution_count": 7,
   "id": "a90ee38a-fb46-415f-b5d1-dc8dafe38b93",
   "metadata": {},
   "outputs": [
    {
     "name": "stdout",
     "output_type": "stream",
     "text": [
      "   ServiceNo  TotalStops  WeightedParallelScore  \\\n",
      "0         67         163               1.792254   \n",
      "1         48         105               1.513026   \n",
      "2        107          79               1.419038   \n",
      "3         36          61               1.380328   \n",
      "4        122          39               1.323077   \n",
      "5        170         130               1.241430   \n",
      "6          2         131               1.195465   \n",
      "7         63         102               1.188235   \n",
      "8         65         128               1.184811   \n",
      "9        100         111               1.180604   \n",
      "10        24         100               1.174000   \n",
      "11        80         118               1.173851   \n",
      "12       851         108               1.150687   \n",
      "13       111          56               1.146429   \n",
      "14       134          36               1.127778   \n",
      "15       158          69               1.124638   \n",
      "16        13         129               1.099351   \n",
      "17       133          86               1.083658   \n",
      "18       147         146               1.078986   \n",
      "19        40          62               1.077419   \n",
      "\n",
      "                                TrainLineParallelData  Trend_Binary  \\\n",
      "0   {'BP': [{'ParallelStopCodes': ['44461', '44451...             0   \n",
      "1   {'CC': [{'ParallelStopCodes': ['41021', '41119...             0   \n",
      "2   {'DT': [{'ParallelStopCodes': ['60039', '60029...             0   \n",
      "3   {'CC': [{'ParallelStopCodes': ['02149', '02171...             1   \n",
      "4   {'EW': [{'ParallelStopCodes': ['06011', '06051...             0   \n",
      "5   {'DT': [{'ParallelStopCodes': ['07531', '40011...             0   \n",
      "6   {'DT': [{'ParallelStopCodes': ['96059', '04239...             0   \n",
      "7   {'CC': [{'ParallelStopCodes': ['70181'], 'Para...             0   \n",
      "8   {'CC': [{'ParallelStopCodes': ['08031', '14019...             0   \n",
      "9   {'CC': [{'ParallelStopCodes': ['01429', '01419...             0   \n",
      "10  {'CC': [{'ParallelStopCodes': ['66091', '62029...             0   \n",
      "11  {'CC': [{'ParallelStopCodes': ['62029', '62019...             0   \n",
      "12  {'CC': [{'ParallelStopCodes': ['53139', '53129...             0   \n",
      "13  {'CC': [{'ParallelStopCodes': ['08138', '08057...             0   \n",
      "14  {'CC': [{'ParallelStopCodes': ['81111', '82119...             0   \n",
      "15  {'CC': [{'ParallelStopCodes': ['66009', '62179...             0   \n",
      "16  {'DT': [{'ParallelStopCodes': ['60119'], 'Para...             0   \n",
      "17  {'CC': [{'ParallelStopCodes': ['66091', '66031...             0   \n",
      "18  {'DT': [{'ParallelStopCodes': ['60119', '60099...             0   \n",
      "19  {'CC': [{'ParallelStopCodes': ['82091', '70181...             0   \n",
      "\n",
      "    Change_Standardized  Average_Standardized  \n",
      "0             -2.160795              1.000000  \n",
      "1             -0.591609              0.262200  \n",
      "2             -0.381085              0.531761  \n",
      "3              1.396551              0.031979  \n",
      "4             -0.831323              0.123498  \n",
      "5             -0.425222              0.605512  \n",
      "6             -0.154607              0.401434  \n",
      "7             -0.820605              0.128731  \n",
      "8             -1.273096              0.788277  \n",
      "9             -0.707967              0.488822  \n",
      "10            -0.170273              0.388017  \n",
      "11            -0.262841              0.523334  \n",
      "12            -0.951365              0.675082  \n",
      "13            -1.571475              0.000000  \n",
      "14            -0.760576              0.191897  \n",
      "15            -0.903243              0.132696  \n",
      "16            -1.414789              0.616625  \n",
      "17            -0.563135              0.593571  \n",
      "18            -0.962600              0.758463  \n",
      "19            -0.286016              0.352887  \n"
     ]
    }
   ],
   "source": [
    "# Normalize 'Change' and 'Average' by 'TotalStops'\n",
    "top_20_pv_trend['Change_Normalized'] = top_20_pv_trend['Change'] / top_20_pv_trend['TotalStops']\n",
    "top_20_pv_trend['Average_Normalized'] = top_20_pv_trend['Average'] / top_20_pv_trend['TotalStops']\n",
    "\n",
    "# Calculate z-score for 'Change_Normalized' across the entire dataset\n",
    "change_mean = top_20_pv_trend['Change_Normalized'].mean()\n",
    "change_std = top_20_pv_trend['Change_Normalized'].std()\n",
    "top_20_pv_trend['Change_Standardized'] = (top_20_pv_trend['Change_Normalized'] - change_mean) / change_std\n",
    "\n",
    "# Adjust signs based on 'Trend'\n",
    "top_20_pv_trend.loc[top_20_pv_trend['Trend'] == 'Decreasing', 'Change_Standardized'] = \\\n",
    "    -np.abs(top_20_pv_trend.loc[top_20_pv_trend['Trend'] == 'Decreasing', 'Change_Standardized'])\n",
    "\n",
    "top_20_pv_trend.loc[top_20_pv_trend['Trend'] == 'Increasing', 'Change_Standardized'] = \\\n",
    "    np.abs(top_20_pv_trend.loc[top_20_pv_trend['Trend'] == 'Increasing', 'Change_Standardized'])\n",
    "\n",
    "# Scale 'Average_Normalized' to the range 0-1 for the entire dataset\n",
    "scaler = MinMaxScaler(feature_range=(0, 1))\n",
    "top_20_pv_trend['Average_Standardized'] = scaler.fit_transform(top_20_pv_trend[['Average_Normalized']])\n",
    "\n",
    "top_20_pv_trend = top_20_pv_trend[['ServiceNo', 'TotalStops', 'WeightedParallelScore', 'TrainLineParallelData', \n",
    "                                   'Trend_Binary', 'Change_Standardized', 'Average_Standardized']]\n",
    "\n",
    "# Preview the resulting DataFrame\n",
    "print(top_20_pv_trend)"
   ]
  },
  {
   "cell_type": "markdown",
   "id": "726a1814-b594-4316-acb8-6ffb3d6e8727",
   "metadata": {},
   "source": [
    "## Count of alternative bus routes"
   ]
  },
  {
   "cell_type": "code",
   "execution_count": 9,
   "id": "f03b4299-59d9-4137-9805-b51a69f52542",
   "metadata": {},
   "outputs": [],
   "source": [
    "%run get_bus_info_function.ipynb\n",
    "bus_services_df = get_bus_info(\"https://datamall2.mytransport.sg/ltaodataservice/BusServices\", api_key)\n",
    "bus_routes_df = get_bus_info(\"https://datamall2.mytransport.sg/ltaodataservice/BusRoutes\", api_key)\n",
    "bus_stops_df = get_bus_info(\"https://datamall2.mytransport.sg/ltaodataservice/BusStops\", api_key)"
   ]
  },
  {
   "cell_type": "code",
   "execution_count": 12,
   "id": "1f6bc737-5faf-4d19-80e4-6049f3e62b6e",
   "metadata": {},
   "outputs": [
    {
     "name": "stdout",
     "output_type": "stream",
     "text": [
      "  ServiceNo                                    OrderedBusStops\n",
      "0        10  [75009, 75009, 76059, 76059, 76069, 76069, 962...\n",
      "1       100  [66009, 66009, 62129, 62129, 62119, 62119, 610...\n",
      "2      100A  [66009, 62129, 62119, 61049, 61039, 70069, 700...\n",
      "3       101  [66009, 62131, 62141, 63011, 63021, 63031, 630...\n",
      "4       102  [64009, 64041, 64051, 64061, 64401, 67739, 677...\n"
     ]
    }
   ],
   "source": [
    "# Filter for Trunk Services\n",
    "trunk_buses_df = bus_services_df[bus_services_df['Category'] == \"TRUNK\"]\n",
    "trunk_buses_df = trunk_buses_df['ServiceNo']\n",
    "trunk_bus_routes_df = pd.merge(trunk_buses_df, bus_routes_df, on='ServiceNo', how='inner')\n",
    "\n",
    "# Select relevant columns\n",
    "trunk_bus_routes_df = trunk_bus_routes_df[['ServiceNo', 'Direction', 'StopSequence', 'BusStopCode']]\n",
    "\n",
    "# Sort the trunk bus routes by Direction and StopSequence\n",
    "trunk_bus_routes_df.sort_values(by=['ServiceNo', 'Direction', 'StopSequence'], inplace=True)\n",
    "\n",
    "# Group by ServiceNo and create an ordered list of BusStopCodes for each service\n",
    "ordered_stops = trunk_bus_routes_df.groupby('ServiceNo').agg(\n",
    "    OrderedBusStops=('BusStopCode', lambda x: list(x))\n",
    ").reset_index()\n",
    "\n",
    "# Display the result\n",
    "print(ordered_stops.head())"
   ]
  }
 ],
 "metadata": {
  "kernelspec": {
   "display_name": "Python 3 (ipykernel)",
   "language": "python",
   "name": "python3"
  },
  "language_info": {
   "codemirror_mode": {
    "name": "ipython",
    "version": 3
   },
   "file_extension": ".py",
   "mimetype": "text/x-python",
   "name": "python",
   "nbconvert_exporter": "python",
   "pygments_lexer": "ipython3",
   "version": "3.9.9"
  }
 },
 "nbformat": 4,
 "nbformat_minor": 5
}
